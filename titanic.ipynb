{
 "cells": [
  {
   "cell_type": "markdown",
   "id": "41090fe4",
   "metadata": {},
   "source": [
    "**Titanic - Machine Learning from Disaster**\n",
    "\n",
    "O desafio aqui será conseguir a maior acurácia possível da quantidade de passageiros que sobreviverão ao dessastre do Titanic. Para isso estamos utilizando a base de dados **\" Titanic - Machine Learning from Disaster\"** retirada diretamente do kaggle em que o link é: https://www.kaggle.com/competitions/titanic/overview"
   ]
  },
  {
   "cell_type": "markdown",
   "id": "34541735",
   "metadata": {
    "heading_collapsed": true
   },
   "source": [
    "# Imports"
   ]
  },
  {
   "cell_type": "code",
   "execution_count": 1,
   "id": "c448bcce",
   "metadata": {
    "ExecuteTime": {
     "end_time": "2024-05-20T19:18:04.868044Z",
     "start_time": "2024-05-20T19:16:39.225486Z"
    },
    "hidden": true
   },
   "outputs": [],
   "source": [
    "import numpy   as np\n",
    "import pandas  as pd\n",
    "import seaborn as sns\n",
    "\n",
    "import matplotlib.pyplot as plt\n",
    "\n",
    "from ydata_profiling import ProfileReport\n",
    "\n",
    "from sklearn                 import tree\n",
    "from sklearn.metrics         import accuracy_score\n",
    "from sklearn.metrics         import confusion_matrix\n",
    "from sklearn.ensemble        import RandomForestClassifier\n",
    "from sklearn.neighbors       import KNeighborsClassifier\n",
    "from sklearn.linear_model    import LogisticRegression\n",
    "from sklearn.preprocessing   import RobustScaler\n",
    "from sklearn.preprocessing   import OneHotEncoder\n",
    "from sklearn.preprocessing   import OrdinalEncoder\n",
    "from sklearn.neural_network  import MLPClassifier\n",
    "from sklearn.model_selection import KFold\n",
    "from sklearn.model_selection import GridSearchCV\n",
    "from sklearn.model_selection import train_test_split\n",
    "\n",
    "import warnings\n",
    "warnings.filterwarnings('ignore')"
   ]
  },
  {
   "cell_type": "markdown",
   "id": "d2c09011",
   "metadata": {
    "heading_collapsed": true
   },
   "source": [
    "# ETAPA 1: Primeiro Modelo"
   ]
  },
  {
   "cell_type": "markdown",
   "id": "80fdd08b",
   "metadata": {
    "hidden": true
   },
   "source": [
    "## Análise inicial da base de Treino"
   ]
  },
  {
   "cell_type": "markdown",
   "id": "58e88381",
   "metadata": {
    "hidden": true
   },
   "source": [
    "### Vizualização dos Dados de Treino"
   ]
  },
  {
   "cell_type": "code",
   "execution_count": 2,
   "id": "c5120cf7",
   "metadata": {
    "ExecuteTime": {
     "end_time": "2024-05-15T10:33:40.207943Z",
     "start_time": "2024-05-15T10:33:39.434537Z"
    },
    "hidden": true
   },
   "outputs": [
    {
     "data": {
      "text/html": [
       "<div>\n",
       "<style scoped>\n",
       "    .dataframe tbody tr th:only-of-type {\n",
       "        vertical-align: middle;\n",
       "    }\n",
       "\n",
       "    .dataframe tbody tr th {\n",
       "        vertical-align: top;\n",
       "    }\n",
       "\n",
       "    .dataframe thead th {\n",
       "        text-align: right;\n",
       "    }\n",
       "</style>\n",
       "<table border=\"1\" class=\"dataframe\">\n",
       "  <thead>\n",
       "    <tr style=\"text-align: right;\">\n",
       "      <th></th>\n",
       "      <th>PassengerId</th>\n",
       "      <th>Survived</th>\n",
       "      <th>Pclass</th>\n",
       "      <th>Name</th>\n",
       "      <th>Sex</th>\n",
       "      <th>Age</th>\n",
       "      <th>SibSp</th>\n",
       "      <th>Parch</th>\n",
       "      <th>Ticket</th>\n",
       "      <th>Fare</th>\n",
       "      <th>Cabin</th>\n",
       "      <th>Embarked</th>\n",
       "    </tr>\n",
       "  </thead>\n",
       "  <tbody>\n",
       "    <tr>\n",
       "      <th>0</th>\n",
       "      <td>1</td>\n",
       "      <td>0</td>\n",
       "      <td>3</td>\n",
       "      <td>Braund, Mr. Owen Harris</td>\n",
       "      <td>male</td>\n",
       "      <td>22.0</td>\n",
       "      <td>1</td>\n",
       "      <td>0</td>\n",
       "      <td>A/5 21171</td>\n",
       "      <td>7.2500</td>\n",
       "      <td>NaN</td>\n",
       "      <td>S</td>\n",
       "    </tr>\n",
       "    <tr>\n",
       "      <th>1</th>\n",
       "      <td>2</td>\n",
       "      <td>1</td>\n",
       "      <td>1</td>\n",
       "      <td>Cumings, Mrs. John Bradley (Florence Briggs Th...</td>\n",
       "      <td>female</td>\n",
       "      <td>38.0</td>\n",
       "      <td>1</td>\n",
       "      <td>0</td>\n",
       "      <td>PC 17599</td>\n",
       "      <td>71.2833</td>\n",
       "      <td>C85</td>\n",
       "      <td>C</td>\n",
       "    </tr>\n",
       "    <tr>\n",
       "      <th>2</th>\n",
       "      <td>3</td>\n",
       "      <td>1</td>\n",
       "      <td>3</td>\n",
       "      <td>Heikkinen, Miss. Laina</td>\n",
       "      <td>female</td>\n",
       "      <td>26.0</td>\n",
       "      <td>0</td>\n",
       "      <td>0</td>\n",
       "      <td>STON/O2. 3101282</td>\n",
       "      <td>7.9250</td>\n",
       "      <td>NaN</td>\n",
       "      <td>S</td>\n",
       "    </tr>\n",
       "    <tr>\n",
       "      <th>3</th>\n",
       "      <td>4</td>\n",
       "      <td>1</td>\n",
       "      <td>1</td>\n",
       "      <td>Futrelle, Mrs. Jacques Heath (Lily May Peel)</td>\n",
       "      <td>female</td>\n",
       "      <td>35.0</td>\n",
       "      <td>1</td>\n",
       "      <td>0</td>\n",
       "      <td>113803</td>\n",
       "      <td>53.1000</td>\n",
       "      <td>C123</td>\n",
       "      <td>S</td>\n",
       "    </tr>\n",
       "    <tr>\n",
       "      <th>4</th>\n",
       "      <td>5</td>\n",
       "      <td>0</td>\n",
       "      <td>3</td>\n",
       "      <td>Allen, Mr. William Henry</td>\n",
       "      <td>male</td>\n",
       "      <td>35.0</td>\n",
       "      <td>0</td>\n",
       "      <td>0</td>\n",
       "      <td>373450</td>\n",
       "      <td>8.0500</td>\n",
       "      <td>NaN</td>\n",
       "      <td>S</td>\n",
       "    </tr>\n",
       "  </tbody>\n",
       "</table>\n",
       "</div>"
      ],
      "text/plain": [
       "   PassengerId  Survived  Pclass  \\\n",
       "0            1         0       3   \n",
       "1            2         1       1   \n",
       "2            3         1       3   \n",
       "3            4         1       1   \n",
       "4            5         0       3   \n",
       "\n",
       "                                                Name     Sex   Age  SibSp  \\\n",
       "0                            Braund, Mr. Owen Harris    male  22.0      1   \n",
       "1  Cumings, Mrs. John Bradley (Florence Briggs Th...  female  38.0      1   \n",
       "2                             Heikkinen, Miss. Laina  female  26.0      0   \n",
       "3       Futrelle, Mrs. Jacques Heath (Lily May Peel)  female  35.0      1   \n",
       "4                           Allen, Mr. William Henry    male  35.0      0   \n",
       "\n",
       "   Parch            Ticket     Fare Cabin Embarked  \n",
       "0      0         A/5 21171   7.2500   NaN        S  \n",
       "1      0          PC 17599  71.2833   C85        C  \n",
       "2      0  STON/O2. 3101282   7.9250   NaN        S  \n",
       "3      0            113803  53.1000  C123        S  \n",
       "4      0            373450   8.0500   NaN        S  "
      ]
     },
     "execution_count": 2,
     "metadata": {},
     "output_type": "execute_result"
    }
   ],
   "source": [
    "treino = pd.read_csv('train.csv')\n",
    "treino.head()"
   ]
  },
  {
   "cell_type": "markdown",
   "id": "530ae1bd",
   "metadata": {
    "hidden": true
   },
   "source": [
    "### Analisando os dados inicialmente pelo ydata_profiling"
   ]
  },
  {
   "cell_type": "code",
   "execution_count": 3,
   "id": "b79e1639",
   "metadata": {
    "ExecuteTime": {
     "end_time": "2024-05-15T10:33:40.218675Z",
     "start_time": "2024-05-15T10:33:40.212929Z"
    },
    "hidden": true
   },
   "outputs": [],
   "source": [
    "profile = ProfileReport(treino, title = 'titanic_treino')\n",
    "profile.to_file('titanic_treino.html')"
   ]
  },
  {
   "cell_type": "markdown",
   "id": "9aaebe7c",
   "metadata": {
    "hidden": true
   },
   "source": [
    "### Analisando a base de treino"
   ]
  },
  {
   "cell_type": "code",
   "execution_count": 4,
   "id": "578b5a0b",
   "metadata": {
    "ExecuteTime": {
     "end_time": "2024-05-15T10:33:40.572640Z",
     "start_time": "2024-05-15T10:33:40.223659Z"
    },
    "hidden": true
   },
   "outputs": [
    {
     "name": "stdout",
     "output_type": "stream",
     "text": [
      "<class 'pandas.core.frame.DataFrame'>\n",
      "RangeIndex: 891 entries, 0 to 890\n",
      "Data columns (total 12 columns):\n",
      " #   Column       Non-Null Count  Dtype  \n",
      "---  ------       --------------  -----  \n",
      " 0   PassengerId  891 non-null    int64  \n",
      " 1   Survived     891 non-null    int64  \n",
      " 2   Pclass       891 non-null    int64  \n",
      " 3   Name         891 non-null    object \n",
      " 4   Sex          891 non-null    object \n",
      " 5   Age          714 non-null    float64\n",
      " 6   SibSp        891 non-null    int64  \n",
      " 7   Parch        891 non-null    int64  \n",
      " 8   Ticket       891 non-null    object \n",
      " 9   Fare         891 non-null    float64\n",
      " 10  Cabin        204 non-null    object \n",
      " 11  Embarked     889 non-null    object \n",
      "dtypes: float64(2), int64(5), object(5)\n",
      "memory usage: 83.7+ KB\n"
     ]
    }
   ],
   "source": [
    "# Informação geral sobre cada coluna da base de dados\n",
    "treino.info()"
   ]
  },
  {
   "cell_type": "code",
   "execution_count": 5,
   "id": "45c6454a",
   "metadata": {
    "ExecuteTime": {
     "end_time": "2024-05-15T10:33:40.591359Z",
     "start_time": "2024-05-15T10:33:40.579619Z"
    },
    "hidden": true
   },
   "outputs": [
    {
     "data": {
      "text/plain": [
       "PassengerId      int64\n",
       "Survived         int64\n",
       "Pclass           int64\n",
       "Name            object\n",
       "Sex             object\n",
       "Age            float64\n",
       "SibSp            int64\n",
       "Parch            int64\n",
       "Ticket          object\n",
       "Fare           float64\n",
       "Cabin           object\n",
       "Embarked        object\n",
       "dtype: object"
      ]
     },
     "execution_count": 5,
     "metadata": {},
     "output_type": "execute_result"
    }
   ],
   "source": [
    "# tipo de cada coluna\n",
    "treino.dtypes"
   ]
  },
  {
   "cell_type": "code",
   "execution_count": 6,
   "id": "14c31515",
   "metadata": {
    "ExecuteTime": {
     "end_time": "2024-05-15T10:33:40.699863Z",
     "start_time": "2024-05-15T10:33:40.595347Z"
    },
    "hidden": true
   },
   "outputs": [
    {
     "data": {
      "text/plain": [
       "Cabin          687\n",
       "Age            177\n",
       "Embarked         2\n",
       "PassengerId      0\n",
       "Survived         0\n",
       "dtype: int64"
      ]
     },
     "execution_count": 6,
     "metadata": {},
     "output_type": "execute_result"
    }
   ],
   "source": [
    "# Valores nulos em cada coluna\n",
    "treino.isnull().sum().sort_values(ascending=False).head()"
   ]
  },
  {
   "cell_type": "code",
   "execution_count": 7,
   "id": "07bd0727",
   "metadata": {
    "ExecuteTime": {
     "end_time": "2024-05-15T10:33:40.781421Z",
     "start_time": "2024-05-15T10:33:40.704188Z"
    },
    "hidden": true
   },
   "outputs": [
    {
     "data": {
      "text/plain": [
       "(891, 12)"
      ]
     },
     "execution_count": 7,
     "metadata": {},
     "output_type": "execute_result"
    }
   ],
   "source": [
    "# Tamanho da base de treino\n",
    "treino.shape"
   ]
  },
  {
   "cell_type": "code",
   "execution_count": 8,
   "id": "ec9376fa",
   "metadata": {
    "ExecuteTime": {
     "end_time": "2024-05-15T10:33:40.953609Z",
     "start_time": "2024-05-15T10:33:40.784415Z"
    },
    "hidden": true
   },
   "outputs": [
    {
     "data": {
      "text/plain": [
       "PassengerId    891\n",
       "Name           891\n",
       "Ticket         681\n",
       "Fare           248\n",
       "Cabin          147\n",
       "Age             88\n",
       "SibSp            7\n",
       "Parch            7\n",
       "Pclass           3\n",
       "Embarked         3\n",
       "Survived         2\n",
       "Sex              2\n",
       "dtype: int64"
      ]
     },
     "execution_count": 8,
     "metadata": {},
     "output_type": "execute_result"
    }
   ],
   "source": [
    "# verificando a cardinalidade das colunas\n",
    "treino.nunique().sort_values(ascending=False)"
   ]
  },
  {
   "cell_type": "markdown",
   "id": "eb235879",
   "metadata": {
    "hidden": true
   },
   "source": [
    "**Colunas com alta cardionalidade como nome, número do ticket e até mesmo o código da cabine tornão o nosso modelo menos generalizado, logo vamos eliminar essas colunas mais adiante.**"
   ]
  },
  {
   "cell_type": "markdown",
   "id": "42c820b5",
   "metadata": {
    "hidden": true
   },
   "source": [
    "## Análise inicial da base de Teste"
   ]
  },
  {
   "cell_type": "markdown",
   "id": "17d26993",
   "metadata": {
    "hidden": true
   },
   "source": [
    "### Vizualização da base de Teste"
   ]
  },
  {
   "cell_type": "code",
   "execution_count": 9,
   "id": "fc0e1970",
   "metadata": {
    "ExecuteTime": {
     "end_time": "2024-05-15T10:33:41.157493Z",
     "start_time": "2024-05-15T10:33:40.955602Z"
    },
    "hidden": true
   },
   "outputs": [
    {
     "data": {
      "text/html": [
       "<div>\n",
       "<style scoped>\n",
       "    .dataframe tbody tr th:only-of-type {\n",
       "        vertical-align: middle;\n",
       "    }\n",
       "\n",
       "    .dataframe tbody tr th {\n",
       "        vertical-align: top;\n",
       "    }\n",
       "\n",
       "    .dataframe thead th {\n",
       "        text-align: right;\n",
       "    }\n",
       "</style>\n",
       "<table border=\"1\" class=\"dataframe\">\n",
       "  <thead>\n",
       "    <tr style=\"text-align: right;\">\n",
       "      <th></th>\n",
       "      <th>PassengerId</th>\n",
       "      <th>Pclass</th>\n",
       "      <th>Name</th>\n",
       "      <th>Sex</th>\n",
       "      <th>Age</th>\n",
       "      <th>SibSp</th>\n",
       "      <th>Parch</th>\n",
       "      <th>Ticket</th>\n",
       "      <th>Fare</th>\n",
       "      <th>Cabin</th>\n",
       "      <th>Embarked</th>\n",
       "    </tr>\n",
       "  </thead>\n",
       "  <tbody>\n",
       "    <tr>\n",
       "      <th>0</th>\n",
       "      <td>892</td>\n",
       "      <td>3</td>\n",
       "      <td>Kelly, Mr. James</td>\n",
       "      <td>male</td>\n",
       "      <td>34.5</td>\n",
       "      <td>0</td>\n",
       "      <td>0</td>\n",
       "      <td>330911</td>\n",
       "      <td>7.8292</td>\n",
       "      <td>NaN</td>\n",
       "      <td>Q</td>\n",
       "    </tr>\n",
       "    <tr>\n",
       "      <th>1</th>\n",
       "      <td>893</td>\n",
       "      <td>3</td>\n",
       "      <td>Wilkes, Mrs. James (Ellen Needs)</td>\n",
       "      <td>female</td>\n",
       "      <td>47.0</td>\n",
       "      <td>1</td>\n",
       "      <td>0</td>\n",
       "      <td>363272</td>\n",
       "      <td>7.0000</td>\n",
       "      <td>NaN</td>\n",
       "      <td>S</td>\n",
       "    </tr>\n",
       "    <tr>\n",
       "      <th>2</th>\n",
       "      <td>894</td>\n",
       "      <td>2</td>\n",
       "      <td>Myles, Mr. Thomas Francis</td>\n",
       "      <td>male</td>\n",
       "      <td>62.0</td>\n",
       "      <td>0</td>\n",
       "      <td>0</td>\n",
       "      <td>240276</td>\n",
       "      <td>9.6875</td>\n",
       "      <td>NaN</td>\n",
       "      <td>Q</td>\n",
       "    </tr>\n",
       "    <tr>\n",
       "      <th>3</th>\n",
       "      <td>895</td>\n",
       "      <td>3</td>\n",
       "      <td>Wirz, Mr. Albert</td>\n",
       "      <td>male</td>\n",
       "      <td>27.0</td>\n",
       "      <td>0</td>\n",
       "      <td>0</td>\n",
       "      <td>315154</td>\n",
       "      <td>8.6625</td>\n",
       "      <td>NaN</td>\n",
       "      <td>S</td>\n",
       "    </tr>\n",
       "    <tr>\n",
       "      <th>4</th>\n",
       "      <td>896</td>\n",
       "      <td>3</td>\n",
       "      <td>Hirvonen, Mrs. Alexander (Helga E Lindqvist)</td>\n",
       "      <td>female</td>\n",
       "      <td>22.0</td>\n",
       "      <td>1</td>\n",
       "      <td>1</td>\n",
       "      <td>3101298</td>\n",
       "      <td>12.2875</td>\n",
       "      <td>NaN</td>\n",
       "      <td>S</td>\n",
       "    </tr>\n",
       "  </tbody>\n",
       "</table>\n",
       "</div>"
      ],
      "text/plain": [
       "   PassengerId  Pclass                                          Name     Sex  \\\n",
       "0          892       3                              Kelly, Mr. James    male   \n",
       "1          893       3              Wilkes, Mrs. James (Ellen Needs)  female   \n",
       "2          894       2                     Myles, Mr. Thomas Francis    male   \n",
       "3          895       3                              Wirz, Mr. Albert    male   \n",
       "4          896       3  Hirvonen, Mrs. Alexander (Helga E Lindqvist)  female   \n",
       "\n",
       "    Age  SibSp  Parch   Ticket     Fare Cabin Embarked  \n",
       "0  34.5      0      0   330911   7.8292   NaN        Q  \n",
       "1  47.0      1      0   363272   7.0000   NaN        S  \n",
       "2  62.0      0      0   240276   9.6875   NaN        Q  \n",
       "3  27.0      0      0   315154   8.6625   NaN        S  \n",
       "4  22.0      1      1  3101298  12.2875   NaN        S  "
      ]
     },
     "execution_count": 9,
     "metadata": {},
     "output_type": "execute_result"
    }
   ],
   "source": [
    "# Importando a base de teste\n",
    "teste = pd.read_csv('test.csv')\n",
    "teste.head()"
   ]
  },
  {
   "cell_type": "markdown",
   "id": "fd5868cb",
   "metadata": {
    "hidden": true
   },
   "source": [
    "### Analizando a base de Teste"
   ]
  },
  {
   "cell_type": "code",
   "execution_count": 10,
   "id": "3561dd07",
   "metadata": {
    "ExecuteTime": {
     "end_time": "2024-05-15T10:33:41.206438Z",
     "start_time": "2024-05-15T10:33:41.163474Z"
    },
    "hidden": true
   },
   "outputs": [
    {
     "name": "stdout",
     "output_type": "stream",
     "text": [
      "<class 'pandas.core.frame.DataFrame'>\n",
      "RangeIndex: 418 entries, 0 to 417\n",
      "Data columns (total 11 columns):\n",
      " #   Column       Non-Null Count  Dtype  \n",
      "---  ------       --------------  -----  \n",
      " 0   PassengerId  418 non-null    int64  \n",
      " 1   Pclass       418 non-null    int64  \n",
      " 2   Name         418 non-null    object \n",
      " 3   Sex          418 non-null    object \n",
      " 4   Age          332 non-null    float64\n",
      " 5   SibSp        418 non-null    int64  \n",
      " 6   Parch        418 non-null    int64  \n",
      " 7   Ticket       418 non-null    object \n",
      " 8   Fare         417 non-null    float64\n",
      " 9   Cabin        91 non-null     object \n",
      " 10  Embarked     418 non-null    object \n",
      "dtypes: float64(2), int64(4), object(5)\n",
      "memory usage: 36.1+ KB\n"
     ]
    }
   ],
   "source": [
    "# Informações gerais\n",
    "teste.info()"
   ]
  },
  {
   "cell_type": "code",
   "execution_count": 11,
   "id": "736688cf",
   "metadata": {
    "ExecuteTime": {
     "end_time": "2024-05-15T10:33:41.404541Z",
     "start_time": "2024-05-15T10:33:41.209429Z"
    },
    "hidden": true
   },
   "outputs": [
    {
     "data": {
      "text/plain": [
       "Cabin          327\n",
       "Age             86\n",
       "Fare             1\n",
       "PassengerId      0\n",
       "Pclass           0\n",
       "dtype: int64"
      ]
     },
     "execution_count": 11,
     "metadata": {},
     "output_type": "execute_result"
    }
   ],
   "source": [
    "# Valores nulos\n",
    "teste.isnull().sum().sort_values(ascending=False).head()"
   ]
  },
  {
   "cell_type": "markdown",
   "id": "a2cbc5ac",
   "metadata": {
    "hidden": true
   },
   "source": [
    "**Observamos que existe uma coluna com valores nulos na base de teste que não existe na base de treino. Logo precisaremos tratar essa coluna da base de teste.**"
   ]
  },
  {
   "cell_type": "markdown",
   "id": "b3dbb73a",
   "metadata": {
    "hidden": true
   },
   "source": [
    "## Tratamento da Base de Dados"
   ]
  },
  {
   "cell_type": "code",
   "execution_count": 12,
   "id": "eab72634",
   "metadata": {
    "ExecuteTime": {
     "end_time": "2024-05-15T10:33:41.524455Z",
     "start_time": "2024-05-15T10:33:41.411518Z"
    },
    "hidden": true
   },
   "outputs": [],
   "source": [
    "# Eliminando as colunas com alta cardinalidade\n",
    "treino_2 = treino.drop(['Name', 'Ticket', 'Cabin'], axis=1)\n",
    "teste_2 = teste.drop(['Name', 'Ticket', 'Cabin'], axis=1)"
   ]
  },
  {
   "cell_type": "markdown",
   "id": "cf901eee",
   "metadata": {
    "hidden": true
   },
   "source": [
    "**Agora vamos tratar a coluna Age, pois não podemos deixar essa coluna com valores faltantes.\n",
    "Usaremos a média das idades dos passageiros como valores substitutos**"
   ]
  },
  {
   "cell_type": "code",
   "execution_count": 13,
   "id": "f195f54f",
   "metadata": {
    "ExecuteTime": {
     "end_time": "2024-05-15T10:33:41.664856Z",
     "start_time": "2024-05-15T10:33:41.526447Z"
    },
    "hidden": true
   },
   "outputs": [
    {
     "data": {
      "text/plain": [
       "29.69911764705882"
      ]
     },
     "execution_count": 13,
     "metadata": {},
     "output_type": "execute_result"
    }
   ],
   "source": [
    "# Verificando a média das idades da base de treino\n",
    "treino_2.Age.mean()"
   ]
  },
  {
   "cell_type": "code",
   "execution_count": 14,
   "id": "75d744e3",
   "metadata": {
    "ExecuteTime": {
     "end_time": "2024-05-15T10:33:41.821236Z",
     "start_time": "2024-05-15T10:33:41.667847Z"
    },
    "hidden": true
   },
   "outputs": [],
   "source": [
    "# Substituindo os valores nulos das idades pela média na base de treino\n",
    "treino_2.loc[treino_2.Age.isnull(),\"Age\"] = treino_2.Age.mean()"
   ]
  },
  {
   "cell_type": "code",
   "execution_count": 15,
   "id": "d397f499",
   "metadata": {
    "ExecuteTime": {
     "end_time": "2024-05-15T10:33:42.043764Z",
     "start_time": "2024-05-15T10:33:41.830571Z"
    },
    "hidden": true
   },
   "outputs": [],
   "source": [
    "#Fazendo o mesmo para a base de Teste\n",
    "teste_2.loc[teste_2.Age.isnull(),\"Age\"] = teste_2.Age.mean()"
   ]
  },
  {
   "cell_type": "markdown",
   "id": "746e3590",
   "metadata": {
    "hidden": true
   },
   "source": [
    "**Observamos ainda que temos na base de treino 2 valores nulos para  Embarked.**\n",
    "\n",
    "**E também temos 1 valor nulo em Fare na base de Teste.**\n",
    "\n",
    "**Vamos utilizar o valor da moda dessas colunas para substiruir os valores nulos em cada uma.**"
   ]
  },
  {
   "cell_type": "code",
   "execution_count": 16,
   "id": "abd3690d",
   "metadata": {
    "ExecuteTime": {
     "end_time": "2024-05-15T10:33:42.263174Z",
     "start_time": "2024-05-15T10:33:42.050736Z"
    },
    "hidden": true
   },
   "outputs": [
    {
     "data": {
      "text/plain": [
       "Embarked\n",
       "S    644\n",
       "C    168\n",
       "Q     77\n",
       "Name: count, dtype: int64"
      ]
     },
     "execution_count": 16,
     "metadata": {},
     "output_type": "execute_result"
    }
   ],
   "source": [
    "# Verificando a coluna de Embarked\n",
    "treino_2.Embarked.value_counts()"
   ]
  },
  {
   "cell_type": "code",
   "execution_count": 17,
   "id": "b68edc3a",
   "metadata": {
    "ExecuteTime": {
     "end_time": "2024-05-15T10:33:42.446308Z",
     "start_time": "2024-05-15T10:33:42.274076Z"
    },
    "hidden": true
   },
   "outputs": [],
   "source": [
    "# Selecionando a moda da coluna e substiruindo o valor vazio\n",
    "treino_2.loc[treino_2.Embarked.isnull(),\"Embarked\"] = treino_2.Embarked.mode()[0]"
   ]
  },
  {
   "cell_type": "code",
   "execution_count": 18,
   "id": "00391419",
   "metadata": {
    "ExecuteTime": {
     "end_time": "2024-05-15T10:33:42.676364Z",
     "start_time": "2024-05-15T10:33:42.457155Z"
    },
    "hidden": true
   },
   "outputs": [],
   "source": [
    "# Fazendo o mesmo para a coluna Fare na base de teste\n",
    "teste_2.loc[teste_2.Fare.isnull(),\"Fare\"] = teste_2.Fare.mode()[0]"
   ]
  },
  {
   "cell_type": "markdown",
   "id": "0eebed36",
   "metadata": {
    "hidden": true
   },
   "source": [
    "**Verificando novamente os valores vazios** "
   ]
  },
  {
   "cell_type": "code",
   "execution_count": 19,
   "id": "2ac59050",
   "metadata": {
    "ExecuteTime": {
     "end_time": "2024-05-15T10:33:42.867319Z",
     "start_time": "2024-05-15T10:33:42.687664Z"
    },
    "hidden": true
   },
   "outputs": [
    {
     "data": {
      "text/plain": [
       "PassengerId    0\n",
       "Survived       0\n",
       "Pclass         0\n",
       "Sex            0\n",
       "Age            0\n",
       "dtype: int64"
      ]
     },
     "execution_count": 19,
     "metadata": {},
     "output_type": "execute_result"
    }
   ],
   "source": [
    "treino_2.isnull().sum().sort_values(ascending=False).head()"
   ]
  },
  {
   "cell_type": "code",
   "execution_count": 20,
   "id": "aa363a86",
   "metadata": {
    "ExecuteTime": {
     "end_time": "2024-05-15T10:33:42.931528Z",
     "start_time": "2024-05-15T10:33:42.875820Z"
    },
    "hidden": true
   },
   "outputs": [
    {
     "data": {
      "text/plain": [
       "PassengerId    0\n",
       "Pclass         0\n",
       "Sex            0\n",
       "Age            0\n",
       "SibSp          0\n",
       "dtype: int64"
      ]
     },
     "execution_count": 20,
     "metadata": {},
     "output_type": "execute_result"
    }
   ],
   "source": [
    "teste_2.isnull().sum().sort_values(ascending=False).head()"
   ]
  },
  {
   "cell_type": "markdown",
   "id": "84a88a1a",
   "metadata": {
    "hidden": true
   },
   "source": [
    "## Separando os valores númericos da base de dados"
   ]
  },
  {
   "cell_type": "code",
   "execution_count": 21,
   "id": "594708bd",
   "metadata": {
    "ExecuteTime": {
     "end_time": "2024-05-15T10:33:43.111970Z",
     "start_time": "2024-05-15T10:33:42.934515Z"
    },
    "hidden": true
   },
   "outputs": [
    {
     "data": {
      "text/plain": [
       "Index(['PassengerId', 'Survived', 'Pclass', 'Age', 'SibSp', 'Parch', 'Fare'], dtype='object')"
      ]
     },
     "execution_count": 21,
     "metadata": {},
     "output_type": "execute_result"
    }
   ],
   "source": [
    "# Verificando as colunas que são númericas na base de treino\n",
    "cols_treino_nr = treino_2.columns[treino_2.dtypes != 'object']\n",
    "cols_treino_nr"
   ]
  },
  {
   "cell_type": "code",
   "execution_count": 22,
   "id": "b58f02c3",
   "metadata": {
    "ExecuteTime": {
     "end_time": "2024-05-15T10:33:43.187002Z",
     "start_time": "2024-05-15T10:33:43.119923Z"
    },
    "hidden": true
   },
   "outputs": [],
   "source": [
    "# Selecionando as colunas númericas para a bas ede treino\n",
    "treino_nr = treino_2.loc[:, cols_treino_nr]"
   ]
  },
  {
   "cell_type": "code",
   "execution_count": 23,
   "id": "af345cf7",
   "metadata": {
    "ExecuteTime": {
     "end_time": "2024-05-15T10:33:43.309478Z",
     "start_time": "2024-05-15T10:33:43.189044Z"
    },
    "hidden": true
   },
   "outputs": [],
   "source": [
    "# Repetindo o processo para a base de teste\n",
    "cols_teste_nr = teste_2.columns[teste_2.dtypes != 'object']\n",
    "\n",
    "teste_nr = teste_2.loc[:, cols_teste_nr]"
   ]
  },
  {
   "cell_type": "markdown",
   "id": "29de7a5b",
   "metadata": {
    "hidden": true
   },
   "source": [
    "## Modelo de Machine Learning"
   ]
  },
  {
   "cell_type": "markdown",
   "id": "98787377",
   "metadata": {
    "hidden": true
   },
   "source": [
    "**Agora vamos separar a nossa base de treino em duas partes uma para fazer o treinamento do modelo de machine learning e outra para testar/validar esse modelo. Para isso vamos excluir da base de treino as colunas 'Survived' que é a coluna com a resposta do problema e a coluna 'PassengerId' agora pois ele vai atrapalhar no treinamento do modelo mas ele é necessário na hora da submissão  do mesmo por isso não foi excluido anteriormente.**"
   ]
  },
  {
   "cell_type": "code",
   "execution_count": 24,
   "id": "5583f4e5",
   "metadata": {
    "ExecuteTime": {
     "end_time": "2024-05-15T10:33:43.449702Z",
     "start_time": "2024-05-15T10:33:43.315983Z"
    },
    "hidden": true
   },
   "outputs": [],
   "source": [
    "#Separando em x e y para o treino\n",
    "x = treino_nr.drop(['PassengerId','Survived'],axis=1)\n",
    "y = treino_2.Survived"
   ]
  },
  {
   "cell_type": "code",
   "execution_count": 25,
   "id": "a80619fa",
   "metadata": {
    "ExecuteTime": {
     "end_time": "2024-05-15T10:33:43.735357Z",
     "start_time": "2024-05-15T10:33:43.456327Z"
    },
    "hidden": true
   },
   "outputs": [],
   "source": [
    "# Separando em treino e validação\n",
    "x_train, x_val, y_train, y_val = train_test_split(x, y, test_size=0.33, random_state=42)"
   ]
  },
  {
   "cell_type": "markdown",
   "id": "623e1e4c",
   "metadata": {
    "hidden": true
   },
   "source": [
    "### Modelo: Árvore de classificação"
   ]
  },
  {
   "cell_type": "code",
   "execution_count": 26,
   "id": "4d24c436",
   "metadata": {
    "ExecuteTime": {
     "end_time": "2024-05-15T10:33:43.784731Z",
     "start_time": "2024-05-15T10:33:43.746932Z"
    },
    "hidden": true
   },
   "outputs": [],
   "source": [
    "#Criando o classificador\n",
    "clf_ac = tree.DecisionTreeClassifier(random_state=42)"
   ]
  },
  {
   "cell_type": "code",
   "execution_count": 27,
   "id": "6e974881",
   "metadata": {
    "ExecuteTime": {
     "end_time": "2024-05-15T10:33:44.084537Z",
     "start_time": "2024-05-15T10:33:43.787729Z"
    },
    "hidden": true
   },
   "outputs": [],
   "source": [
    "# Fazendo o fit com os dados\n",
    "clf_ac = clf_ac.fit(x_train,y_train)"
   ]
  },
  {
   "cell_type": "code",
   "execution_count": 28,
   "id": "e2815851",
   "metadata": {
    "ExecuteTime": {
     "end_time": "2024-05-15T10:33:44.133399Z",
     "start_time": "2024-05-15T10:33:44.119034Z"
    },
    "hidden": true
   },
   "outputs": [],
   "source": [
    "# Fazendo a Previsão\n",
    "y_pred_ac = clf_ac.predict(x_val)"
   ]
  },
  {
   "cell_type": "markdown",
   "id": "0febb2c7",
   "metadata": {
    "hidden": true
   },
   "source": [
    "### Modelo:KNeighborsClassifier"
   ]
  },
  {
   "cell_type": "code",
   "execution_count": 29,
   "id": "89ec177f",
   "metadata": {
    "ExecuteTime": {
     "end_time": "2024-05-15T10:33:44.256933Z",
     "start_time": "2024-05-15T10:33:44.137497Z"
    },
    "hidden": true
   },
   "outputs": [],
   "source": [
    "#Criando o classificador\n",
    "clf_knn = KNeighborsClassifier(n_neighbors=3)"
   ]
  },
  {
   "cell_type": "code",
   "execution_count": 30,
   "id": "9a634845",
   "metadata": {
    "ExecuteTime": {
     "end_time": "2024-05-15T10:33:44.395452Z",
     "start_time": "2024-05-15T10:33:44.269859Z"
    },
    "hidden": true
   },
   "outputs": [],
   "source": [
    "# Fazendo o fit com os dados\n",
    "clf_knn = clf_knn.fit(x_train,y_train)"
   ]
  },
  {
   "cell_type": "code",
   "execution_count": 31,
   "id": "ea152869",
   "metadata": {
    "ExecuteTime": {
     "end_time": "2024-05-15T10:33:44.663512Z",
     "start_time": "2024-05-15T10:33:44.397442Z"
    },
    "hidden": true
   },
   "outputs": [],
   "source": [
    "# Fazendo a Previsão\n",
    "y_pred_knn = clf_knn.predict(x_val)"
   ]
  },
  {
   "cell_type": "markdown",
   "id": "b8695212",
   "metadata": {
    "hidden": true
   },
   "source": [
    "### Modelo: Regressão Logística"
   ]
  },
  {
   "cell_type": "code",
   "execution_count": 32,
   "id": "b398b5c8",
   "metadata": {
    "ExecuteTime": {
     "end_time": "2024-05-15T10:33:44.740089Z",
     "start_time": "2024-05-15T10:33:44.666500Z"
    },
    "hidden": true
   },
   "outputs": [],
   "source": [
    "#Criando o classificador\n",
    "clf_rl = LogisticRegression(random_state=42)"
   ]
  },
  {
   "cell_type": "code",
   "execution_count": 33,
   "id": "3c6758fd",
   "metadata": {
    "ExecuteTime": {
     "end_time": "2024-05-15T10:33:46.107646Z",
     "start_time": "2024-05-15T10:33:44.745531Z"
    },
    "hidden": true
   },
   "outputs": [],
   "source": [
    "# Fazendo o fit com os dados\n",
    "clf_rl = clf_rl.fit(x_train,y_train)"
   ]
  },
  {
   "cell_type": "code",
   "execution_count": 34,
   "id": "81a5fd26",
   "metadata": {
    "ExecuteTime": {
     "end_time": "2024-05-15T10:33:46.116760Z",
     "start_time": "2024-05-15T10:33:46.109634Z"
    },
    "hidden": true
   },
   "outputs": [],
   "source": [
    "# Fazendo a Previsão\n",
    "y_pred_rl = clf_rl.predict(x_val)"
   ]
  },
  {
   "cell_type": "markdown",
   "id": "148b9457",
   "metadata": {
    "hidden": true
   },
   "source": [
    "### Avaliação dos modelos pela acurácia"
   ]
  },
  {
   "cell_type": "code",
   "execution_count": 35,
   "id": "2dca91ee",
   "metadata": {
    "ExecuteTime": {
     "end_time": "2024-05-15T10:33:46.271767Z",
     "start_time": "2024-05-15T10:33:46.121745Z"
    },
    "hidden": true
   },
   "outputs": [
    {
     "name": "stdout",
     "output_type": "stream",
     "text": [
      " A acurácia para o modelo da Árvore de Classificação é:  0.617\n",
      " A acurácia para o modelo do KNN é:  0.654\n",
      " A acurácia para o modelo da Regressão Logística é:  0.725\n"
     ]
    }
   ],
   "source": [
    "# Para a árvore\n",
    "print(f' A acurácia para o modelo da Árvore de Classificação é: {accuracy_score(y_val,y_pred_ac): .3f}')\n",
    "\n",
    "# Para  o KNN\n",
    "print(f' A acurácia para o modelo do KNN é: {accuracy_score(y_val,y_pred_knn): .3f}')\n",
    "\n",
    "# Para a Regressão Logística\n",
    "print(f' A acurácia para o modelo da Regressão Logística é: {accuracy_score(y_val,y_pred_rl): .3f}')"
   ]
  },
  {
   "cell_type": "markdown",
   "id": "d675ee9c",
   "metadata": {
    "hidden": true
   },
   "source": [
    "**Verificamos que  para esses modelos simples temos que a Regressão Logística tem amaior acurácia.**\n",
    "\n",
    "**Agora vamos utilizar a matriz de confusão para ver se qual modelo está errando menos**"
   ]
  },
  {
   "cell_type": "code",
   "execution_count": 36,
   "id": "83bb4e3d",
   "metadata": {
    "ExecuteTime": {
     "end_time": "2024-05-15T10:33:46.418167Z",
     "start_time": "2024-05-15T10:33:46.273761Z"
    },
    "hidden": true
   },
   "outputs": [
    {
     "data": {
      "text/plain": [
       "array([[125,  50],\n",
       "       [ 63,  57]], dtype=int64)"
      ]
     },
     "execution_count": 36,
     "metadata": {},
     "output_type": "execute_result"
    }
   ],
   "source": [
    "# Para a arvore\n",
    "confusion_matrix(y_val, y_pred_ac)"
   ]
  },
  {
   "cell_type": "code",
   "execution_count": 37,
   "id": "0e548e90",
   "metadata": {
    "ExecuteTime": {
     "end_time": "2024-05-15T10:33:46.552859Z",
     "start_time": "2024-05-15T10:33:46.421419Z"
    },
    "hidden": true
   },
   "outputs": [
    {
     "data": {
      "text/plain": [
       "array([[133,  42],\n",
       "       [ 60,  60]], dtype=int64)"
      ]
     },
     "execution_count": 37,
     "metadata": {},
     "output_type": "execute_result"
    }
   ],
   "source": [
    "# Para knn\n",
    "confusion_matrix(y_val, y_pred_knn)"
   ]
  },
  {
   "cell_type": "code",
   "execution_count": 38,
   "id": "a75b9c9b",
   "metadata": {
    "ExecuteTime": {
     "end_time": "2024-05-15T10:33:46.675483Z",
     "start_time": "2024-05-15T10:33:46.558839Z"
    },
    "hidden": true
   },
   "outputs": [
    {
     "data": {
      "text/plain": [
       "array([[156,  19],\n",
       "       [ 62,  58]], dtype=int64)"
      ]
     },
     "execution_count": 38,
     "metadata": {},
     "output_type": "execute_result"
    }
   ],
   "source": [
    "# Para a regressão\n",
    "confusion_matrix(y_val, y_pred_rl)"
   ]
  },
  {
   "cell_type": "markdown",
   "id": "eb6e8b22",
   "metadata": {
    "hidden": true
   },
   "source": [
    "**Verificamos também que a Regressão Logística para esse caso também erra menos. Logo vamos utilizá-lo para fazer a previsão dos dados de teste.**"
   ]
  },
  {
   "cell_type": "code",
   "execution_count": 39,
   "id": "73a39c8d",
   "metadata": {
    "ExecuteTime": {
     "end_time": "2024-05-15T10:33:46.840284Z",
     "start_time": "2024-05-15T10:33:46.682460Z"
    },
    "hidden": true
   },
   "outputs": [
    {
     "data": {
      "text/html": [
       "<div>\n",
       "<style scoped>\n",
       "    .dataframe tbody tr th:only-of-type {\n",
       "        vertical-align: middle;\n",
       "    }\n",
       "\n",
       "    .dataframe tbody tr th {\n",
       "        vertical-align: top;\n",
       "    }\n",
       "\n",
       "    .dataframe thead th {\n",
       "        text-align: right;\n",
       "    }\n",
       "</style>\n",
       "<table border=\"1\" class=\"dataframe\">\n",
       "  <thead>\n",
       "    <tr style=\"text-align: right;\">\n",
       "      <th></th>\n",
       "      <th>Pclass</th>\n",
       "      <th>Age</th>\n",
       "      <th>SibSp</th>\n",
       "      <th>Parch</th>\n",
       "      <th>Fare</th>\n",
       "    </tr>\n",
       "  </thead>\n",
       "  <tbody>\n",
       "    <tr>\n",
       "      <th>6</th>\n",
       "      <td>1</td>\n",
       "      <td>54.000000</td>\n",
       "      <td>0</td>\n",
       "      <td>0</td>\n",
       "      <td>51.8625</td>\n",
       "    </tr>\n",
       "    <tr>\n",
       "      <th>718</th>\n",
       "      <td>3</td>\n",
       "      <td>29.699118</td>\n",
       "      <td>0</td>\n",
       "      <td>0</td>\n",
       "      <td>15.5000</td>\n",
       "    </tr>\n",
       "    <tr>\n",
       "      <th>685</th>\n",
       "      <td>2</td>\n",
       "      <td>25.000000</td>\n",
       "      <td>1</td>\n",
       "      <td>2</td>\n",
       "      <td>41.5792</td>\n",
       "    </tr>\n",
       "    <tr>\n",
       "      <th>73</th>\n",
       "      <td>3</td>\n",
       "      <td>26.000000</td>\n",
       "      <td>1</td>\n",
       "      <td>0</td>\n",
       "      <td>14.4542</td>\n",
       "    </tr>\n",
       "    <tr>\n",
       "      <th>882</th>\n",
       "      <td>3</td>\n",
       "      <td>22.000000</td>\n",
       "      <td>0</td>\n",
       "      <td>0</td>\n",
       "      <td>10.5167</td>\n",
       "    </tr>\n",
       "  </tbody>\n",
       "</table>\n",
       "</div>"
      ],
      "text/plain": [
       "     Pclass        Age  SibSp  Parch     Fare\n",
       "6         1  54.000000      0      0  51.8625\n",
       "718       3  29.699118      0      0  15.5000\n",
       "685       2  25.000000      1      2  41.5792\n",
       "73        3  26.000000      1      0  14.4542\n",
       "882       3  22.000000      0      0  10.5167"
      ]
     },
     "execution_count": 39,
     "metadata": {},
     "output_type": "execute_result"
    }
   ],
   "source": [
    "# Vizualizando o x_train\n",
    "x_train.head()"
   ]
  },
  {
   "cell_type": "code",
   "execution_count": 40,
   "id": "2b18e428",
   "metadata": {
    "ExecuteTime": {
     "end_time": "2024-05-15T10:33:47.004739Z",
     "start_time": "2024-05-15T10:33:46.844264Z"
    },
    "hidden": true
   },
   "outputs": [
    {
     "data": {
      "text/html": [
       "<div>\n",
       "<style scoped>\n",
       "    .dataframe tbody tr th:only-of-type {\n",
       "        vertical-align: middle;\n",
       "    }\n",
       "\n",
       "    .dataframe tbody tr th {\n",
       "        vertical-align: top;\n",
       "    }\n",
       "\n",
       "    .dataframe thead th {\n",
       "        text-align: right;\n",
       "    }\n",
       "</style>\n",
       "<table border=\"1\" class=\"dataframe\">\n",
       "  <thead>\n",
       "    <tr style=\"text-align: right;\">\n",
       "      <th></th>\n",
       "      <th>PassengerId</th>\n",
       "      <th>Pclass</th>\n",
       "      <th>Age</th>\n",
       "      <th>SibSp</th>\n",
       "      <th>Parch</th>\n",
       "      <th>Fare</th>\n",
       "    </tr>\n",
       "  </thead>\n",
       "  <tbody>\n",
       "    <tr>\n",
       "      <th>0</th>\n",
       "      <td>892</td>\n",
       "      <td>3</td>\n",
       "      <td>34.5</td>\n",
       "      <td>0</td>\n",
       "      <td>0</td>\n",
       "      <td>7.8292</td>\n",
       "    </tr>\n",
       "    <tr>\n",
       "      <th>1</th>\n",
       "      <td>893</td>\n",
       "      <td>3</td>\n",
       "      <td>47.0</td>\n",
       "      <td>1</td>\n",
       "      <td>0</td>\n",
       "      <td>7.0000</td>\n",
       "    </tr>\n",
       "    <tr>\n",
       "      <th>2</th>\n",
       "      <td>894</td>\n",
       "      <td>2</td>\n",
       "      <td>62.0</td>\n",
       "      <td>0</td>\n",
       "      <td>0</td>\n",
       "      <td>9.6875</td>\n",
       "    </tr>\n",
       "    <tr>\n",
       "      <th>3</th>\n",
       "      <td>895</td>\n",
       "      <td>3</td>\n",
       "      <td>27.0</td>\n",
       "      <td>0</td>\n",
       "      <td>0</td>\n",
       "      <td>8.6625</td>\n",
       "    </tr>\n",
       "    <tr>\n",
       "      <th>4</th>\n",
       "      <td>896</td>\n",
       "      <td>3</td>\n",
       "      <td>22.0</td>\n",
       "      <td>1</td>\n",
       "      <td>1</td>\n",
       "      <td>12.2875</td>\n",
       "    </tr>\n",
       "  </tbody>\n",
       "</table>\n",
       "</div>"
      ],
      "text/plain": [
       "   PassengerId  Pclass   Age  SibSp  Parch     Fare\n",
       "0          892       3  34.5      0      0   7.8292\n",
       "1          893       3  47.0      1      0   7.0000\n",
       "2          894       2  62.0      0      0   9.6875\n",
       "3          895       3  27.0      0      0   8.6625\n",
       "4          896       3  22.0      1      1  12.2875"
      ]
     },
     "execution_count": 40,
     "metadata": {},
     "output_type": "execute_result"
    }
   ],
   "source": [
    "# Vizualizando a base de teste\n",
    "teste_nr.head()"
   ]
  },
  {
   "cell_type": "markdown",
   "id": "9967587e",
   "metadata": {
    "hidden": true
   },
   "source": [
    "**Podemos observar que a base de teste tem a coluna PassengerId a mais que a base de treino, logo vamos excluíla para as duas terem o mesmo formato**"
   ]
  },
  {
   "cell_type": "code",
   "execution_count": 41,
   "id": "b468c3e2",
   "metadata": {
    "ExecuteTime": {
     "end_time": "2024-05-15T10:33:47.225164Z",
     "start_time": "2024-05-15T10:33:47.011470Z"
    },
    "hidden": true
   },
   "outputs": [],
   "source": [
    "# Deixando as duas bases de dados iguais\n",
    "X_teste = teste_nr.drop(\"PassengerId\", axis=1)"
   ]
  },
  {
   "cell_type": "code",
   "execution_count": 42,
   "id": "a33f5917",
   "metadata": {
    "ExecuteTime": {
     "end_time": "2024-05-15T10:33:47.411093Z",
     "start_time": "2024-05-15T10:33:47.236027Z"
    },
    "hidden": true
   },
   "outputs": [],
   "source": [
    "# Fazendo a previsão com o modelo\n",
    "y_pred = clf_rl.predict(X_teste)"
   ]
  },
  {
   "cell_type": "code",
   "execution_count": 43,
   "id": "27f97efc",
   "metadata": {
    "ExecuteTime": {
     "end_time": "2024-05-15T10:33:47.512854Z",
     "start_time": "2024-05-15T10:33:47.422122Z"
    },
    "hidden": true
   },
   "outputs": [],
   "source": [
    "# Ciando o arquivo para a submissão no kaggle\n",
    "submit_1 = teste_2.copy()\n",
    "submit_1['Survived'] = y_pred\n",
    "submit_1 = submit_1[[\"PassengerId\",'Survived']]"
   ]
  },
  {
   "cell_type": "code",
   "execution_count": 44,
   "id": "5a353658",
   "metadata": {
    "ExecuteTime": {
     "end_time": "2024-05-15T10:33:47.657249Z",
     "start_time": "2024-05-15T10:33:47.514573Z"
    },
    "hidden": true
   },
   "outputs": [
    {
     "data": {
      "text/html": [
       "<div>\n",
       "<style scoped>\n",
       "    .dataframe tbody tr th:only-of-type {\n",
       "        vertical-align: middle;\n",
       "    }\n",
       "\n",
       "    .dataframe tbody tr th {\n",
       "        vertical-align: top;\n",
       "    }\n",
       "\n",
       "    .dataframe thead th {\n",
       "        text-align: right;\n",
       "    }\n",
       "</style>\n",
       "<table border=\"1\" class=\"dataframe\">\n",
       "  <thead>\n",
       "    <tr style=\"text-align: right;\">\n",
       "      <th></th>\n",
       "      <th>PassengerId</th>\n",
       "      <th>Survived</th>\n",
       "    </tr>\n",
       "  </thead>\n",
       "  <tbody>\n",
       "    <tr>\n",
       "      <th>0</th>\n",
       "      <td>892</td>\n",
       "      <td>0</td>\n",
       "    </tr>\n",
       "    <tr>\n",
       "      <th>1</th>\n",
       "      <td>893</td>\n",
       "      <td>0</td>\n",
       "    </tr>\n",
       "    <tr>\n",
       "      <th>2</th>\n",
       "      <td>894</td>\n",
       "      <td>0</td>\n",
       "    </tr>\n",
       "    <tr>\n",
       "      <th>3</th>\n",
       "      <td>895</td>\n",
       "      <td>0</td>\n",
       "    </tr>\n",
       "    <tr>\n",
       "      <th>4</th>\n",
       "      <td>896</td>\n",
       "      <td>0</td>\n",
       "    </tr>\n",
       "    <tr>\n",
       "      <th>...</th>\n",
       "      <td>...</td>\n",
       "      <td>...</td>\n",
       "    </tr>\n",
       "    <tr>\n",
       "      <th>413</th>\n",
       "      <td>1305</td>\n",
       "      <td>0</td>\n",
       "    </tr>\n",
       "    <tr>\n",
       "      <th>414</th>\n",
       "      <td>1306</td>\n",
       "      <td>1</td>\n",
       "    </tr>\n",
       "    <tr>\n",
       "      <th>415</th>\n",
       "      <td>1307</td>\n",
       "      <td>0</td>\n",
       "    </tr>\n",
       "    <tr>\n",
       "      <th>416</th>\n",
       "      <td>1308</td>\n",
       "      <td>0</td>\n",
       "    </tr>\n",
       "    <tr>\n",
       "      <th>417</th>\n",
       "      <td>1309</td>\n",
       "      <td>0</td>\n",
       "    </tr>\n",
       "  </tbody>\n",
       "</table>\n",
       "<p>418 rows × 2 columns</p>\n",
       "</div>"
      ],
      "text/plain": [
       "     PassengerId  Survived\n",
       "0            892         0\n",
       "1            893         0\n",
       "2            894         0\n",
       "3            895         0\n",
       "4            896         0\n",
       "..           ...       ...\n",
       "413         1305         0\n",
       "414         1306         1\n",
       "415         1307         0\n",
       "416         1308         0\n",
       "417         1309         0\n",
       "\n",
       "[418 rows x 2 columns]"
      ]
     },
     "execution_count": 44,
     "metadata": {},
     "output_type": "execute_result"
    }
   ],
   "source": [
    "# Vizualização do arquivo\n",
    "submit_1"
   ]
  },
  {
   "cell_type": "code",
   "execution_count": 172,
   "id": "74cc15d0",
   "metadata": {
    "ExecuteTime": {
     "end_time": "2024-05-15T14:05:47.561237Z",
     "start_time": "2024-05-15T14:05:33.668966Z"
    },
    "hidden": true
   },
   "outputs": [],
   "source": [
    "# Salvando a base para a submissão\n",
    "submit_1.to_csv('submit_1.csv',index=False)"
   ]
  },
  {
   "cell_type": "markdown",
   "id": "95ebd718",
   "metadata": {
    "hidden": true
   },
   "source": [
    "**Este é o Resultado inicial da nossa análise com uma acuracia de 66,7%.**\n",
    "\n",
    "**Agora vamos tentar melhorar esse modelo para chegar na maior acurácia possível, primeiramente tratando as colunas de texto das nossas bases de dados.**"
   ]
  },
  {
   "cell_type": "markdown",
   "id": "0038ff0c",
   "metadata": {
    "heading_collapsed": true
   },
   "source": [
    "# ETAPA 2: Tratando as Variáveis de Texto"
   ]
  },
  {
   "cell_type": "code",
   "execution_count": 45,
   "id": "4d0046e0",
   "metadata": {
    "ExecuteTime": {
     "end_time": "2024-05-15T10:33:47.802512Z",
     "start_time": "2024-05-15T10:33:47.661238Z"
    },
    "hidden": true
   },
   "outputs": [],
   "source": [
    "# Salvando as bases de dados da etapa anterior no caso de precisarmos dela no futuro\n",
    "treino_3 = treino_2.copy()\n",
    "teste_3 = teste_2.copy()"
   ]
  },
  {
   "cell_type": "markdown",
   "id": "2b1f4f1f",
   "metadata": {
    "hidden": true
   },
   "source": [
    "## Primeiramente vamos incorporar as colunas de texto na nossa base de treino para tentar melhorar o modelo"
   ]
  },
  {
   "cell_type": "code",
   "execution_count": 46,
   "id": "8adb610b",
   "metadata": {
    "ExecuteTime": {
     "end_time": "2024-05-15T10:33:47.923320Z",
     "start_time": "2024-05-15T10:33:47.806480Z"
    },
    "hidden": true
   },
   "outputs": [
    {
     "data": {
      "text/plain": [
       "Index(['Sex', 'Embarked'], dtype='object')"
      ]
     },
     "execution_count": 46,
     "metadata": {},
     "output_type": "execute_result"
    }
   ],
   "source": [
    "# Verificando as colunas de texto na base de treino\n",
    "treino_3.columns[treino_3.dtypes == 'object']"
   ]
  },
  {
   "cell_type": "code",
   "execution_count": 47,
   "id": "31753b23",
   "metadata": {
    "ExecuteTime": {
     "end_time": "2024-05-15T10:33:48.041250Z",
     "start_time": "2024-05-15T10:33:47.926311Z"
    },
    "hidden": true
   },
   "outputs": [
    {
     "data": {
      "text/plain": [
       "Sex\n",
       "male      577\n",
       "female    314\n",
       "Name: count, dtype: int64"
      ]
     },
     "execution_count": 47,
     "metadata": {},
     "output_type": "execute_result"
    }
   ],
   "source": [
    "# verificando os valores da coluna Sex\n",
    "treino_3.Sex.value_counts()"
   ]
  },
  {
   "cell_type": "code",
   "execution_count": 48,
   "id": "55d2e5e5",
   "metadata": {
    "ExecuteTime": {
     "end_time": "2024-05-15T10:33:48.160294Z",
     "start_time": "2024-05-15T10:33:48.044241Z"
    },
    "hidden": true
   },
   "outputs": [
    {
     "data": {
      "text/plain": [
       "Embarked\n",
       "S    646\n",
       "C    168\n",
       "Q     77\n",
       "Name: count, dtype: int64"
      ]
     },
     "execution_count": 48,
     "metadata": {},
     "output_type": "execute_result"
    }
   ],
   "source": [
    "# verificando os valores da coluna Embarked\n",
    "treino_3.Embarked.value_counts()"
   ]
  },
  {
   "cell_type": "markdown",
   "id": "857b241e",
   "metadata": {
    "hidden": true
   },
   "source": [
    "**Para tratar a coluna Sex, podemos criar uma nova coluna chamada \"Male_Check\" que vai receber 1 de o gênero do passageiro for masculino e 0 se for feminino**"
   ]
  },
  {
   "cell_type": "code",
   "execution_count": 49,
   "id": "5645ab94",
   "metadata": {
    "ExecuteTime": {
     "end_time": "2024-05-15T10:33:48.337061Z",
     "start_time": "2024-05-15T10:33:48.164276Z"
    },
    "hidden": true
   },
   "outputs": [],
   "source": [
    "# Usando uma Lambda funcition para fazer o tratamento\n",
    "treino_3[\"MaleCheck\"] = treino_3.Sex.apply(lambda x: 1 if x == 'male' else 0)"
   ]
  },
  {
   "cell_type": "code",
   "execution_count": 50,
   "id": "a4f5ede0",
   "metadata": {
    "ExecuteTime": {
     "end_time": "2024-05-15T10:33:48.617267Z",
     "start_time": "2024-05-15T10:33:48.346031Z"
    },
    "hidden": true
   },
   "outputs": [
    {
     "data": {
      "text/plain": [
       "Sex     MaleCheck\n",
       "male    1            577\n",
       "female  0            314\n",
       "Name: count, dtype: int64"
      ]
     },
     "execution_count": 50,
     "metadata": {},
     "output_type": "execute_result"
    }
   ],
   "source": [
    "# Verificando os valores\n",
    "treino_3[['Sex', 'MaleCheck']].value_counts()"
   ]
  },
  {
   "cell_type": "markdown",
   "id": "c9cfecca",
   "metadata": {
    "hidden": true
   },
   "source": [
    "**Agora precisamos fazer o mesmo tratamento para a base de teste**"
   ]
  },
  {
   "cell_type": "code",
   "execution_count": 51,
   "id": "510f44af",
   "metadata": {
    "ExecuteTime": {
     "end_time": "2024-05-15T10:33:48.772443Z",
     "start_time": "2024-05-15T10:33:48.623507Z"
    },
    "hidden": true
   },
   "outputs": [
    {
     "data": {
      "text/plain": [
       "Sex     MaleCheck\n",
       "male    1            266\n",
       "female  0            152\n",
       "Name: count, dtype: int64"
      ]
     },
     "execution_count": 51,
     "metadata": {},
     "output_type": "execute_result"
    }
   ],
   "source": [
    "teste_3[\"MaleCheck\"] = teste_3.Sex.apply(lambda x: 1 if x == 'male' else 0)\n",
    "\n",
    "teste_3[['Sex', 'MaleCheck']].value_counts()"
   ]
  },
  {
   "cell_type": "markdown",
   "id": "18df906e",
   "metadata": {
    "hidden": true
   },
   "source": [
    "**Para tratar a coluna Embarked vamos utilizar o método OneHotEnconder que irá cria uma nova coluna para cada um dos rótulos da coluna original**"
   ]
  },
  {
   "cell_type": "code",
   "execution_count": 52,
   "id": "7d95fad2",
   "metadata": {
    "ExecuteTime": {
     "end_time": "2024-05-15T10:33:48.930247Z",
     "start_time": "2024-05-15T10:33:48.775428Z"
    },
    "hidden": true
   },
   "outputs": [],
   "source": [
    "# Ciando o Encoder\n",
    "ohe = OneHotEncoder(handle_unknown = 'ignore')"
   ]
  },
  {
   "cell_type": "code",
   "execution_count": 53,
   "id": "42f7dc8b",
   "metadata": {
    "ExecuteTime": {
     "end_time": "2024-05-15T10:33:49.200181Z",
     "start_time": "2024-05-15T10:33:48.932275Z"
    },
    "hidden": true
   },
   "outputs": [],
   "source": [
    "# Fazendo o fit com os dados\n",
    "ohe = ohe.fit(treino_3[['Embarked']])"
   ]
  },
  {
   "cell_type": "code",
   "execution_count": 54,
   "id": "18a46533",
   "metadata": {
    "ExecuteTime": {
     "end_time": "2024-05-15T10:33:49.447884Z",
     "start_time": "2024-05-15T10:33:49.206152Z"
    },
    "hidden": true
   },
   "outputs": [
    {
     "data": {
      "text/plain": [
       "array([[0., 0., 1.],\n",
       "       [1., 0., 0.],\n",
       "       [0., 0., 1.],\n",
       "       ...,\n",
       "       [0., 0., 1.],\n",
       "       [1., 0., 0.],\n",
       "       [0., 1., 0.]])"
      ]
     },
     "execution_count": 54,
     "metadata": {},
     "output_type": "execute_result"
    }
   ],
   "source": [
    "# Fazendo a tranformação\n",
    "ohe.transform(treino_3[['Embarked']]).toarray()"
   ]
  },
  {
   "cell_type": "code",
   "execution_count": 55,
   "id": "8ab7ded7",
   "metadata": {
    "ExecuteTime": {
     "end_time": "2024-05-15T10:33:49.645746Z",
     "start_time": "2024-05-15T10:33:49.450874Z"
    },
    "hidden": true
   },
   "outputs": [
    {
     "data": {
      "text/html": [
       "<div>\n",
       "<style scoped>\n",
       "    .dataframe tbody tr th:only-of-type {\n",
       "        vertical-align: middle;\n",
       "    }\n",
       "\n",
       "    .dataframe tbody tr th {\n",
       "        vertical-align: top;\n",
       "    }\n",
       "\n",
       "    .dataframe thead th {\n",
       "        text-align: right;\n",
       "    }\n",
       "</style>\n",
       "<table border=\"1\" class=\"dataframe\">\n",
       "  <thead>\n",
       "    <tr style=\"text-align: right;\">\n",
       "      <th></th>\n",
       "      <th>Embarked_C</th>\n",
       "      <th>Embarked_Q</th>\n",
       "      <th>Embarked_S</th>\n",
       "    </tr>\n",
       "  </thead>\n",
       "  <tbody>\n",
       "    <tr>\n",
       "      <th>0</th>\n",
       "      <td>0.0</td>\n",
       "      <td>0.0</td>\n",
       "      <td>1.0</td>\n",
       "    </tr>\n",
       "    <tr>\n",
       "      <th>1</th>\n",
       "      <td>1.0</td>\n",
       "      <td>0.0</td>\n",
       "      <td>0.0</td>\n",
       "    </tr>\n",
       "    <tr>\n",
       "      <th>2</th>\n",
       "      <td>0.0</td>\n",
       "      <td>0.0</td>\n",
       "      <td>1.0</td>\n",
       "    </tr>\n",
       "    <tr>\n",
       "      <th>3</th>\n",
       "      <td>0.0</td>\n",
       "      <td>0.0</td>\n",
       "      <td>1.0</td>\n",
       "    </tr>\n",
       "    <tr>\n",
       "      <th>4</th>\n",
       "      <td>0.0</td>\n",
       "      <td>0.0</td>\n",
       "      <td>1.0</td>\n",
       "    </tr>\n",
       "  </tbody>\n",
       "</table>\n",
       "</div>"
      ],
      "text/plain": [
       "   Embarked_C  Embarked_Q  Embarked_S\n",
       "0         0.0         0.0         1.0\n",
       "1         1.0         0.0         0.0\n",
       "2         0.0         0.0         1.0\n",
       "3         0.0         0.0         1.0\n",
       "4         0.0         0.0         1.0"
      ]
     },
     "execution_count": 55,
     "metadata": {},
     "output_type": "execute_result"
    }
   ],
   "source": [
    "# Tranformando o ohe em um DataFrame\n",
    "ohe_df = pd.DataFrame(ohe.transform(treino_3[['Embarked']]).toarray(), columns=ohe.get_feature_names_out())\n",
    "ohe_df.head()"
   ]
  },
  {
   "cell_type": "code",
   "execution_count": 56,
   "id": "7fdd8b9b",
   "metadata": {
    "ExecuteTime": {
     "end_time": "2024-05-15T10:33:49.804712Z",
     "start_time": "2024-05-15T10:33:49.648736Z"
    },
    "hidden": true
   },
   "outputs": [],
   "source": [
    "# Agora vamos adicionar o DataFrame acima na base de treino\n",
    "treino_3 = pd.concat([treino_3, ohe_df], axis=1)"
   ]
  },
  {
   "cell_type": "code",
   "execution_count": 57,
   "id": "e47a4285",
   "metadata": {
    "ExecuteTime": {
     "end_time": "2024-05-15T10:33:49.974059Z",
     "start_time": "2024-05-15T10:33:49.807703Z"
    },
    "hidden": true
   },
   "outputs": [
    {
     "data": {
      "text/plain": [
       "Embarked  Embarked_C  Embarked_Q  Embarked_S\n",
       "S         0.0         0.0         1.0           646\n",
       "C         1.0         0.0         0.0           168\n",
       "Q         0.0         1.0         0.0            77\n",
       "Name: count, dtype: int64"
      ]
     },
     "execution_count": 57,
     "metadata": {},
     "output_type": "execute_result"
    }
   ],
   "source": [
    "# Verificando os valores\n",
    "treino_3[['Embarked','Embarked_C','Embarked_Q','Embarked_S']].value_counts()"
   ]
  },
  {
   "cell_type": "markdown",
   "id": "4a748d50",
   "metadata": {
    "hidden": true
   },
   "source": [
    "**Agora vamos fazer a mesma transformação para a base de teste**"
   ]
  },
  {
   "cell_type": "code",
   "execution_count": 58,
   "id": "bb36408c",
   "metadata": {
    "ExecuteTime": {
     "end_time": "2024-05-15T10:33:50.094083Z",
     "start_time": "2024-05-15T10:33:49.977049Z"
    },
    "hidden": true
   },
   "outputs": [
    {
     "data": {
      "text/plain": [
       "Embarked  Embarked_C  Embarked_Q  Embarked_S\n",
       "S         0.0         0.0         1.0           270\n",
       "C         1.0         0.0         0.0           102\n",
       "Q         0.0         1.0         0.0            46\n",
       "Name: count, dtype: int64"
      ]
     },
     "execution_count": 58,
     "metadata": {},
     "output_type": "execute_result"
    }
   ],
   "source": [
    "ohe_df_teste_3 = pd.DataFrame(ohe.transform(teste_3[['Embarked']]).toarray(), columns=ohe.get_feature_names_out())\n",
    "\n",
    "teste_3 = pd.concat([teste_3, ohe_df_teste_3], axis=1)\n",
    "\n",
    "teste_3[['Embarked','Embarked_C','Embarked_Q','Embarked_S']].value_counts()"
   ]
  },
  {
   "cell_type": "markdown",
   "id": "a5a1b4cf",
   "metadata": {
    "hidden": true
   },
   "source": [
    "## Usando a nova base no nosso modelo"
   ]
  },
  {
   "cell_type": "code",
   "execution_count": 59,
   "id": "c6fdd47c",
   "metadata": {
    "ExecuteTime": {
     "end_time": "2024-05-15T10:33:50.326491Z",
     "start_time": "2024-05-15T10:33:50.097072Z"
    },
    "hidden": true
   },
   "outputs": [
    {
     "data": {
      "text/html": [
       "<div>\n",
       "<style scoped>\n",
       "    .dataframe tbody tr th:only-of-type {\n",
       "        vertical-align: middle;\n",
       "    }\n",
       "\n",
       "    .dataframe tbody tr th {\n",
       "        vertical-align: top;\n",
       "    }\n",
       "\n",
       "    .dataframe thead th {\n",
       "        text-align: right;\n",
       "    }\n",
       "</style>\n",
       "<table border=\"1\" class=\"dataframe\">\n",
       "  <thead>\n",
       "    <tr style=\"text-align: right;\">\n",
       "      <th></th>\n",
       "      <th>PassengerId</th>\n",
       "      <th>Pclass</th>\n",
       "      <th>Sex</th>\n",
       "      <th>Age</th>\n",
       "      <th>SibSp</th>\n",
       "      <th>Parch</th>\n",
       "      <th>Fare</th>\n",
       "      <th>Embarked</th>\n",
       "      <th>MaleCheck</th>\n",
       "      <th>Embarked_C</th>\n",
       "      <th>Embarked_Q</th>\n",
       "      <th>Embarked_S</th>\n",
       "    </tr>\n",
       "  </thead>\n",
       "  <tbody>\n",
       "    <tr>\n",
       "      <th>0</th>\n",
       "      <td>892</td>\n",
       "      <td>3</td>\n",
       "      <td>male</td>\n",
       "      <td>34.5</td>\n",
       "      <td>0</td>\n",
       "      <td>0</td>\n",
       "      <td>7.8292</td>\n",
       "      <td>Q</td>\n",
       "      <td>1</td>\n",
       "      <td>0.0</td>\n",
       "      <td>1.0</td>\n",
       "      <td>0.0</td>\n",
       "    </tr>\n",
       "    <tr>\n",
       "      <th>1</th>\n",
       "      <td>893</td>\n",
       "      <td>3</td>\n",
       "      <td>female</td>\n",
       "      <td>47.0</td>\n",
       "      <td>1</td>\n",
       "      <td>0</td>\n",
       "      <td>7.0000</td>\n",
       "      <td>S</td>\n",
       "      <td>0</td>\n",
       "      <td>0.0</td>\n",
       "      <td>0.0</td>\n",
       "      <td>1.0</td>\n",
       "    </tr>\n",
       "    <tr>\n",
       "      <th>2</th>\n",
       "      <td>894</td>\n",
       "      <td>2</td>\n",
       "      <td>male</td>\n",
       "      <td>62.0</td>\n",
       "      <td>0</td>\n",
       "      <td>0</td>\n",
       "      <td>9.6875</td>\n",
       "      <td>Q</td>\n",
       "      <td>1</td>\n",
       "      <td>0.0</td>\n",
       "      <td>1.0</td>\n",
       "      <td>0.0</td>\n",
       "    </tr>\n",
       "    <tr>\n",
       "      <th>3</th>\n",
       "      <td>895</td>\n",
       "      <td>3</td>\n",
       "      <td>male</td>\n",
       "      <td>27.0</td>\n",
       "      <td>0</td>\n",
       "      <td>0</td>\n",
       "      <td>8.6625</td>\n",
       "      <td>S</td>\n",
       "      <td>1</td>\n",
       "      <td>0.0</td>\n",
       "      <td>0.0</td>\n",
       "      <td>1.0</td>\n",
       "    </tr>\n",
       "    <tr>\n",
       "      <th>4</th>\n",
       "      <td>896</td>\n",
       "      <td>3</td>\n",
       "      <td>female</td>\n",
       "      <td>22.0</td>\n",
       "      <td>1</td>\n",
       "      <td>1</td>\n",
       "      <td>12.2875</td>\n",
       "      <td>S</td>\n",
       "      <td>0</td>\n",
       "      <td>0.0</td>\n",
       "      <td>0.0</td>\n",
       "      <td>1.0</td>\n",
       "    </tr>\n",
       "  </tbody>\n",
       "</table>\n",
       "</div>"
      ],
      "text/plain": [
       "   PassengerId  Pclass     Sex   Age  SibSp  Parch     Fare Embarked  \\\n",
       "0          892       3    male  34.5      0      0   7.8292        Q   \n",
       "1          893       3  female  47.0      1      0   7.0000        S   \n",
       "2          894       2    male  62.0      0      0   9.6875        Q   \n",
       "3          895       3    male  27.0      0      0   8.6625        S   \n",
       "4          896       3  female  22.0      1      1  12.2875        S   \n",
       "\n",
       "   MaleCheck  Embarked_C  Embarked_Q  Embarked_S  \n",
       "0          1         0.0         1.0         0.0  \n",
       "1          0         0.0         0.0         1.0  \n",
       "2          1         0.0         1.0         0.0  \n",
       "3          1         0.0         0.0         1.0  \n",
       "4          0         0.0         0.0         1.0  "
      ]
     },
     "execution_count": 59,
     "metadata": {},
     "output_type": "execute_result"
    }
   ],
   "source": [
    "# Visualizando a base\n",
    "teste_3.head()"
   ]
  },
  {
   "cell_type": "code",
   "execution_count": 60,
   "id": "57757269",
   "metadata": {
    "ExecuteTime": {
     "end_time": "2024-05-15T10:33:50.433625Z",
     "start_time": "2024-05-15T10:33:50.329477Z"
    },
    "hidden": true
   },
   "outputs": [],
   "source": [
    "# Podemos então apagar essas duas colunas que já tratamos\n",
    "treino_3 = treino_3.drop(['Sex','Embarked'], axis = 1)\n",
    "teste_3 = teste_3.drop(['Sex','Embarked'], axis = 1)"
   ]
  },
  {
   "cell_type": "markdown",
   "id": "f068aaca",
   "metadata": {
    "hidden": true
   },
   "source": [
    "**Vamos utilizar somente o modelo da regressão logistica pois ele teve a maior acurácia para a nossa base de dados anteriormente**"
   ]
  },
  {
   "cell_type": "code",
   "execution_count": 61,
   "id": "23ff1b5d",
   "metadata": {
    "ExecuteTime": {
     "end_time": "2024-05-15T10:33:50.699034Z",
     "start_time": "2024-05-15T10:33:50.435616Z"
    },
    "hidden": true
   },
   "outputs": [],
   "source": [
    "#Separando em x e y para o treino\n",
    "x = treino_3.drop(['PassengerId','Survived'],axis=1)\n",
    "y = treino_3.Survived"
   ]
  },
  {
   "cell_type": "markdown",
   "id": "61d546e7",
   "metadata": {
    "hidden": true
   },
   "source": [
    "### Modelos"
   ]
  },
  {
   "cell_type": "code",
   "execution_count": 62,
   "id": "85271c1f",
   "metadata": {
    "ExecuteTime": {
     "end_time": "2024-05-15T10:33:50.962330Z",
     "start_time": "2024-05-15T10:33:50.702025Z"
    },
    "hidden": true
   },
   "outputs": [],
   "source": [
    "# Separando em treino e validação\n",
    "x_train, x_val, y_train, y_val = train_test_split(x,\n",
    "                                                  y,\n",
    "                                                  test_size=0.33,\n",
    "                                                  random_state=42)\n",
    "\n",
    "# árvore\n",
    "clf_ac = tree.DecisionTreeClassifier(random_state=42)\n",
    "clf_ac = clf_ac.fit(x_train, y_train)\n",
    "y_pred_ac = clf_ac.predict(x_val)\n",
    "\n",
    "# Knn\n",
    "\n",
    "clf_knn = KNeighborsClassifier(n_neighbors=3)\n",
    "clf_knn = clf_knn.fit(x_train, y_train)\n",
    "y_pred_knn = clf_knn.predict(x_val)\n",
    "\n",
    "# regressão logística\n",
    "clf_rl = LogisticRegression(random_state=42, max_iter=1000)\n",
    "clf_knn = clf_rl.fit(x_train, y_train)\n",
    "y_pred_rl = clf_rl.predict(x_val)"
   ]
  },
  {
   "cell_type": "markdown",
   "id": "1ed1b7c3",
   "metadata": {
    "hidden": true
   },
   "source": [
    "### Avaliação dos modelos pela acurácia"
   ]
  },
  {
   "cell_type": "code",
   "execution_count": 63,
   "id": "8d375fad",
   "metadata": {
    "ExecuteTime": {
     "end_time": "2024-05-15T10:33:50.976450Z",
     "start_time": "2024-05-15T10:33:50.965320Z"
    },
    "hidden": true
   },
   "outputs": [
    {
     "name": "stdout",
     "output_type": "stream",
     "text": [
      " A acurácia para o modelo da Árvore de Classificação é:  0.749\n",
      " A acurácia para o modelo do KNN é:  0.715\n",
      " A acurácia para o modelo da Regressão Logística é:  0.817\n"
     ]
    }
   ],
   "source": [
    "# Para a árvore\n",
    "print(f' A acurácia para o modelo da Árvore de Classificação é: {accuracy_score(y_val,y_pred_ac): .3f}')\n",
    "\n",
    "# Para  o KNN\n",
    "print(f' A acurácia para o modelo do KNN é: {accuracy_score(y_val,y_pred_knn): .3f}')\n",
    "\n",
    "# Para a Regressão Logística\n",
    "print(f' A acurácia para o modelo da Regressão Logística é: {accuracy_score(y_val,y_pred_rl): .3f}')"
   ]
  },
  {
   "cell_type": "markdown",
   "id": "4c7285a7",
   "metadata": {
    "hidden": true
   },
   "source": [
    "**Agora vamos fazer a matriz de confusão para o modelo de Regressão Logística já que ele continua sendo o modelo com a maior acurácia**"
   ]
  },
  {
   "cell_type": "code",
   "execution_count": 64,
   "id": "c2d27602",
   "metadata": {
    "ExecuteTime": {
     "end_time": "2024-05-15T10:33:51.111912Z",
     "start_time": "2024-05-15T10:33:50.981432Z"
    },
    "hidden": true
   },
   "outputs": [
    {
     "data": {
      "text/plain": [
       "array([[153,  22],\n",
       "       [ 32,  88]], dtype=int64)"
      ]
     },
     "execution_count": 64,
     "metadata": {},
     "output_type": "execute_result"
    }
   ],
   "source": [
    "# Matriz de confusão\n",
    "confusion_matrix(y_val, y_pred_rl)"
   ]
  },
  {
   "cell_type": "markdown",
   "id": "c4f5155c",
   "metadata": {
    "hidden": true
   },
   "source": [
    "## Fazendo a previsão para os dados de teste"
   ]
  },
  {
   "cell_type": "code",
   "execution_count": 65,
   "id": "b93bb13d",
   "metadata": {
    "ExecuteTime": {
     "end_time": "2024-05-15T10:33:51.272784Z",
     "start_time": "2024-05-15T10:33:51.114901Z"
    },
    "hidden": true
   },
   "outputs": [
    {
     "data": {
      "text/html": [
       "<div>\n",
       "<style scoped>\n",
       "    .dataframe tbody tr th:only-of-type {\n",
       "        vertical-align: middle;\n",
       "    }\n",
       "\n",
       "    .dataframe tbody tr th {\n",
       "        vertical-align: top;\n",
       "    }\n",
       "\n",
       "    .dataframe thead th {\n",
       "        text-align: right;\n",
       "    }\n",
       "</style>\n",
       "<table border=\"1\" class=\"dataframe\">\n",
       "  <thead>\n",
       "    <tr style=\"text-align: right;\">\n",
       "      <th></th>\n",
       "      <th>Pclass</th>\n",
       "      <th>Age</th>\n",
       "      <th>SibSp</th>\n",
       "      <th>Parch</th>\n",
       "      <th>Fare</th>\n",
       "      <th>MaleCheck</th>\n",
       "      <th>Embarked_C</th>\n",
       "      <th>Embarked_Q</th>\n",
       "      <th>Embarked_S</th>\n",
       "    </tr>\n",
       "  </thead>\n",
       "  <tbody>\n",
       "    <tr>\n",
       "      <th>6</th>\n",
       "      <td>1</td>\n",
       "      <td>54.000000</td>\n",
       "      <td>0</td>\n",
       "      <td>0</td>\n",
       "      <td>51.8625</td>\n",
       "      <td>1</td>\n",
       "      <td>0.0</td>\n",
       "      <td>0.0</td>\n",
       "      <td>1.0</td>\n",
       "    </tr>\n",
       "    <tr>\n",
       "      <th>718</th>\n",
       "      <td>3</td>\n",
       "      <td>29.699118</td>\n",
       "      <td>0</td>\n",
       "      <td>0</td>\n",
       "      <td>15.5000</td>\n",
       "      <td>1</td>\n",
       "      <td>0.0</td>\n",
       "      <td>1.0</td>\n",
       "      <td>0.0</td>\n",
       "    </tr>\n",
       "    <tr>\n",
       "      <th>685</th>\n",
       "      <td>2</td>\n",
       "      <td>25.000000</td>\n",
       "      <td>1</td>\n",
       "      <td>2</td>\n",
       "      <td>41.5792</td>\n",
       "      <td>1</td>\n",
       "      <td>1.0</td>\n",
       "      <td>0.0</td>\n",
       "      <td>0.0</td>\n",
       "    </tr>\n",
       "    <tr>\n",
       "      <th>73</th>\n",
       "      <td>3</td>\n",
       "      <td>26.000000</td>\n",
       "      <td>1</td>\n",
       "      <td>0</td>\n",
       "      <td>14.4542</td>\n",
       "      <td>1</td>\n",
       "      <td>1.0</td>\n",
       "      <td>0.0</td>\n",
       "      <td>0.0</td>\n",
       "    </tr>\n",
       "    <tr>\n",
       "      <th>882</th>\n",
       "      <td>3</td>\n",
       "      <td>22.000000</td>\n",
       "      <td>0</td>\n",
       "      <td>0</td>\n",
       "      <td>10.5167</td>\n",
       "      <td>0</td>\n",
       "      <td>0.0</td>\n",
       "      <td>0.0</td>\n",
       "      <td>1.0</td>\n",
       "    </tr>\n",
       "  </tbody>\n",
       "</table>\n",
       "</div>"
      ],
      "text/plain": [
       "     Pclass        Age  SibSp  Parch     Fare  MaleCheck  Embarked_C  \\\n",
       "6         1  54.000000      0      0  51.8625          1         0.0   \n",
       "718       3  29.699118      0      0  15.5000          1         0.0   \n",
       "685       2  25.000000      1      2  41.5792          1         1.0   \n",
       "73        3  26.000000      1      0  14.4542          1         1.0   \n",
       "882       3  22.000000      0      0  10.5167          0         0.0   \n",
       "\n",
       "     Embarked_Q  Embarked_S  \n",
       "6           0.0         1.0  \n",
       "718         1.0         0.0  \n",
       "685         0.0         0.0  \n",
       "73          0.0         0.0  \n",
       "882         0.0         1.0  "
      ]
     },
     "execution_count": 65,
     "metadata": {},
     "output_type": "execute_result"
    }
   ],
   "source": [
    "# Visualizando o X_train\n",
    "x_train.head()"
   ]
  },
  {
   "cell_type": "code",
   "execution_count": 66,
   "id": "cded05c0",
   "metadata": {
    "ExecuteTime": {
     "end_time": "2024-05-15T10:33:51.426368Z",
     "start_time": "2024-05-15T10:33:51.277767Z"
    },
    "hidden": true
   },
   "outputs": [
    {
     "data": {
      "text/html": [
       "<div>\n",
       "<style scoped>\n",
       "    .dataframe tbody tr th:only-of-type {\n",
       "        vertical-align: middle;\n",
       "    }\n",
       "\n",
       "    .dataframe tbody tr th {\n",
       "        vertical-align: top;\n",
       "    }\n",
       "\n",
       "    .dataframe thead th {\n",
       "        text-align: right;\n",
       "    }\n",
       "</style>\n",
       "<table border=\"1\" class=\"dataframe\">\n",
       "  <thead>\n",
       "    <tr style=\"text-align: right;\">\n",
       "      <th></th>\n",
       "      <th>PassengerId</th>\n",
       "      <th>Pclass</th>\n",
       "      <th>Age</th>\n",
       "      <th>SibSp</th>\n",
       "      <th>Parch</th>\n",
       "      <th>Fare</th>\n",
       "      <th>MaleCheck</th>\n",
       "      <th>Embarked_C</th>\n",
       "      <th>Embarked_Q</th>\n",
       "      <th>Embarked_S</th>\n",
       "    </tr>\n",
       "  </thead>\n",
       "  <tbody>\n",
       "    <tr>\n",
       "      <th>0</th>\n",
       "      <td>892</td>\n",
       "      <td>3</td>\n",
       "      <td>34.5</td>\n",
       "      <td>0</td>\n",
       "      <td>0</td>\n",
       "      <td>7.8292</td>\n",
       "      <td>1</td>\n",
       "      <td>0.0</td>\n",
       "      <td>1.0</td>\n",
       "      <td>0.0</td>\n",
       "    </tr>\n",
       "    <tr>\n",
       "      <th>1</th>\n",
       "      <td>893</td>\n",
       "      <td>3</td>\n",
       "      <td>47.0</td>\n",
       "      <td>1</td>\n",
       "      <td>0</td>\n",
       "      <td>7.0000</td>\n",
       "      <td>0</td>\n",
       "      <td>0.0</td>\n",
       "      <td>0.0</td>\n",
       "      <td>1.0</td>\n",
       "    </tr>\n",
       "    <tr>\n",
       "      <th>2</th>\n",
       "      <td>894</td>\n",
       "      <td>2</td>\n",
       "      <td>62.0</td>\n",
       "      <td>0</td>\n",
       "      <td>0</td>\n",
       "      <td>9.6875</td>\n",
       "      <td>1</td>\n",
       "      <td>0.0</td>\n",
       "      <td>1.0</td>\n",
       "      <td>0.0</td>\n",
       "    </tr>\n",
       "    <tr>\n",
       "      <th>3</th>\n",
       "      <td>895</td>\n",
       "      <td>3</td>\n",
       "      <td>27.0</td>\n",
       "      <td>0</td>\n",
       "      <td>0</td>\n",
       "      <td>8.6625</td>\n",
       "      <td>1</td>\n",
       "      <td>0.0</td>\n",
       "      <td>0.0</td>\n",
       "      <td>1.0</td>\n",
       "    </tr>\n",
       "    <tr>\n",
       "      <th>4</th>\n",
       "      <td>896</td>\n",
       "      <td>3</td>\n",
       "      <td>22.0</td>\n",
       "      <td>1</td>\n",
       "      <td>1</td>\n",
       "      <td>12.2875</td>\n",
       "      <td>0</td>\n",
       "      <td>0.0</td>\n",
       "      <td>0.0</td>\n",
       "      <td>1.0</td>\n",
       "    </tr>\n",
       "  </tbody>\n",
       "</table>\n",
       "</div>"
      ],
      "text/plain": [
       "   PassengerId  Pclass   Age  SibSp  Parch     Fare  MaleCheck  Embarked_C  \\\n",
       "0          892       3  34.5      0      0   7.8292          1         0.0   \n",
       "1          893       3  47.0      1      0   7.0000          0         0.0   \n",
       "2          894       2  62.0      0      0   9.6875          1         0.0   \n",
       "3          895       3  27.0      0      0   8.6625          1         0.0   \n",
       "4          896       3  22.0      1      1  12.2875          0         0.0   \n",
       "\n",
       "   Embarked_Q  Embarked_S  \n",
       "0         1.0         0.0  \n",
       "1         0.0         1.0  \n",
       "2         1.0         0.0  \n",
       "3         0.0         1.0  \n",
       "4         0.0         1.0  "
      ]
     },
     "execution_count": 66,
     "metadata": {},
     "output_type": "execute_result"
    }
   ],
   "source": [
    "# Visualizando a base de teste\n",
    "teste_3.head()"
   ]
  },
  {
   "cell_type": "code",
   "execution_count": 67,
   "id": "dee43ae2",
   "metadata": {
    "ExecuteTime": {
     "end_time": "2024-05-15T10:33:51.555201Z",
     "start_time": "2024-05-15T10:33:51.430117Z"
    },
    "hidden": true
   },
   "outputs": [],
   "source": [
    "# Para a base de teste ser igual a base de treino, precisamos eliminar a coluna id\n",
    "x_teste = teste_3.drop(['PassengerId'], axis= 1)"
   ]
  },
  {
   "cell_type": "code",
   "execution_count": 68,
   "id": "c297197b",
   "metadata": {
    "ExecuteTime": {
     "end_time": "2024-05-15T10:33:51.701631Z",
     "start_time": "2024-05-15T10:33:51.560184Z"
    },
    "hidden": true
   },
   "outputs": [],
   "source": [
    "# Utilizando a regressõ logística na base de teste\n",
    "y_pred = clf_rl.predict(x_teste)"
   ]
  },
  {
   "cell_type": "code",
   "execution_count": 69,
   "id": "151d8429",
   "metadata": {
    "ExecuteTime": {
     "end_time": "2024-05-15T10:33:51.803109Z",
     "start_time": "2024-05-15T10:33:51.707628Z"
    },
    "hidden": true
   },
   "outputs": [],
   "source": [
    "# Ciando uma nova coluna com a previsão na base de teste\n",
    "submit_2 = teste_3.copy()\n",
    "submit_2['Survived'] = y_pred\n",
    "submit_2 = submit_2[[\"PassengerId\",'Survived']]"
   ]
  },
  {
   "cell_type": "code",
   "execution_count": 70,
   "id": "7795e296",
   "metadata": {
    "ExecuteTime": {
     "end_time": "2024-05-15T10:33:51.952883Z",
     "start_time": "2024-05-15T10:33:51.806097Z"
    },
    "hidden": true
   },
   "outputs": [
    {
     "data": {
      "text/html": [
       "<div>\n",
       "<style scoped>\n",
       "    .dataframe tbody tr th:only-of-type {\n",
       "        vertical-align: middle;\n",
       "    }\n",
       "\n",
       "    .dataframe tbody tr th {\n",
       "        vertical-align: top;\n",
       "    }\n",
       "\n",
       "    .dataframe thead th {\n",
       "        text-align: right;\n",
       "    }\n",
       "</style>\n",
       "<table border=\"1\" class=\"dataframe\">\n",
       "  <thead>\n",
       "    <tr style=\"text-align: right;\">\n",
       "      <th></th>\n",
       "      <th>PassengerId</th>\n",
       "      <th>Survived</th>\n",
       "    </tr>\n",
       "  </thead>\n",
       "  <tbody>\n",
       "    <tr>\n",
       "      <th>0</th>\n",
       "      <td>892</td>\n",
       "      <td>0</td>\n",
       "    </tr>\n",
       "    <tr>\n",
       "      <th>1</th>\n",
       "      <td>893</td>\n",
       "      <td>0</td>\n",
       "    </tr>\n",
       "    <tr>\n",
       "      <th>2</th>\n",
       "      <td>894</td>\n",
       "      <td>0</td>\n",
       "    </tr>\n",
       "    <tr>\n",
       "      <th>3</th>\n",
       "      <td>895</td>\n",
       "      <td>0</td>\n",
       "    </tr>\n",
       "    <tr>\n",
       "      <th>4</th>\n",
       "      <td>896</td>\n",
       "      <td>1</td>\n",
       "    </tr>\n",
       "    <tr>\n",
       "      <th>...</th>\n",
       "      <td>...</td>\n",
       "      <td>...</td>\n",
       "    </tr>\n",
       "    <tr>\n",
       "      <th>413</th>\n",
       "      <td>1305</td>\n",
       "      <td>0</td>\n",
       "    </tr>\n",
       "    <tr>\n",
       "      <th>414</th>\n",
       "      <td>1306</td>\n",
       "      <td>1</td>\n",
       "    </tr>\n",
       "    <tr>\n",
       "      <th>415</th>\n",
       "      <td>1307</td>\n",
       "      <td>0</td>\n",
       "    </tr>\n",
       "    <tr>\n",
       "      <th>416</th>\n",
       "      <td>1308</td>\n",
       "      <td>0</td>\n",
       "    </tr>\n",
       "    <tr>\n",
       "      <th>417</th>\n",
       "      <td>1309</td>\n",
       "      <td>0</td>\n",
       "    </tr>\n",
       "  </tbody>\n",
       "</table>\n",
       "<p>418 rows × 2 columns</p>\n",
       "</div>"
      ],
      "text/plain": [
       "     PassengerId  Survived\n",
       "0            892         0\n",
       "1            893         0\n",
       "2            894         0\n",
       "3            895         0\n",
       "4            896         1\n",
       "..           ...       ...\n",
       "413         1305         0\n",
       "414         1306         1\n",
       "415         1307         0\n",
       "416         1308         0\n",
       "417         1309         0\n",
       "\n",
       "[418 rows x 2 columns]"
      ]
     },
     "execution_count": 70,
     "metadata": {},
     "output_type": "execute_result"
    }
   ],
   "source": [
    "# Selecionando a coluna Id e Survived\n",
    "submit_2"
   ]
  },
  {
   "cell_type": "code",
   "execution_count": 173,
   "id": "24a556cf",
   "metadata": {
    "ExecuteTime": {
     "end_time": "2024-05-15T14:06:18.426052Z",
     "start_time": "2024-05-15T14:06:18.367318Z"
    },
    "hidden": true
   },
   "outputs": [],
   "source": [
    "# Salvando a base para a submissão\n",
    "submit_2.to_csv('submit_2.csv',index=False)"
   ]
  },
  {
   "cell_type": "markdown",
   "id": "80039523",
   "metadata": {
    "heading_collapsed": true
   },
   "source": [
    "# ETAPA 3: Aprofundando no Negócio e Melhorando o Tratamento de Dados"
   ]
  },
  {
   "cell_type": "code",
   "execution_count": 71,
   "id": "3c8d0fa3",
   "metadata": {
    "ExecuteTime": {
     "end_time": "2024-05-15T10:33:52.096279Z",
     "start_time": "2024-05-15T10:33:51.956871Z"
    },
    "hidden": true
   },
   "outputs": [],
   "source": [
    "# Salvando as bases de dados da etapa anterior no caso de precisarmos dela no futuro\n",
    "treino_4 = treino_3.copy()\n",
    "teste_4 = teste_3.copy()"
   ]
  },
  {
   "cell_type": "markdown",
   "id": "c8ea3825",
   "metadata": {
    "hidden": true
   },
   "source": [
    "**Nessa etapa vamos mexer modificar nossos dados de para tentarmos melhorar nossa acurácia final**"
   ]
  },
  {
   "cell_type": "markdown",
   "id": "9f2ed68c",
   "metadata": {
    "hidden": true
   },
   "source": [
    "**Vamos salvar as acurácias achadas na etapa anteriaor em variáveis para podermos ter o controle da acurácia na medida que iremos avançar no código**"
   ]
  },
  {
   "cell_type": "code",
   "execution_count": 72,
   "id": "b0007ea7",
   "metadata": {
    "ExecuteTime": {
     "end_time": "2024-05-15T10:33:52.242560Z",
     "start_time": "2024-05-15T10:33:52.097645Z"
    },
    "hidden": true
   },
   "outputs": [],
   "source": [
    "# Para árvore\n",
    "as_ac = accuracy_score(y_val, y_pred_ac)\n",
    "\n",
    "# knn\n",
    "as_knn = accuracy_score(y_val, y_pred_knn)\n",
    "\n",
    "# regressão\n",
    "as_rl = accuracy_score(y_val, y_pred_rl)"
   ]
  },
  {
   "cell_type": "markdown",
   "id": "df4f707a",
   "metadata": {
    "hidden": true
   },
   "source": [
    "**Vamos salvar esses valores em um Dataframe para visualizarmos nossa evolução**"
   ]
  },
  {
   "cell_type": "code",
   "execution_count": 73,
   "id": "edc6cf26",
   "metadata": {
    "ExecuteTime": {
     "end_time": "2024-05-15T10:33:52.359801Z",
     "start_time": "2024-05-15T10:33:52.247544Z"
    },
    "hidden": true
   },
   "outputs": [
    {
     "data": {
      "text/html": [
       "<div>\n",
       "<style scoped>\n",
       "    .dataframe tbody tr th:only-of-type {\n",
       "        vertical-align: middle;\n",
       "    }\n",
       "\n",
       "    .dataframe tbody tr th {\n",
       "        vertical-align: top;\n",
       "    }\n",
       "\n",
       "    .dataframe thead th {\n",
       "        text-align: right;\n",
       "    }\n",
       "</style>\n",
       "<table border=\"1\" class=\"dataframe\">\n",
       "  <thead>\n",
       "    <tr style=\"text-align: right;\">\n",
       "      <th></th>\n",
       "      <th>modelos</th>\n",
       "      <th>iniciais</th>\n",
       "    </tr>\n",
       "  </thead>\n",
       "  <tbody>\n",
       "    <tr>\n",
       "      <th>0</th>\n",
       "      <td>arvore</td>\n",
       "      <td>0.749153</td>\n",
       "    </tr>\n",
       "    <tr>\n",
       "      <th>1</th>\n",
       "      <td>knn</td>\n",
       "      <td>0.715254</td>\n",
       "    </tr>\n",
       "    <tr>\n",
       "      <th>2</th>\n",
       "      <td>reg_log</td>\n",
       "      <td>0.816949</td>\n",
       "    </tr>\n",
       "  </tbody>\n",
       "</table>\n",
       "</div>"
      ],
      "text/plain": [
       "   modelos  iniciais\n",
       "0   arvore  0.749153\n",
       "1      knn  0.715254\n",
       "2  reg_log  0.816949"
      ]
     },
     "execution_count": 73,
     "metadata": {},
     "output_type": "execute_result"
    }
   ],
   "source": [
    "as_df = pd.DataFrame({\n",
    "    'modelos':  ['arvore','knn','reg_log'],\n",
    "    'iniciais': [as_ac,as_knn,as_rl]\n",
    "})\n",
    "\n",
    "as_df"
   ]
  },
  {
   "cell_type": "markdown",
   "id": "c540468b",
   "metadata": {
    "hidden": true
   },
   "source": [
    "## Analisando a escala dos dados"
   ]
  },
  {
   "cell_type": "code",
   "execution_count": 74,
   "id": "fbc34a41",
   "metadata": {
    "ExecuteTime": {
     "end_time": "2024-05-15T10:33:54.002985Z",
     "start_time": "2024-05-15T10:33:52.363791Z"
    },
    "hidden": true
   },
   "outputs": [
    {
     "data": {
      "image/png": "[encoded data removed]",
      "text/plain": [
       "<Figure size 1500x500 with 1 Axes>"
      ]
     },
     "metadata": {},
     "output_type": "display_data"
    }
   ],
   "source": [
    "# Visualisando a escala desses dados\n",
    "fig, ax = plt.subplots(figsize= (15,5))\n",
    "\n",
    "ax.boxplot(treino_4.iloc[:,1:11])\n",
    "ax.set_xticks(range(1,treino_4.iloc[:,1:11].shape[1]+1),treino_4.iloc[:,1:11].columns)\n",
    "\n",
    "plt.show()"
   ]
  },
  {
   "cell_type": "markdown",
   "id": "7c2d45b3",
   "metadata": {
    "hidden": true
   },
   "source": [
    "**Podemos verificar que as colunas Age e Fare estão em uma escala muito diferente das outras. Podemos começar fazendo um ajuste nessas escalas.**\n",
    "\n",
    "**Nesse caso vamos utilizar o RobustScalaer do próprio sklearn já que essas colunas possuem outliers bem pronunciados.**"
   ]
  },
  {
   "cell_type": "code",
   "execution_count": 75,
   "id": "204ba83d",
   "metadata": {
    "ExecuteTime": {
     "end_time": "2024-05-15T10:33:54.016416Z",
     "start_time": "2024-05-15T10:33:54.005969Z"
    },
    "hidden": true
   },
   "outputs": [],
   "source": [
    "# Criando o scaler\n",
    "transformer = RobustScaler().fit(treino_4[['Age','Fare']])"
   ]
  },
  {
   "cell_type": "code",
   "execution_count": 76,
   "id": "d905857b",
   "metadata": {
    "ExecuteTime": {
     "end_time": "2024-05-15T10:33:54.216113Z",
     "start_time": "2024-05-15T10:33:54.018402Z"
    },
    "hidden": true
   },
   "outputs": [],
   "source": [
    "# Fazendo a Tranformação dos dados\n",
    "treino_4[['Age','Fare']] = transformer.transform(treino_4[['Age','Fare']])"
   ]
  },
  {
   "cell_type": "code",
   "execution_count": 77,
   "id": "20781ad5",
   "metadata": {
    "ExecuteTime": {
     "end_time": "2024-05-15T10:33:54.384908Z",
     "start_time": "2024-05-15T10:33:54.219101Z"
    },
    "hidden": true
   },
   "outputs": [],
   "source": [
    "# Fazendo o mesmo para a base de teste\n",
    "transformer = RobustScaler().fit(teste_4[['Age','Fare']])\n",
    "teste_4[['Age','Fare']] = transformer.transform(teste_4[['Age','Fare']])"
   ]
  },
  {
   "cell_type": "code",
   "execution_count": 78,
   "id": "6751beb0",
   "metadata": {
    "ExecuteTime": {
     "end_time": "2024-05-15T10:33:54.774108Z",
     "start_time": "2024-05-15T10:33:54.387898Z"
    },
    "hidden": true
   },
   "outputs": [
    {
     "data": {
      "image/png": "[encoded data removed]",
      "text/plain": [
       "<Figure size 1500x500 with 1 Axes>"
      ]
     },
     "metadata": {},
     "output_type": "display_data"
    }
   ],
   "source": [
    "# Visualizando novamente os dados\n",
    "\n",
    "# Visualisando a escala desses dados\n",
    "fig, ax = plt.subplots(figsize= (15,5))\n",
    "\n",
    "ax.boxplot(treino_4.iloc[:,1:11])\n",
    "ax.set_xticks(range(1,treino_4.iloc[:,1:11].shape[1]+1),treino_4.iloc[:,1:11].columns)\n",
    "\n",
    "plt.show()"
   ]
  },
  {
   "cell_type": "markdown",
   "id": "baf84855",
   "metadata": {
    "hidden": true
   },
   "source": [
    "**Verificamos que os dados já estão com uma distribuição de escala melhor. Agora vamos verificar como essa mudança altera nosso modelo**"
   ]
  },
  {
   "cell_type": "markdown",
   "id": "9a0dba6b",
   "metadata": {
    "hidden": true
   },
   "source": [
    "### Fazendo a verificação da Acurácia para essa mudança de escala"
   ]
  },
  {
   "cell_type": "code",
   "execution_count": 79,
   "id": "2b5f9ccc",
   "metadata": {
    "ExecuteTime": {
     "end_time": "2024-05-15T10:33:54.842368Z",
     "start_time": "2024-05-15T10:33:54.777100Z"
    },
    "hidden": true
   },
   "outputs": [],
   "source": [
    "#Separando em x e y para o treino\n",
    "x = treino_4.drop(['PassengerId', 'Survived'], axis=1)\n",
    "y = treino_4.Survived\n",
    "\n",
    "# Separando em treino e validação\n",
    "x_train, x_val, y_train, y_val = train_test_split(x,\n",
    "                                                  y,\n",
    "                                                  test_size=0.33,\n",
    "                                                  random_state=42)\n",
    "\n",
    "# árvore\n",
    "clf_ac = tree.DecisionTreeClassifier(random_state=42)\n",
    "clf_ac = clf_ac.fit(x_train, y_train)\n",
    "y_pred_ac = clf_ac.predict(x_val)\n",
    "\n",
    "# Knn\n",
    "\n",
    "clf_knn = KNeighborsClassifier(n_neighbors=3)\n",
    "clf_knn = clf_knn.fit(x_train, y_train)\n",
    "y_pred_knn = clf_knn.predict(x_val)\n",
    "\n",
    "# regressão logística\n",
    "clf_rl = LogisticRegression(random_state=42, max_iter=1000)\n",
    "clf_knn = clf_rl.fit(x_train, y_train)\n",
    "y_pred_rl = clf_rl.predict(x_val)"
   ]
  },
  {
   "cell_type": "code",
   "execution_count": 80,
   "id": "eb3eae80",
   "metadata": {
    "ExecuteTime": {
     "end_time": "2024-05-15T10:33:54.902753Z",
     "start_time": "2024-05-15T10:33:54.845359Z"
    },
    "hidden": true
   },
   "outputs": [],
   "source": [
    "# Para árvore\n",
    "as_ac_escala = accuracy_score(y_val, y_pred_ac)\n",
    "\n",
    "# knn\n",
    "as_knn_escala = accuracy_score(y_val, y_pred_knn)\n",
    "\n",
    "# regressão\n",
    "as_rl_escala = accuracy_score(y_val, y_pred_rl)"
   ]
  },
  {
   "cell_type": "code",
   "execution_count": 81,
   "id": "17b1dbbe",
   "metadata": {
    "ExecuteTime": {
     "end_time": "2024-05-15T10:33:55.066730Z",
     "start_time": "2024-05-15T10:33:54.905743Z"
    },
    "hidden": true
   },
   "outputs": [
    {
     "data": {
      "text/html": [
       "<div>\n",
       "<style scoped>\n",
       "    .dataframe tbody tr th:only-of-type {\n",
       "        vertical-align: middle;\n",
       "    }\n",
       "\n",
       "    .dataframe tbody tr th {\n",
       "        vertical-align: top;\n",
       "    }\n",
       "\n",
       "    .dataframe thead th {\n",
       "        text-align: right;\n",
       "    }\n",
       "</style>\n",
       "<table border=\"1\" class=\"dataframe\">\n",
       "  <thead>\n",
       "    <tr style=\"text-align: right;\">\n",
       "      <th></th>\n",
       "      <th>modelos</th>\n",
       "      <th>escala</th>\n",
       "    </tr>\n",
       "  </thead>\n",
       "  <tbody>\n",
       "    <tr>\n",
       "      <th>0</th>\n",
       "      <td>arvore</td>\n",
       "      <td>0.749153</td>\n",
       "    </tr>\n",
       "    <tr>\n",
       "      <th>1</th>\n",
       "      <td>knn</td>\n",
       "      <td>0.800000</td>\n",
       "    </tr>\n",
       "    <tr>\n",
       "      <th>2</th>\n",
       "      <td>reg_log</td>\n",
       "      <td>0.816949</td>\n",
       "    </tr>\n",
       "  </tbody>\n",
       "</table>\n",
       "</div>"
      ],
      "text/plain": [
       "   modelos    escala\n",
       "0   arvore  0.749153\n",
       "1      knn  0.800000\n",
       "2  reg_log  0.816949"
      ]
     },
     "execution_count": 81,
     "metadata": {},
     "output_type": "execute_result"
    }
   ],
   "source": [
    "# Criando um dataframe para as novas acurácias\n",
    "as_df_escala = pd.DataFrame({\n",
    "    'modelos':  ['arvore','knn','reg_log'],\n",
    "    'escala': [as_ac_escala,as_knn_escala,as_rl_escala]\n",
    "})\n",
    "\n",
    "as_df_escala"
   ]
  },
  {
   "cell_type": "code",
   "execution_count": 82,
   "id": "79ad3334",
   "metadata": {
    "ExecuteTime": {
     "end_time": "2024-05-15T10:33:55.223909Z",
     "start_time": "2024-05-15T10:33:55.085722Z"
    },
    "hidden": true
   },
   "outputs": [
    {
     "data": {
      "text/html": [
       "<div>\n",
       "<style scoped>\n",
       "    .dataframe tbody tr th:only-of-type {\n",
       "        vertical-align: middle;\n",
       "    }\n",
       "\n",
       "    .dataframe tbody tr th {\n",
       "        vertical-align: top;\n",
       "    }\n",
       "\n",
       "    .dataframe thead th {\n",
       "        text-align: right;\n",
       "    }\n",
       "</style>\n",
       "<table border=\"1\" class=\"dataframe\">\n",
       "  <thead>\n",
       "    <tr style=\"text-align: right;\">\n",
       "      <th></th>\n",
       "      <th>modelos</th>\n",
       "      <th>iniciais</th>\n",
       "      <th>escala</th>\n",
       "    </tr>\n",
       "  </thead>\n",
       "  <tbody>\n",
       "    <tr>\n",
       "      <th>0</th>\n",
       "      <td>arvore</td>\n",
       "      <td>0.749153</td>\n",
       "      <td>0.749153</td>\n",
       "    </tr>\n",
       "    <tr>\n",
       "      <th>1</th>\n",
       "      <td>knn</td>\n",
       "      <td>0.715254</td>\n",
       "      <td>0.800000</td>\n",
       "    </tr>\n",
       "    <tr>\n",
       "      <th>2</th>\n",
       "      <td>reg_log</td>\n",
       "      <td>0.816949</td>\n",
       "      <td>0.816949</td>\n",
       "    </tr>\n",
       "  </tbody>\n",
       "</table>\n",
       "</div>"
      ],
      "text/plain": [
       "   modelos  iniciais    escala\n",
       "0   arvore  0.749153  0.749153\n",
       "1      knn  0.715254  0.800000\n",
       "2  reg_log  0.816949  0.816949"
      ]
     },
     "execution_count": 82,
     "metadata": {},
     "output_type": "execute_result"
    }
   ],
   "source": [
    "# Juntando os datasets para comparação\n",
    "as_df_final = as_df.join(as_df_escala.set_index('modelos'),on='modelos')\n",
    "as_df_final"
   ]
  },
  {
   "cell_type": "markdown",
   "id": "8e2d475c",
   "metadata": {
    "hidden": true
   },
   "source": [
    "**Podemos verificar que somente o modelo KNN teve uma melhora significativa em sua acurácia, os outros modelos não mudaram suas acurácias quando modificamos a escala dos nossos dados. Logo podemos afirmar que o KNN por ser uma medida de distância depênde fortemente  com a escala dos nossos dados diferentemente da Árvore de decissão e da Regressão Logística que não têm uma dependencia forte com a escala dos dados**"
   ]
  },
  {
   "cell_type": "markdown",
   "id": "52b8b342",
   "metadata": {
    "hidden": true
   },
   "source": [
    "## Entendendo as colunas SibSp e Parch"
   ]
  },
  {
   "cell_type": "markdown",
   "id": "f2324d6f",
   "metadata": {
    "hidden": true
   },
   "source": [
    "**Podemos verificar que:**\n",
    "- **SibSp: Número de irmãos/cônjuges a bordo do Titanic**\n",
    "- **Parch: Número de pais/filhos a bordo do Titanic**\n",
    "\n",
    "**Ou seja são o número de pessoas relacionadas a pessoa central**\n",
    "\n",
    "**Podemos verificar quantas pessoas sobreviveram em cada um dos valores dessa coluna**"
   ]
  },
  {
   "cell_type": "code",
   "execution_count": 83,
   "id": "081e4de0",
   "metadata": {
    "ExecuteTime": {
     "end_time": "2024-05-15T10:33:55.350647Z",
     "start_time": "2024-05-15T10:33:55.226902Z"
    },
    "hidden": true
   },
   "outputs": [
    {
     "data": {
      "text/html": [
       "<div>\n",
       "<style scoped>\n",
       "    .dataframe tbody tr th:only-of-type {\n",
       "        vertical-align: middle;\n",
       "    }\n",
       "\n",
       "    .dataframe tbody tr th {\n",
       "        vertical-align: top;\n",
       "    }\n",
       "\n",
       "    .dataframe thead th {\n",
       "        text-align: right;\n",
       "    }\n",
       "</style>\n",
       "<table border=\"1\" class=\"dataframe\">\n",
       "  <thead>\n",
       "    <tr style=\"text-align: right;\">\n",
       "      <th></th>\n",
       "      <th>SibSp</th>\n",
       "      <th>sobrev</th>\n",
       "      <th>total</th>\n",
       "      <th>taxa_sobrev</th>\n",
       "    </tr>\n",
       "  </thead>\n",
       "  <tbody>\n",
       "    <tr>\n",
       "      <th>0</th>\n",
       "      <td>0</td>\n",
       "      <td>210</td>\n",
       "      <td>608</td>\n",
       "      <td>0.345395</td>\n",
       "    </tr>\n",
       "    <tr>\n",
       "      <th>1</th>\n",
       "      <td>1</td>\n",
       "      <td>112</td>\n",
       "      <td>209</td>\n",
       "      <td>0.535885</td>\n",
       "    </tr>\n",
       "    <tr>\n",
       "      <th>2</th>\n",
       "      <td>2</td>\n",
       "      <td>13</td>\n",
       "      <td>28</td>\n",
       "      <td>0.464286</td>\n",
       "    </tr>\n",
       "    <tr>\n",
       "      <th>3</th>\n",
       "      <td>3</td>\n",
       "      <td>4</td>\n",
       "      <td>16</td>\n",
       "      <td>0.250000</td>\n",
       "    </tr>\n",
       "    <tr>\n",
       "      <th>4</th>\n",
       "      <td>4</td>\n",
       "      <td>3</td>\n",
       "      <td>18</td>\n",
       "      <td>0.166667</td>\n",
       "    </tr>\n",
       "    <tr>\n",
       "      <th>5</th>\n",
       "      <td>5</td>\n",
       "      <td>0</td>\n",
       "      <td>5</td>\n",
       "      <td>0.000000</td>\n",
       "    </tr>\n",
       "    <tr>\n",
       "      <th>6</th>\n",
       "      <td>8</td>\n",
       "      <td>0</td>\n",
       "      <td>7</td>\n",
       "      <td>0.000000</td>\n",
       "    </tr>\n",
       "  </tbody>\n",
       "</table>\n",
       "</div>"
      ],
      "text/plain": [
       "   SibSp  sobrev  total  taxa_sobrev\n",
       "0      0     210    608     0.345395\n",
       "1      1     112    209     0.535885\n",
       "2      2      13     28     0.464286\n",
       "3      3       4     16     0.250000\n",
       "4      4       3     18     0.166667\n",
       "5      5       0      5     0.000000\n",
       "6      8       0      7     0.000000"
      ]
     },
     "execution_count": 83,
     "metadata": {},
     "output_type": "execute_result"
    }
   ],
   "source": [
    "# Verificando a sobrevivência para SibSp\n",
    "SibSp_df = treino_4.groupby('SibSp')['Survived'].agg(['sum','count','mean']).reset_index()\n",
    "SibSp_df.columns = ['SibSp','sobrev','total','taxa_sobrev']\n",
    "SibSp_df"
   ]
  },
  {
   "cell_type": "code",
   "execution_count": 84,
   "id": "d6d1eeaf",
   "metadata": {
    "ExecuteTime": {
     "end_time": "2024-05-15T10:33:55.502027Z",
     "start_time": "2024-05-15T10:33:55.353639Z"
    },
    "hidden": true
   },
   "outputs": [
    {
     "data": {
      "text/html": [
       "<div>\n",
       "<style scoped>\n",
       "    .dataframe tbody tr th:only-of-type {\n",
       "        vertical-align: middle;\n",
       "    }\n",
       "\n",
       "    .dataframe tbody tr th {\n",
       "        vertical-align: top;\n",
       "    }\n",
       "\n",
       "    .dataframe thead th {\n",
       "        text-align: right;\n",
       "    }\n",
       "</style>\n",
       "<table border=\"1\" class=\"dataframe\">\n",
       "  <thead>\n",
       "    <tr style=\"text-align: right;\">\n",
       "      <th></th>\n",
       "      <th>Parch</th>\n",
       "      <th>sobrev</th>\n",
       "      <th>total</th>\n",
       "      <th>taxa_sobrev</th>\n",
       "    </tr>\n",
       "  </thead>\n",
       "  <tbody>\n",
       "    <tr>\n",
       "      <th>0</th>\n",
       "      <td>0</td>\n",
       "      <td>233</td>\n",
       "      <td>678</td>\n",
       "      <td>0.343658</td>\n",
       "    </tr>\n",
       "    <tr>\n",
       "      <th>1</th>\n",
       "      <td>1</td>\n",
       "      <td>65</td>\n",
       "      <td>118</td>\n",
       "      <td>0.550847</td>\n",
       "    </tr>\n",
       "    <tr>\n",
       "      <th>2</th>\n",
       "      <td>2</td>\n",
       "      <td>40</td>\n",
       "      <td>80</td>\n",
       "      <td>0.500000</td>\n",
       "    </tr>\n",
       "    <tr>\n",
       "      <th>3</th>\n",
       "      <td>3</td>\n",
       "      <td>3</td>\n",
       "      <td>5</td>\n",
       "      <td>0.600000</td>\n",
       "    </tr>\n",
       "    <tr>\n",
       "      <th>4</th>\n",
       "      <td>4</td>\n",
       "      <td>0</td>\n",
       "      <td>4</td>\n",
       "      <td>0.000000</td>\n",
       "    </tr>\n",
       "    <tr>\n",
       "      <th>5</th>\n",
       "      <td>5</td>\n",
       "      <td>1</td>\n",
       "      <td>5</td>\n",
       "      <td>0.200000</td>\n",
       "    </tr>\n",
       "    <tr>\n",
       "      <th>6</th>\n",
       "      <td>6</td>\n",
       "      <td>0</td>\n",
       "      <td>1</td>\n",
       "      <td>0.000000</td>\n",
       "    </tr>\n",
       "  </tbody>\n",
       "</table>\n",
       "</div>"
      ],
      "text/plain": [
       "   Parch  sobrev  total  taxa_sobrev\n",
       "0      0     233    678     0.343658\n",
       "1      1      65    118     0.550847\n",
       "2      2      40     80     0.500000\n",
       "3      3       3      5     0.600000\n",
       "4      4       0      4     0.000000\n",
       "5      5       1      5     0.200000\n",
       "6      6       0      1     0.000000"
      ]
     },
     "execution_count": 84,
     "metadata": {},
     "output_type": "execute_result"
    }
   ],
   "source": [
    "# Verificando a sobrevivência para Parch\n",
    "Parch_df = treino_4.groupby('Parch')['Survived'].agg(['sum','count','mean']).reset_index()\n",
    "Parch_df.columns = ['Parch','sobrev','total','taxa_sobrev']\n",
    "Parch_df"
   ]
  },
  {
   "cell_type": "code",
   "execution_count": 85,
   "id": "15a69cb5",
   "metadata": {
    "ExecuteTime": {
     "end_time": "2024-05-15T10:33:56.549898Z",
     "start_time": "2024-05-15T10:33:55.506017Z"
    },
    "hidden": true
   },
   "outputs": [
    {
     "data": {
      "text/plain": [
       "Text(0.5, 1.0, 'sobreviventes por n° depais/filhos')"
      ]
     },
     "execution_count": 85,
     "metadata": {},
     "output_type": "execute_result"
    },
    {
     "data": {
      "image/png": "[encoded data removed]",
      "text/plain": [
       "<Figure size 1000x600 with 4 Axes>"
      ]
     },
     "metadata": {},
     "output_type": "display_data"
    }
   ],
   "source": [
    "# Visualizando essas informações graficamente\n",
    "fig, ax = plt.subplots(ncols=2,nrows=2,figsize=(10,6))\n",
    "\n",
    "ax[0,0].plot(SibSp_df.SibSp, SibSp_df.sobrev)\n",
    "ax[0,0].plot(SibSp_df.SibSp, SibSp_df.total)\n",
    "ax[0,0].set_title('sobreviventes por n° de irmãos/cônjuges', fontsize=10)\n",
    "\n",
    "labels1 = ax[0,1].bar(SibSp_df.SibSp, SibSp_df.taxa_sobrev)\n",
    "ax[0,1].bar_label(labels1, fmt=\"%.02f\")\n",
    "ax[0,1].set(ylim=(0,0.6))\n",
    "ax[0,1].set_title('taxa de sobrevivência por n° de irmãos/cônjuges', fontsize=10)\n",
    "\n",
    "ax[1,0].plot(Parch_df.Parch, Parch_df.sobrev)\n",
    "ax[1,0].plot(Parch_df.Parch, Parch_df.total)\n",
    "ax[1,0].set_title('sobreviventes por n° depais/filhos', fontsize=10)\n",
    "\n",
    "labels2 = ax[1,1].bar(Parch_df.Parch, Parch_df.taxa_sobrev)\n",
    "ax[1,1].bar_label(labels2, fmt=\"%.02f\")\n",
    "ax[1,1].set(ylim=(0,0.7))\n",
    "ax[1,1].set_title('sobreviventes por n° depais/filhos', fontsize=10)"
   ]
  },
  {
   "cell_type": "markdown",
   "id": "4e3537c4",
   "metadata": {
    "hidden": true
   },
   "source": [
    "**Podemos ver um certo padrão para o pessoas viajando junto com irmãos/cônjuges onde que pessoas viajando sozinhas têm uma menor chance de sobreviver pessoas viajando com um irmão/cônjuge têm uma maior taxa de sobrevivência e esse valor vai diminuindo a medida que a quantidade de pessoas vianjando juntas aumentam**\n",
    "\n",
    "**Porém o único padrão que podemos observar no gráfico para filhos/pais é que pessoas vianjando sozinhas têm uma menor taxa de sobrevivência**"
   ]
  },
  {
   "cell_type": "markdown",
   "id": "fb46800f",
   "metadata": {
    "hidden": true
   },
   "source": [
    "**Agora vamos criar uma nova coluna identificando se o passageiro está viajando sozinho ou não**"
   ]
  },
  {
   "cell_type": "code",
   "execution_count": 86,
   "id": "8f5ddf48",
   "metadata": {
    "ExecuteTime": {
     "end_time": "2024-05-15T10:33:56.561385Z",
     "start_time": "2024-05-15T10:33:56.555881Z"
    },
    "hidden": true
   },
   "outputs": [],
   "source": [
    "# Criando uma função para verificar se os dois valores são vazios\n",
    "def sozinho(a,b):\n",
    "    if (a ==0 and b ==0):\n",
    "        return 1\n",
    "    else:\n",
    "        return 0"
   ]
  },
  {
   "cell_type": "code",
   "execution_count": 87,
   "id": "a38ddf14",
   "metadata": {
    "ExecuteTime": {
     "end_time": "2024-05-15T10:33:56.665109Z",
     "start_time": "2024-05-15T10:33:56.565371Z"
    },
    "hidden": true
   },
   "outputs": [],
   "source": [
    "# Aplicando essa função na base de treino\n",
    "treino_4['Sozinho'] = treino_4.apply(lambda x: sozinho(x.SibSp,x.Parch),axis=1)"
   ]
  },
  {
   "cell_type": "code",
   "execution_count": 88,
   "id": "057a043e",
   "metadata": {
    "ExecuteTime": {
     "end_time": "2024-05-15T10:33:56.824733Z",
     "start_time": "2024-05-15T10:33:56.667028Z"
    },
    "hidden": true
   },
   "outputs": [
    {
     "data": {
      "text/html": [
       "<div>\n",
       "<style scoped>\n",
       "    .dataframe tbody tr th:only-of-type {\n",
       "        vertical-align: middle;\n",
       "    }\n",
       "\n",
       "    .dataframe tbody tr th {\n",
       "        vertical-align: top;\n",
       "    }\n",
       "\n",
       "    .dataframe thead th {\n",
       "        text-align: right;\n",
       "    }\n",
       "</style>\n",
       "<table border=\"1\" class=\"dataframe\">\n",
       "  <thead>\n",
       "    <tr style=\"text-align: right;\">\n",
       "      <th></th>\n",
       "      <th>SibSp</th>\n",
       "      <th>Parch</th>\n",
       "    </tr>\n",
       "    <tr>\n",
       "      <th>Sozinho</th>\n",
       "      <th></th>\n",
       "      <th></th>\n",
       "    </tr>\n",
       "  </thead>\n",
       "  <tbody>\n",
       "    <tr>\n",
       "      <th>0</th>\n",
       "      <td>1.316384</td>\n",
       "      <td>0.960452</td>\n",
       "    </tr>\n",
       "    <tr>\n",
       "      <th>1</th>\n",
       "      <td>0.000000</td>\n",
       "      <td>0.000000</td>\n",
       "    </tr>\n",
       "  </tbody>\n",
       "</table>\n",
       "</div>"
      ],
      "text/plain": [
       "            SibSp     Parch\n",
       "Sozinho                    \n",
       "0        1.316384  0.960452\n",
       "1        0.000000  0.000000"
      ]
     },
     "execution_count": 88,
     "metadata": {},
     "output_type": "execute_result"
    }
   ],
   "source": [
    "# Verificando os valores nessa coluna\n",
    "treino_4.groupby('Sozinho')[['SibSp',\"Parch\"]].mean()"
   ]
  },
  {
   "cell_type": "code",
   "execution_count": 89,
   "id": "acce2afc",
   "metadata": {
    "ExecuteTime": {
     "end_time": "2024-05-15T10:33:56.991375Z",
     "start_time": "2024-05-15T10:33:56.828714Z"
    },
    "hidden": true
   },
   "outputs": [],
   "source": [
    "# Fazendo o mesmo para a base de teste\n",
    "teste_4['Sozinho'] = teste_4.apply(lambda x: sozinho(x.SibSp,x.Parch),axis=1)"
   ]
  },
  {
   "cell_type": "markdown",
   "id": "695701bc",
   "metadata": {
    "hidden": true
   },
   "source": [
    "**Podemos também criar uma nova coluna sendo o total de familiares a bordo**"
   ]
  },
  {
   "cell_type": "code",
   "execution_count": 90,
   "id": "6f451208",
   "metadata": {
    "ExecuteTime": {
     "end_time": "2024-05-15T10:33:57.055077Z",
     "start_time": "2024-05-15T10:33:56.994366Z"
    },
    "hidden": true
   },
   "outputs": [],
   "source": [
    "# Criando para a base de dados\n",
    "treino_4['Familiares'] = treino_4.SibSp + treino_4.Parch"
   ]
  },
  {
   "cell_type": "code",
   "execution_count": 91,
   "id": "0ff9cbc1",
   "metadata": {
    "ExecuteTime": {
     "end_time": "2024-05-15T10:33:57.130337Z",
     "start_time": "2024-05-15T10:33:57.058067Z"
    },
    "hidden": true
   },
   "outputs": [],
   "source": [
    "# Agora para a base de teste\n",
    "teste_4['Familiares'] = teste_4.SibSp + teste_4.Parch"
   ]
  },
  {
   "cell_type": "code",
   "execution_count": 92,
   "id": "12ce75d6",
   "metadata": {
    "ExecuteTime": {
     "end_time": "2024-05-15T10:33:57.243843Z",
     "start_time": "2024-05-15T10:33:57.131734Z"
    },
    "hidden": true
   },
   "outputs": [
    {
     "data": {
      "text/html": [
       "<div>\n",
       "<style scoped>\n",
       "    .dataframe tbody tr th:only-of-type {\n",
       "        vertical-align: middle;\n",
       "    }\n",
       "\n",
       "    .dataframe tbody tr th {\n",
       "        vertical-align: top;\n",
       "    }\n",
       "\n",
       "    .dataframe thead th {\n",
       "        text-align: right;\n",
       "    }\n",
       "</style>\n",
       "<table border=\"1\" class=\"dataframe\">\n",
       "  <thead>\n",
       "    <tr style=\"text-align: right;\">\n",
       "      <th></th>\n",
       "      <th>Familiares</th>\n",
       "      <th>sobrev</th>\n",
       "      <th>total</th>\n",
       "      <th>taxa_sobrev</th>\n",
       "    </tr>\n",
       "  </thead>\n",
       "  <tbody>\n",
       "    <tr>\n",
       "      <th>0</th>\n",
       "      <td>0</td>\n",
       "      <td>163</td>\n",
       "      <td>537</td>\n",
       "      <td>0.303538</td>\n",
       "    </tr>\n",
       "    <tr>\n",
       "      <th>1</th>\n",
       "      <td>1</td>\n",
       "      <td>89</td>\n",
       "      <td>161</td>\n",
       "      <td>0.552795</td>\n",
       "    </tr>\n",
       "    <tr>\n",
       "      <th>2</th>\n",
       "      <td>2</td>\n",
       "      <td>59</td>\n",
       "      <td>102</td>\n",
       "      <td>0.578431</td>\n",
       "    </tr>\n",
       "    <tr>\n",
       "      <th>3</th>\n",
       "      <td>3</td>\n",
       "      <td>21</td>\n",
       "      <td>29</td>\n",
       "      <td>0.724138</td>\n",
       "    </tr>\n",
       "    <tr>\n",
       "      <th>4</th>\n",
       "      <td>4</td>\n",
       "      <td>3</td>\n",
       "      <td>15</td>\n",
       "      <td>0.200000</td>\n",
       "    </tr>\n",
       "    <tr>\n",
       "      <th>5</th>\n",
       "      <td>5</td>\n",
       "      <td>3</td>\n",
       "      <td>22</td>\n",
       "      <td>0.136364</td>\n",
       "    </tr>\n",
       "    <tr>\n",
       "      <th>6</th>\n",
       "      <td>6</td>\n",
       "      <td>4</td>\n",
       "      <td>12</td>\n",
       "      <td>0.333333</td>\n",
       "    </tr>\n",
       "    <tr>\n",
       "      <th>7</th>\n",
       "      <td>7</td>\n",
       "      <td>0</td>\n",
       "      <td>6</td>\n",
       "      <td>0.000000</td>\n",
       "    </tr>\n",
       "    <tr>\n",
       "      <th>8</th>\n",
       "      <td>10</td>\n",
       "      <td>0</td>\n",
       "      <td>7</td>\n",
       "      <td>0.000000</td>\n",
       "    </tr>\n",
       "  </tbody>\n",
       "</table>\n",
       "</div>"
      ],
      "text/plain": [
       "   Familiares  sobrev  total  taxa_sobrev\n",
       "0           0     163    537     0.303538\n",
       "1           1      89    161     0.552795\n",
       "2           2      59    102     0.578431\n",
       "3           3      21     29     0.724138\n",
       "4           4       3     15     0.200000\n",
       "5           5       3     22     0.136364\n",
       "6           6       4     12     0.333333\n",
       "7           7       0      6     0.000000\n",
       "8          10       0      7     0.000000"
      ]
     },
     "execution_count": 92,
     "metadata": {},
     "output_type": "execute_result"
    }
   ],
   "source": [
    "# Verificando a sobrevivência para familiares\n",
    "Familiares_df = treino_4.groupby('Familiares')['Survived'].agg(['sum','count','mean']).reset_index()\n",
    "Familiares_df.columns = ['Familiares','sobrev','total','taxa_sobrev']\n",
    "Familiares_df"
   ]
  },
  {
   "cell_type": "code",
   "execution_count": 93,
   "id": "216e9c56",
   "metadata": {
    "ExecuteTime": {
     "end_time": "2024-05-15T10:33:57.768243Z",
     "start_time": "2024-05-15T10:33:57.245832Z"
    },
    "hidden": true
   },
   "outputs": [
    {
     "data": {
      "image/png": "[encoded data removed]",
      "text/plain": [
       "<Figure size 1000x300 with 2 Axes>"
      ]
     },
     "metadata": {},
     "output_type": "display_data"
    }
   ],
   "source": [
    "# Visualizando a informação de familiares\n",
    "fig, ax = plt.subplots(ncols=2,figsize=(10,3))\n",
    "\n",
    "ax[0].plot(Familiares_df.Familiares, Familiares_df.sobrev)\n",
    "ax[0].plot(Familiares_df.Familiares, Familiares_df.total)\n",
    "ax[0].set_title('sobreviventes por n° de familiares', fontsize=10)\n",
    "\n",
    "labels1 = ax[1].bar(Familiares_df.Familiares, Familiares_df.taxa_sobrev)\n",
    "ax[1].bar_label(labels1,fmt='%.02f')\n",
    "ax[1].set(ylim=(0,0.8))\n",
    "ax[1].set_title('taxa de sobrevivência por n° de familiares', fontsize=10)\n",
    "\n",
    "plt.show()"
   ]
  },
  {
   "cell_type": "markdown",
   "id": "53735531",
   "metadata": {
    "hidden": true
   },
   "source": [
    "**Podemos agora utilizar essas novas bases no nosso modelo para verificar o resultado**"
   ]
  },
  {
   "cell_type": "markdown",
   "id": "7ba9671f",
   "metadata": {
    "hidden": true
   },
   "source": [
    "### Fazendo a verificação da Acurácia para essa mudança nas colunas de familiares"
   ]
  },
  {
   "cell_type": "code",
   "execution_count": 94,
   "id": "e3b1e72e",
   "metadata": {
    "ExecuteTime": {
     "end_time": "2024-05-15T10:33:57.788232Z",
     "start_time": "2024-05-15T10:33:57.770965Z"
    },
    "hidden": true
   },
   "outputs": [
    {
     "data": {
      "text/html": [
       "<div>\n",
       "<style scoped>\n",
       "    .dataframe tbody tr th:only-of-type {\n",
       "        vertical-align: middle;\n",
       "    }\n",
       "\n",
       "    .dataframe tbody tr th {\n",
       "        vertical-align: top;\n",
       "    }\n",
       "\n",
       "    .dataframe thead th {\n",
       "        text-align: right;\n",
       "    }\n",
       "</style>\n",
       "<table border=\"1\" class=\"dataframe\">\n",
       "  <thead>\n",
       "    <tr style=\"text-align: right;\">\n",
       "      <th></th>\n",
       "      <th>PassengerId</th>\n",
       "      <th>Survived</th>\n",
       "      <th>Pclass</th>\n",
       "      <th>Age</th>\n",
       "      <th>SibSp</th>\n",
       "      <th>Parch</th>\n",
       "      <th>Fare</th>\n",
       "      <th>MaleCheck</th>\n",
       "      <th>Embarked_C</th>\n",
       "      <th>Embarked_Q</th>\n",
       "      <th>Embarked_S</th>\n",
       "      <th>Sozinho</th>\n",
       "      <th>Familiares</th>\n",
       "    </tr>\n",
       "  </thead>\n",
       "  <tbody>\n",
       "    <tr>\n",
       "      <th>0</th>\n",
       "      <td>1</td>\n",
       "      <td>0</td>\n",
       "      <td>3</td>\n",
       "      <td>-0.592240</td>\n",
       "      <td>1</td>\n",
       "      <td>0</td>\n",
       "      <td>-0.312011</td>\n",
       "      <td>1</td>\n",
       "      <td>0.0</td>\n",
       "      <td>0.0</td>\n",
       "      <td>1.0</td>\n",
       "      <td>0</td>\n",
       "      <td>1</td>\n",
       "    </tr>\n",
       "    <tr>\n",
       "      <th>1</th>\n",
       "      <td>2</td>\n",
       "      <td>1</td>\n",
       "      <td>1</td>\n",
       "      <td>0.638529</td>\n",
       "      <td>1</td>\n",
       "      <td>0</td>\n",
       "      <td>2.461242</td>\n",
       "      <td>0</td>\n",
       "      <td>1.0</td>\n",
       "      <td>0.0</td>\n",
       "      <td>0.0</td>\n",
       "      <td>0</td>\n",
       "      <td>1</td>\n",
       "    </tr>\n",
       "    <tr>\n",
       "      <th>2</th>\n",
       "      <td>3</td>\n",
       "      <td>1</td>\n",
       "      <td>3</td>\n",
       "      <td>-0.284548</td>\n",
       "      <td>0</td>\n",
       "      <td>0</td>\n",
       "      <td>-0.282777</td>\n",
       "      <td>0</td>\n",
       "      <td>0.0</td>\n",
       "      <td>0.0</td>\n",
       "      <td>1.0</td>\n",
       "      <td>1</td>\n",
       "      <td>0</td>\n",
       "    </tr>\n",
       "    <tr>\n",
       "      <th>3</th>\n",
       "      <td>4</td>\n",
       "      <td>1</td>\n",
       "      <td>1</td>\n",
       "      <td>0.407760</td>\n",
       "      <td>1</td>\n",
       "      <td>0</td>\n",
       "      <td>1.673732</td>\n",
       "      <td>0</td>\n",
       "      <td>0.0</td>\n",
       "      <td>0.0</td>\n",
       "      <td>1.0</td>\n",
       "      <td>0</td>\n",
       "      <td>1</td>\n",
       "    </tr>\n",
       "    <tr>\n",
       "      <th>4</th>\n",
       "      <td>5</td>\n",
       "      <td>0</td>\n",
       "      <td>3</td>\n",
       "      <td>0.407760</td>\n",
       "      <td>0</td>\n",
       "      <td>0</td>\n",
       "      <td>-0.277363</td>\n",
       "      <td>1</td>\n",
       "      <td>0.0</td>\n",
       "      <td>0.0</td>\n",
       "      <td>1.0</td>\n",
       "      <td>1</td>\n",
       "      <td>0</td>\n",
       "    </tr>\n",
       "  </tbody>\n",
       "</table>\n",
       "</div>"
      ],
      "text/plain": [
       "   PassengerId  Survived  Pclass       Age  SibSp  Parch      Fare  MaleCheck  \\\n",
       "0            1         0       3 -0.592240      1      0 -0.312011          1   \n",
       "1            2         1       1  0.638529      1      0  2.461242          0   \n",
       "2            3         1       3 -0.284548      0      0 -0.282777          0   \n",
       "3            4         1       1  0.407760      1      0  1.673732          0   \n",
       "4            5         0       3  0.407760      0      0 -0.277363          1   \n",
       "\n",
       "   Embarked_C  Embarked_Q  Embarked_S  Sozinho  Familiares  \n",
       "0         0.0         0.0         1.0        0           1  \n",
       "1         1.0         0.0         0.0        0           1  \n",
       "2         0.0         0.0         1.0        1           0  \n",
       "3         0.0         0.0         1.0        0           1  \n",
       "4         0.0         0.0         1.0        1           0  "
      ]
     },
     "execution_count": 94,
     "metadata": {},
     "output_type": "execute_result"
    }
   ],
   "source": [
    "# Verificando a base de treino\n",
    "treino_4.head()"
   ]
  },
  {
   "cell_type": "code",
   "execution_count": 95,
   "id": "8c1e71d5",
   "metadata": {
    "ExecuteTime": {
     "end_time": "2024-05-15T10:33:57.913591Z",
     "start_time": "2024-05-15T10:33:57.792220Z"
    },
    "hidden": true
   },
   "outputs": [
    {
     "data": {
      "text/html": [
       "<div>\n",
       "<style scoped>\n",
       "    .dataframe tbody tr th:only-of-type {\n",
       "        vertical-align: middle;\n",
       "    }\n",
       "\n",
       "    .dataframe tbody tr th {\n",
       "        vertical-align: top;\n",
       "    }\n",
       "\n",
       "    .dataframe thead th {\n",
       "        text-align: right;\n",
       "    }\n",
       "</style>\n",
       "<table border=\"1\" class=\"dataframe\">\n",
       "  <thead>\n",
       "    <tr style=\"text-align: right;\">\n",
       "      <th></th>\n",
       "      <th>PassengerId</th>\n",
       "      <th>Pclass</th>\n",
       "      <th>Age</th>\n",
       "      <th>SibSp</th>\n",
       "      <th>Parch</th>\n",
       "      <th>Fare</th>\n",
       "      <th>MaleCheck</th>\n",
       "      <th>Embarked_C</th>\n",
       "      <th>Embarked_Q</th>\n",
       "      <th>Embarked_S</th>\n",
       "      <th>Sozinho</th>\n",
       "      <th>Familiares</th>\n",
       "    </tr>\n",
       "  </thead>\n",
       "  <tbody>\n",
       "    <tr>\n",
       "      <th>0</th>\n",
       "      <td>892</td>\n",
       "      <td>3</td>\n",
       "      <td>0.331562</td>\n",
       "      <td>0</td>\n",
       "      <td>0</td>\n",
       "      <td>-0.281005</td>\n",
       "      <td>1</td>\n",
       "      <td>0.0</td>\n",
       "      <td>1.0</td>\n",
       "      <td>0.0</td>\n",
       "      <td>1</td>\n",
       "      <td>0</td>\n",
       "    </tr>\n",
       "    <tr>\n",
       "      <th>1</th>\n",
       "      <td>893</td>\n",
       "      <td>3</td>\n",
       "      <td>1.311954</td>\n",
       "      <td>1</td>\n",
       "      <td>0</td>\n",
       "      <td>-0.316176</td>\n",
       "      <td>0</td>\n",
       "      <td>0.0</td>\n",
       "      <td>0.0</td>\n",
       "      <td>1.0</td>\n",
       "      <td>0</td>\n",
       "      <td>1</td>\n",
       "    </tr>\n",
       "    <tr>\n",
       "      <th>2</th>\n",
       "      <td>894</td>\n",
       "      <td>2</td>\n",
       "      <td>2.488424</td>\n",
       "      <td>0</td>\n",
       "      <td>0</td>\n",
       "      <td>-0.202184</td>\n",
       "      <td>1</td>\n",
       "      <td>0.0</td>\n",
       "      <td>1.0</td>\n",
       "      <td>0.0</td>\n",
       "      <td>1</td>\n",
       "      <td>0</td>\n",
       "    </tr>\n",
       "    <tr>\n",
       "      <th>3</th>\n",
       "      <td>895</td>\n",
       "      <td>3</td>\n",
       "      <td>-0.256674</td>\n",
       "      <td>0</td>\n",
       "      <td>0</td>\n",
       "      <td>-0.245660</td>\n",
       "      <td>1</td>\n",
       "      <td>0.0</td>\n",
       "      <td>0.0</td>\n",
       "      <td>1.0</td>\n",
       "      <td>1</td>\n",
       "      <td>0</td>\n",
       "    </tr>\n",
       "    <tr>\n",
       "      <th>4</th>\n",
       "      <td>896</td>\n",
       "      <td>3</td>\n",
       "      <td>-0.648831</td>\n",
       "      <td>1</td>\n",
       "      <td>1</td>\n",
       "      <td>-0.091902</td>\n",
       "      <td>0</td>\n",
       "      <td>0.0</td>\n",
       "      <td>0.0</td>\n",
       "      <td>1.0</td>\n",
       "      <td>0</td>\n",
       "      <td>2</td>\n",
       "    </tr>\n",
       "  </tbody>\n",
       "</table>\n",
       "</div>"
      ],
      "text/plain": [
       "   PassengerId  Pclass       Age  SibSp  Parch      Fare  MaleCheck  \\\n",
       "0          892       3  0.331562      0      0 -0.281005          1   \n",
       "1          893       3  1.311954      1      0 -0.316176          0   \n",
       "2          894       2  2.488424      0      0 -0.202184          1   \n",
       "3          895       3 -0.256674      0      0 -0.245660          1   \n",
       "4          896       3 -0.648831      1      1 -0.091902          0   \n",
       "\n",
       "   Embarked_C  Embarked_Q  Embarked_S  Sozinho  Familiares  \n",
       "0         0.0         1.0         0.0        1           0  \n",
       "1         0.0         0.0         1.0        0           1  \n",
       "2         0.0         1.0         0.0        1           0  \n",
       "3         0.0         0.0         1.0        1           0  \n",
       "4         0.0         0.0         1.0        0           2  "
      ]
     },
     "execution_count": 95,
     "metadata": {},
     "output_type": "execute_result"
    }
   ],
   "source": [
    "# verificando a base de teste\n",
    "teste_4.head()"
   ]
  },
  {
   "cell_type": "code",
   "execution_count": 96,
   "id": "c921d7ff",
   "metadata": {
    "ExecuteTime": {
     "end_time": "2024-05-15T10:33:58.053860Z",
     "start_time": "2024-05-15T10:33:57.917578Z"
    },
    "hidden": true
   },
   "outputs": [],
   "source": [
    "#Separando em x e y para o treino\n",
    "x = treino_4.drop(['PassengerId', 'Survived'], axis=1)\n",
    "y = treino_4.Survived\n",
    "\n",
    "# Separando em treino e validação\n",
    "x_train, x_val, y_train, y_val = train_test_split(x,\n",
    "                                                  y,\n",
    "                                                  test_size=0.33,\n",
    "                                                  random_state=42)\n",
    "\n",
    "# árvore\n",
    "clf_ac = tree.DecisionTreeClassifier(random_state=42)\n",
    "clf_ac = clf_ac.fit(x_train, y_train)\n",
    "y_pred_ac = clf_ac.predict(x_val)\n",
    "\n",
    "# Knn\n",
    "\n",
    "clf_knn = KNeighborsClassifier(n_neighbors=3)\n",
    "clf_knn = clf_knn.fit(x_train, y_train)\n",
    "y_pred_knn = clf_knn.predict(x_val)\n",
    "\n",
    "# regressão logística\n",
    "clf_rl = LogisticRegression(random_state=42, max_iter=1000)\n",
    "clf_knn = clf_rl.fit(x_train, y_train)\n",
    "y_pred_rl = clf_rl.predict(x_val)"
   ]
  },
  {
   "cell_type": "code",
   "execution_count": 97,
   "id": "cc923869",
   "metadata": {
    "ExecuteTime": {
     "end_time": "2024-05-15T10:33:58.092601Z",
     "start_time": "2024-05-15T10:33:58.055855Z"
    },
    "hidden": true
   },
   "outputs": [],
   "source": [
    "# Para árvore\n",
    "as_ac_familiares = accuracy_score(y_val, y_pred_ac)\n",
    "\n",
    "# knn\n",
    "as_knn_familiares = accuracy_score(y_val, y_pred_knn)\n",
    "\n",
    "# regressão\n",
    "as_rl_familiares = accuracy_score(y_val, y_pred_rl)"
   ]
  },
  {
   "cell_type": "code",
   "execution_count": 98,
   "id": "be2e50f9",
   "metadata": {
    "ExecuteTime": {
     "end_time": "2024-05-15T10:33:58.191769Z",
     "start_time": "2024-05-15T10:33:58.095591Z"
    },
    "hidden": true
   },
   "outputs": [
    {
     "data": {
      "text/html": [
       "<div>\n",
       "<style scoped>\n",
       "    .dataframe tbody tr th:only-of-type {\n",
       "        vertical-align: middle;\n",
       "    }\n",
       "\n",
       "    .dataframe tbody tr th {\n",
       "        vertical-align: top;\n",
       "    }\n",
       "\n",
       "    .dataframe thead th {\n",
       "        text-align: right;\n",
       "    }\n",
       "</style>\n",
       "<table border=\"1\" class=\"dataframe\">\n",
       "  <thead>\n",
       "    <tr style=\"text-align: right;\">\n",
       "      <th></th>\n",
       "      <th>modelos</th>\n",
       "      <th>familiares</th>\n",
       "    </tr>\n",
       "  </thead>\n",
       "  <tbody>\n",
       "    <tr>\n",
       "      <th>0</th>\n",
       "      <td>arvore</td>\n",
       "      <td>0.735593</td>\n",
       "    </tr>\n",
       "    <tr>\n",
       "      <th>1</th>\n",
       "      <td>knn</td>\n",
       "      <td>0.786441</td>\n",
       "    </tr>\n",
       "    <tr>\n",
       "      <th>2</th>\n",
       "      <td>reg_log</td>\n",
       "      <td>0.806780</td>\n",
       "    </tr>\n",
       "  </tbody>\n",
       "</table>\n",
       "</div>"
      ],
      "text/plain": [
       "   modelos  familiares\n",
       "0   arvore    0.735593\n",
       "1      knn    0.786441\n",
       "2  reg_log    0.806780"
      ]
     },
     "execution_count": 98,
     "metadata": {},
     "output_type": "execute_result"
    }
   ],
   "source": [
    "# Criando um dataframe para as novas acurácias\n",
    "as_df_familiares = pd.DataFrame({\n",
    "    'modelos':  ['arvore','knn','reg_log'],\n",
    "    'familiares': [as_ac_familiares,as_knn_familiares,as_rl_familiares]\n",
    "})\n",
    "\n",
    "as_df_familiares"
   ]
  },
  {
   "cell_type": "code",
   "execution_count": 99,
   "id": "c6370c3b",
   "metadata": {
    "ExecuteTime": {
     "end_time": "2024-05-15T10:33:58.333642Z",
     "start_time": "2024-05-15T10:33:58.194757Z"
    },
    "hidden": true
   },
   "outputs": [
    {
     "data": {
      "text/html": [
       "<div>\n",
       "<style scoped>\n",
       "    .dataframe tbody tr th:only-of-type {\n",
       "        vertical-align: middle;\n",
       "    }\n",
       "\n",
       "    .dataframe tbody tr th {\n",
       "        vertical-align: top;\n",
       "    }\n",
       "\n",
       "    .dataframe thead th {\n",
       "        text-align: right;\n",
       "    }\n",
       "</style>\n",
       "<table border=\"1\" class=\"dataframe\">\n",
       "  <thead>\n",
       "    <tr style=\"text-align: right;\">\n",
       "      <th></th>\n",
       "      <th>modelos</th>\n",
       "      <th>iniciais</th>\n",
       "      <th>escala</th>\n",
       "      <th>familiares</th>\n",
       "    </tr>\n",
       "  </thead>\n",
       "  <tbody>\n",
       "    <tr>\n",
       "      <th>0</th>\n",
       "      <td>arvore</td>\n",
       "      <td>0.749153</td>\n",
       "      <td>0.749153</td>\n",
       "      <td>0.735593</td>\n",
       "    </tr>\n",
       "    <tr>\n",
       "      <th>1</th>\n",
       "      <td>knn</td>\n",
       "      <td>0.715254</td>\n",
       "      <td>0.800000</td>\n",
       "      <td>0.786441</td>\n",
       "    </tr>\n",
       "    <tr>\n",
       "      <th>2</th>\n",
       "      <td>reg_log</td>\n",
       "      <td>0.816949</td>\n",
       "      <td>0.816949</td>\n",
       "      <td>0.806780</td>\n",
       "    </tr>\n",
       "  </tbody>\n",
       "</table>\n",
       "</div>"
      ],
      "text/plain": [
       "   modelos  iniciais    escala  familiares\n",
       "0   arvore  0.749153  0.749153    0.735593\n",
       "1      knn  0.715254  0.800000    0.786441\n",
       "2  reg_log  0.816949  0.816949    0.806780"
      ]
     },
     "execution_count": 99,
     "metadata": {},
     "output_type": "execute_result"
    }
   ],
   "source": [
    "# Juntando os datasets para comparação\n",
    "as_df_final = as_df_final.join(as_df_familiares.set_index('modelos'),on='modelos')\n",
    "as_df_final"
   ]
  },
  {
   "cell_type": "markdown",
   "id": "7e54a22f",
   "metadata": {
    "hidden": true
   },
   "source": [
    "**Verificamos que essa informação dos familiares e cônjuges piorou um pouco nosso modelo. Isso não significa que essas colunas formam inúteis para o modelo e sim que precisamos achar uma forma de melhor utilizar essas novas colunas.**"
   ]
  },
  {
   "cell_type": "markdown",
   "id": "eebbcbbb",
   "metadata": {
    "hidden": true
   },
   "source": [
    "## Selecionando as melhores variáveis para o modelo"
   ]
  },
  {
   "cell_type": "markdown",
   "id": "b1e7dfd5",
   "metadata": {
    "hidden": true
   },
   "source": [
    "### Verificando a correlação das variáveis"
   ]
  },
  {
   "cell_type": "code",
   "execution_count": 100,
   "id": "c051b999",
   "metadata": {
    "ExecuteTime": {
     "end_time": "2024-05-15T10:33:58.489447Z",
     "start_time": "2024-05-15T10:33:58.337630Z"
    },
    "hidden": true
   },
   "outputs": [
    {
     "data": {
      "text/html": [
       "<div>\n",
       "<style scoped>\n",
       "    .dataframe tbody tr th:only-of-type {\n",
       "        vertical-align: middle;\n",
       "    }\n",
       "\n",
       "    .dataframe tbody tr th {\n",
       "        vertical-align: top;\n",
       "    }\n",
       "\n",
       "    .dataframe thead th {\n",
       "        text-align: right;\n",
       "    }\n",
       "</style>\n",
       "<table border=\"1\" class=\"dataframe\">\n",
       "  <thead>\n",
       "    <tr style=\"text-align: right;\">\n",
       "      <th></th>\n",
       "      <th>PassengerId</th>\n",
       "      <th>Survived</th>\n",
       "      <th>Pclass</th>\n",
       "      <th>Age</th>\n",
       "      <th>SibSp</th>\n",
       "      <th>Parch</th>\n",
       "      <th>Fare</th>\n",
       "      <th>MaleCheck</th>\n",
       "      <th>Embarked_C</th>\n",
       "      <th>Embarked_Q</th>\n",
       "      <th>Embarked_S</th>\n",
       "      <th>Sozinho</th>\n",
       "      <th>Familiares</th>\n",
       "    </tr>\n",
       "  </thead>\n",
       "  <tbody>\n",
       "    <tr>\n",
       "      <th>0</th>\n",
       "      <td>1</td>\n",
       "      <td>0</td>\n",
       "      <td>3</td>\n",
       "      <td>-0.592240</td>\n",
       "      <td>1</td>\n",
       "      <td>0</td>\n",
       "      <td>-0.312011</td>\n",
       "      <td>1</td>\n",
       "      <td>0.0</td>\n",
       "      <td>0.0</td>\n",
       "      <td>1.0</td>\n",
       "      <td>0</td>\n",
       "      <td>1</td>\n",
       "    </tr>\n",
       "    <tr>\n",
       "      <th>1</th>\n",
       "      <td>2</td>\n",
       "      <td>1</td>\n",
       "      <td>1</td>\n",
       "      <td>0.638529</td>\n",
       "      <td>1</td>\n",
       "      <td>0</td>\n",
       "      <td>2.461242</td>\n",
       "      <td>0</td>\n",
       "      <td>1.0</td>\n",
       "      <td>0.0</td>\n",
       "      <td>0.0</td>\n",
       "      <td>0</td>\n",
       "      <td>1</td>\n",
       "    </tr>\n",
       "    <tr>\n",
       "      <th>2</th>\n",
       "      <td>3</td>\n",
       "      <td>1</td>\n",
       "      <td>3</td>\n",
       "      <td>-0.284548</td>\n",
       "      <td>0</td>\n",
       "      <td>0</td>\n",
       "      <td>-0.282777</td>\n",
       "      <td>0</td>\n",
       "      <td>0.0</td>\n",
       "      <td>0.0</td>\n",
       "      <td>1.0</td>\n",
       "      <td>1</td>\n",
       "      <td>0</td>\n",
       "    </tr>\n",
       "    <tr>\n",
       "      <th>3</th>\n",
       "      <td>4</td>\n",
       "      <td>1</td>\n",
       "      <td>1</td>\n",
       "      <td>0.407760</td>\n",
       "      <td>1</td>\n",
       "      <td>0</td>\n",
       "      <td>1.673732</td>\n",
       "      <td>0</td>\n",
       "      <td>0.0</td>\n",
       "      <td>0.0</td>\n",
       "      <td>1.0</td>\n",
       "      <td>0</td>\n",
       "      <td>1</td>\n",
       "    </tr>\n",
       "    <tr>\n",
       "      <th>4</th>\n",
       "      <td>5</td>\n",
       "      <td>0</td>\n",
       "      <td>3</td>\n",
       "      <td>0.407760</td>\n",
       "      <td>0</td>\n",
       "      <td>0</td>\n",
       "      <td>-0.277363</td>\n",
       "      <td>1</td>\n",
       "      <td>0.0</td>\n",
       "      <td>0.0</td>\n",
       "      <td>1.0</td>\n",
       "      <td>1</td>\n",
       "      <td>0</td>\n",
       "    </tr>\n",
       "  </tbody>\n",
       "</table>\n",
       "</div>"
      ],
      "text/plain": [
       "   PassengerId  Survived  Pclass       Age  SibSp  Parch      Fare  MaleCheck  \\\n",
       "0            1         0       3 -0.592240      1      0 -0.312011          1   \n",
       "1            2         1       1  0.638529      1      0  2.461242          0   \n",
       "2            3         1       3 -0.284548      0      0 -0.282777          0   \n",
       "3            4         1       1  0.407760      1      0  1.673732          0   \n",
       "4            5         0       3  0.407760      0      0 -0.277363          1   \n",
       "\n",
       "   Embarked_C  Embarked_Q  Embarked_S  Sozinho  Familiares  \n",
       "0         0.0         0.0         1.0        0           1  \n",
       "1         1.0         0.0         0.0        0           1  \n",
       "2         0.0         0.0         1.0        1           0  \n",
       "3         0.0         0.0         1.0        0           1  \n",
       "4         0.0         0.0         1.0        1           0  "
      ]
     },
     "execution_count": 100,
     "metadata": {},
     "output_type": "execute_result"
    }
   ],
   "source": [
    "# Visualizando a base\n",
    "treino_4.head()"
   ]
  },
  {
   "cell_type": "code",
   "execution_count": 101,
   "id": "5cbc3fae",
   "metadata": {
    "ExecuteTime": {
     "end_time": "2024-05-15T10:33:58.661896Z",
     "start_time": "2024-05-15T10:33:58.492950Z"
    },
    "hidden": true
   },
   "outputs": [
    {
     "data": {
      "text/html": [
       "<div>\n",
       "<style scoped>\n",
       "    .dataframe tbody tr th:only-of-type {\n",
       "        vertical-align: middle;\n",
       "    }\n",
       "\n",
       "    .dataframe tbody tr th {\n",
       "        vertical-align: top;\n",
       "    }\n",
       "\n",
       "    .dataframe thead th {\n",
       "        text-align: right;\n",
       "    }\n",
       "</style>\n",
       "<table border=\"1\" class=\"dataframe\">\n",
       "  <thead>\n",
       "    <tr style=\"text-align: right;\">\n",
       "      <th></th>\n",
       "      <th>PassengerId</th>\n",
       "      <th>Survived</th>\n",
       "      <th>Pclass</th>\n",
       "      <th>Age</th>\n",
       "      <th>SibSp</th>\n",
       "      <th>Parch</th>\n",
       "      <th>Fare</th>\n",
       "      <th>MaleCheck</th>\n",
       "      <th>Embarked_C</th>\n",
       "      <th>Embarked_Q</th>\n",
       "      <th>Embarked_S</th>\n",
       "      <th>Sozinho</th>\n",
       "      <th>Familiares</th>\n",
       "    </tr>\n",
       "  </thead>\n",
       "  <tbody>\n",
       "    <tr>\n",
       "      <th>PassengerId</th>\n",
       "      <td>1.000000</td>\n",
       "      <td>-0.005007</td>\n",
       "      <td>-0.035144</td>\n",
       "      <td>0.033207</td>\n",
       "      <td>-0.057527</td>\n",
       "      <td>-0.001652</td>\n",
       "      <td>0.012658</td>\n",
       "      <td>0.042939</td>\n",
       "      <td>-0.001205</td>\n",
       "      <td>-0.033606</td>\n",
       "      <td>0.022204</td>\n",
       "      <td>0.057462</td>\n",
       "      <td>-0.040143</td>\n",
       "    </tr>\n",
       "    <tr>\n",
       "      <th>Survived</th>\n",
       "      <td>-0.005007</td>\n",
       "      <td>1.000000</td>\n",
       "      <td>-0.338481</td>\n",
       "      <td>-0.069809</td>\n",
       "      <td>-0.035322</td>\n",
       "      <td>0.081629</td>\n",
       "      <td>0.257307</td>\n",
       "      <td>-0.543351</td>\n",
       "      <td>0.168240</td>\n",
       "      <td>0.003650</td>\n",
       "      <td>-0.149683</td>\n",
       "      <td>-0.203367</td>\n",
       "      <td>0.016639</td>\n",
       "    </tr>\n",
       "    <tr>\n",
       "      <th>Pclass</th>\n",
       "      <td>-0.035144</td>\n",
       "      <td>-0.338481</td>\n",
       "      <td>1.000000</td>\n",
       "      <td>-0.331339</td>\n",
       "      <td>0.083081</td>\n",
       "      <td>0.018443</td>\n",
       "      <td>-0.549500</td>\n",
       "      <td>0.131900</td>\n",
       "      <td>-0.243292</td>\n",
       "      <td>0.221009</td>\n",
       "      <td>0.074053</td>\n",
       "      <td>0.135207</td>\n",
       "      <td>0.065997</td>\n",
       "    </tr>\n",
       "    <tr>\n",
       "      <th>Age</th>\n",
       "      <td>0.033207</td>\n",
       "      <td>-0.069809</td>\n",
       "      <td>-0.331339</td>\n",
       "      <td>1.000000</td>\n",
       "      <td>-0.232625</td>\n",
       "      <td>-0.179191</td>\n",
       "      <td>0.091566</td>\n",
       "      <td>0.084153</td>\n",
       "      <td>0.032024</td>\n",
       "      <td>-0.013855</td>\n",
       "      <td>-0.019336</td>\n",
       "      <td>0.179775</td>\n",
       "      <td>-0.248512</td>\n",
       "    </tr>\n",
       "    <tr>\n",
       "      <th>SibSp</th>\n",
       "      <td>-0.057527</td>\n",
       "      <td>-0.035322</td>\n",
       "      <td>0.083081</td>\n",
       "      <td>-0.232625</td>\n",
       "      <td>1.000000</td>\n",
       "      <td>0.414838</td>\n",
       "      <td>0.159651</td>\n",
       "      <td>-0.114631</td>\n",
       "      <td>-0.059528</td>\n",
       "      <td>-0.026354</td>\n",
       "      <td>0.068734</td>\n",
       "      <td>-0.584471</td>\n",
       "      <td>0.890712</td>\n",
       "    </tr>\n",
       "    <tr>\n",
       "      <th>Parch</th>\n",
       "      <td>-0.001652</td>\n",
       "      <td>0.081629</td>\n",
       "      <td>0.018443</td>\n",
       "      <td>-0.179191</td>\n",
       "      <td>0.414838</td>\n",
       "      <td>1.000000</td>\n",
       "      <td>0.216225</td>\n",
       "      <td>-0.245489</td>\n",
       "      <td>-0.011069</td>\n",
       "      <td>-0.081228</td>\n",
       "      <td>0.060814</td>\n",
       "      <td>-0.583398</td>\n",
       "      <td>0.783111</td>\n",
       "    </tr>\n",
       "    <tr>\n",
       "      <th>Fare</th>\n",
       "      <td>0.012658</td>\n",
       "      <td>0.257307</td>\n",
       "      <td>-0.549500</td>\n",
       "      <td>0.091566</td>\n",
       "      <td>0.159651</td>\n",
       "      <td>0.216225</td>\n",
       "      <td>1.000000</td>\n",
       "      <td>-0.182333</td>\n",
       "      <td>0.269335</td>\n",
       "      <td>-0.117216</td>\n",
       "      <td>-0.162184</td>\n",
       "      <td>-0.271832</td>\n",
       "      <td>0.217138</td>\n",
       "    </tr>\n",
       "    <tr>\n",
       "      <th>MaleCheck</th>\n",
       "      <td>0.042939</td>\n",
       "      <td>-0.543351</td>\n",
       "      <td>0.131900</td>\n",
       "      <td>0.084153</td>\n",
       "      <td>-0.114631</td>\n",
       "      <td>-0.245489</td>\n",
       "      <td>-0.182333</td>\n",
       "      <td>1.000000</td>\n",
       "      <td>-0.082853</td>\n",
       "      <td>-0.074115</td>\n",
       "      <td>0.119224</td>\n",
       "      <td>0.303646</td>\n",
       "      <td>-0.200988</td>\n",
       "    </tr>\n",
       "    <tr>\n",
       "      <th>Embarked_C</th>\n",
       "      <td>-0.001205</td>\n",
       "      <td>0.168240</td>\n",
       "      <td>-0.243292</td>\n",
       "      <td>0.032024</td>\n",
       "      <td>-0.059528</td>\n",
       "      <td>-0.011069</td>\n",
       "      <td>0.269335</td>\n",
       "      <td>-0.082853</td>\n",
       "      <td>1.000000</td>\n",
       "      <td>-0.148258</td>\n",
       "      <td>-0.782742</td>\n",
       "      <td>-0.095298</td>\n",
       "      <td>-0.046215</td>\n",
       "    </tr>\n",
       "    <tr>\n",
       "      <th>Embarked_Q</th>\n",
       "      <td>-0.033606</td>\n",
       "      <td>0.003650</td>\n",
       "      <td>0.221009</td>\n",
       "      <td>-0.013855</td>\n",
       "      <td>-0.026354</td>\n",
       "      <td>-0.081228</td>\n",
       "      <td>-0.117216</td>\n",
       "      <td>-0.074115</td>\n",
       "      <td>-0.148258</td>\n",
       "      <td>1.000000</td>\n",
       "      <td>-0.499421</td>\n",
       "      <td>0.086464</td>\n",
       "      <td>-0.058592</td>\n",
       "    </tr>\n",
       "    <tr>\n",
       "      <th>Embarked_S</th>\n",
       "      <td>0.022204</td>\n",
       "      <td>-0.149683</td>\n",
       "      <td>0.074053</td>\n",
       "      <td>-0.019336</td>\n",
       "      <td>0.068734</td>\n",
       "      <td>0.060814</td>\n",
       "      <td>-0.162184</td>\n",
       "      <td>0.119224</td>\n",
       "      <td>-0.782742</td>\n",
       "      <td>-0.499421</td>\n",
       "      <td>1.000000</td>\n",
       "      <td>0.029074</td>\n",
       "      <td>0.077359</td>\n",
       "    </tr>\n",
       "    <tr>\n",
       "      <th>Sozinho</th>\n",
       "      <td>0.057462</td>\n",
       "      <td>-0.203367</td>\n",
       "      <td>0.135207</td>\n",
       "      <td>0.179775</td>\n",
       "      <td>-0.584471</td>\n",
       "      <td>-0.583398</td>\n",
       "      <td>-0.271832</td>\n",
       "      <td>0.303646</td>\n",
       "      <td>-0.095298</td>\n",
       "      <td>0.086464</td>\n",
       "      <td>0.029074</td>\n",
       "      <td>1.000000</td>\n",
       "      <td>-0.690922</td>\n",
       "    </tr>\n",
       "    <tr>\n",
       "      <th>Familiares</th>\n",
       "      <td>-0.040143</td>\n",
       "      <td>0.016639</td>\n",
       "      <td>0.065997</td>\n",
       "      <td>-0.248512</td>\n",
       "      <td>0.890712</td>\n",
       "      <td>0.783111</td>\n",
       "      <td>0.217138</td>\n",
       "      <td>-0.200988</td>\n",
       "      <td>-0.046215</td>\n",
       "      <td>-0.058592</td>\n",
       "      <td>0.077359</td>\n",
       "      <td>-0.690922</td>\n",
       "      <td>1.000000</td>\n",
       "    </tr>\n",
       "  </tbody>\n",
       "</table>\n",
       "</div>"
      ],
      "text/plain": [
       "             PassengerId  Survived    Pclass       Age     SibSp     Parch  \\\n",
       "PassengerId     1.000000 -0.005007 -0.035144  0.033207 -0.057527 -0.001652   \n",
       "Survived       -0.005007  1.000000 -0.338481 -0.069809 -0.035322  0.081629   \n",
       "Pclass         -0.035144 -0.338481  1.000000 -0.331339  0.083081  0.018443   \n",
       "Age             0.033207 -0.069809 -0.331339  1.000000 -0.232625 -0.179191   \n",
       "SibSp          -0.057527 -0.035322  0.083081 -0.232625  1.000000  0.414838   \n",
       "Parch          -0.001652  0.081629  0.018443 -0.179191  0.414838  1.000000   \n",
       "Fare            0.012658  0.257307 -0.549500  0.091566  0.159651  0.216225   \n",
       "MaleCheck       0.042939 -0.543351  0.131900  0.084153 -0.114631 -0.245489   \n",
       "Embarked_C     -0.001205  0.168240 -0.243292  0.032024 -0.059528 -0.011069   \n",
       "Embarked_Q     -0.033606  0.003650  0.221009 -0.013855 -0.026354 -0.081228   \n",
       "Embarked_S      0.022204 -0.149683  0.074053 -0.019336  0.068734  0.060814   \n",
       "Sozinho         0.057462 -0.203367  0.135207  0.179775 -0.584471 -0.583398   \n",
       "Familiares     -0.040143  0.016639  0.065997 -0.248512  0.890712  0.783111   \n",
       "\n",
       "                 Fare  MaleCheck  Embarked_C  Embarked_Q  Embarked_S  \\\n",
       "PassengerId  0.012658   0.042939   -0.001205   -0.033606    0.022204   \n",
       "Survived     0.257307  -0.543351    0.168240    0.003650   -0.149683   \n",
       "Pclass      -0.549500   0.131900   -0.243292    0.221009    0.074053   \n",
       "Age          0.091566   0.084153    0.032024   -0.013855   -0.019336   \n",
       "SibSp        0.159651  -0.114631   -0.059528   -0.026354    0.068734   \n",
       "Parch        0.216225  -0.245489   -0.011069   -0.081228    0.060814   \n",
       "Fare         1.000000  -0.182333    0.269335   -0.117216   -0.162184   \n",
       "MaleCheck   -0.182333   1.000000   -0.082853   -0.074115    0.119224   \n",
       "Embarked_C   0.269335  -0.082853    1.000000   -0.148258   -0.782742   \n",
       "Embarked_Q  -0.117216  -0.074115   -0.148258    1.000000   -0.499421   \n",
       "Embarked_S  -0.162184   0.119224   -0.782742   -0.499421    1.000000   \n",
       "Sozinho     -0.271832   0.303646   -0.095298    0.086464    0.029074   \n",
       "Familiares   0.217138  -0.200988   -0.046215   -0.058592    0.077359   \n",
       "\n",
       "              Sozinho  Familiares  \n",
       "PassengerId  0.057462   -0.040143  \n",
       "Survived    -0.203367    0.016639  \n",
       "Pclass       0.135207    0.065997  \n",
       "Age          0.179775   -0.248512  \n",
       "SibSp       -0.584471    0.890712  \n",
       "Parch       -0.583398    0.783111  \n",
       "Fare        -0.271832    0.217138  \n",
       "MaleCheck    0.303646   -0.200988  \n",
       "Embarked_C  -0.095298   -0.046215  \n",
       "Embarked_Q   0.086464   -0.058592  \n",
       "Embarked_S   0.029074    0.077359  \n",
       "Sozinho      1.000000   -0.690922  \n",
       "Familiares  -0.690922    1.000000  "
      ]
     },
     "execution_count": 101,
     "metadata": {},
     "output_type": "execute_result"
    }
   ],
   "source": [
    "# Analisando a correlação entre as variáveis\n",
    "treino_4.corr()"
   ]
  },
  {
   "cell_type": "code",
   "execution_count": 102,
   "id": "dd05ef45",
   "metadata": {
    "ExecuteTime": {
     "end_time": "2024-05-15T10:33:59.562301Z",
     "start_time": "2024-05-15T10:33:58.664888Z"
    },
    "hidden": true
   },
   "outputs": [
    {
     "data": {
      "image/png": "[encoded data removed]",
      "text/plain": [
       "<Figure size 1000x500 with 2 Axes>"
      ]
     },
     "metadata": {},
     "output_type": "display_data"
    }
   ],
   "source": [
    "# Fazendo um gráfico de calor para representar as correlações\n",
    "\n",
    "fig, ax = plt.subplots(figsize=(10,5))\n",
    "\n",
    "sns.heatmap(treino_4.corr(), annot=True, fmt='.2f')\n",
    "\n",
    "plt.show()"
   ]
  },
  {
   "cell_type": "markdown",
   "id": "d0fb737d",
   "metadata": {
    "hidden": true
   },
   "source": [
    "### Entendo a relação entre Pclass e Fare"
   ]
  },
  {
   "cell_type": "code",
   "execution_count": 103,
   "id": "199aab59",
   "metadata": {
    "ExecuteTime": {
     "end_time": "2024-05-15T10:33:59.996936Z",
     "start_time": "2024-05-15T10:33:59.564335Z"
    },
    "hidden": true
   },
   "outputs": [
    {
     "data": {
      "image/png": "[encoded data removed]",
      "text/plain": [
       "<Figure size 1000x300 with 1 Axes>"
      ]
     },
     "metadata": {},
     "output_type": "display_data"
    }
   ],
   "source": [
    "# visualizando a relação entre essas variáveis\n",
    "fig, ax = plt.subplots(figsize=(10,3))\n",
    "\n",
    "sns.boxplot(data=treino_4,x='Pclass',y='Fare', hue='Survived')\n",
    "ax.set_title('Pclass x Fare',fontsize=10)\n",
    "\n",
    "plt.show()"
   ]
  },
  {
   "cell_type": "markdown",
   "id": "61c38f43",
   "metadata": {
    "hidden": true
   },
   "source": [
    "**Aparentemente as pessoas da primeira classe tiveram uma taxa de sobrevivência maior que as demais. Vamos verificar esse comportamento.**"
   ]
  },
  {
   "cell_type": "code",
   "execution_count": 104,
   "id": "39373439",
   "metadata": {
    "ExecuteTime": {
     "end_time": "2024-05-15T10:34:00.008971Z",
     "start_time": "2024-05-15T10:33:59.999925Z"
    },
    "hidden": true
   },
   "outputs": [
    {
     "data": {
      "text/plain": [
       "Pclass\n",
       "1    0.629630\n",
       "2    0.472826\n",
       "3    0.242363\n",
       "Name: Survived, dtype: float64"
      ]
     },
     "execution_count": 104,
     "metadata": {},
     "output_type": "execute_result"
    }
   ],
   "source": [
    "# Verificando a taxa de sobrevivência em cada uma das classes\n",
    "treino_4.groupby('Pclass')['Survived'].mean()"
   ]
  },
  {
   "cell_type": "code",
   "execution_count": 105,
   "id": "68e27c46",
   "metadata": {
    "ExecuteTime": {
     "end_time": "2024-05-15T10:34:00.285535Z",
     "start_time": "2024-05-15T10:34:00.012956Z"
    },
    "hidden": true
   },
   "outputs": [
    {
     "data": {
      "text/html": [
       "<div>\n",
       "<style scoped>\n",
       "    .dataframe tbody tr th:only-of-type {\n",
       "        vertical-align: middle;\n",
       "    }\n",
       "\n",
       "    .dataframe tbody tr th {\n",
       "        vertical-align: top;\n",
       "    }\n",
       "\n",
       "    .dataframe thead th {\n",
       "        text-align: right;\n",
       "    }\n",
       "</style>\n",
       "<table border=\"1\" class=\"dataframe\">\n",
       "  <thead>\n",
       "    <tr style=\"text-align: right;\">\n",
       "      <th></th>\n",
       "      <th></th>\n",
       "      <th>min</th>\n",
       "      <th>mean</th>\n",
       "      <th>max</th>\n",
       "    </tr>\n",
       "    <tr>\n",
       "      <th>Pclass</th>\n",
       "      <th>Survived</th>\n",
       "      <th></th>\n",
       "      <th></th>\n",
       "      <th></th>\n",
       "    </tr>\n",
       "  </thead>\n",
       "  <tbody>\n",
       "    <tr>\n",
       "      <th rowspan=\"2\" valign=\"top\">1</th>\n",
       "      <th>0</th>\n",
       "      <td>-0.626005</td>\n",
       "      <td>2.175430</td>\n",
       "      <td>10.764405</td>\n",
       "    </tr>\n",
       "    <tr>\n",
       "      <th>1</th>\n",
       "      <td>0.496977</td>\n",
       "      <td>3.514735</td>\n",
       "      <td>21.562738</td>\n",
       "    </tr>\n",
       "    <tr>\n",
       "      <th rowspan=\"2\" valign=\"top\">2</th>\n",
       "      <th>0</th>\n",
       "      <td>-0.626005</td>\n",
       "      <td>0.214734</td>\n",
       "      <td>2.557247</td>\n",
       "    </tr>\n",
       "    <tr>\n",
       "      <th>1</th>\n",
       "      <td>-0.171255</td>\n",
       "      <td>0.329217</td>\n",
       "      <td>2.189115</td>\n",
       "    </tr>\n",
       "    <tr>\n",
       "      <th rowspan=\"2\" valign=\"top\">3</th>\n",
       "      <th>0</th>\n",
       "      <td>-0.626005</td>\n",
       "      <td>-0.033991</td>\n",
       "      <td>2.386174</td>\n",
       "    </tr>\n",
       "    <tr>\n",
       "      <th>1</th>\n",
       "      <td>-0.626005</td>\n",
       "      <td>-0.032885</td>\n",
       "      <td>1.820802</td>\n",
       "    </tr>\n",
       "  </tbody>\n",
       "</table>\n",
       "</div>"
      ],
      "text/plain": [
       "                      min      mean        max\n",
       "Pclass Survived                               \n",
       "1      0        -0.626005  2.175430  10.764405\n",
       "       1         0.496977  3.514735  21.562738\n",
       "2      0        -0.626005  0.214734   2.557247\n",
       "       1        -0.171255  0.329217   2.189115\n",
       "3      0        -0.626005 -0.033991   2.386174\n",
       "       1        -0.626005 -0.032885   1.820802"
      ]
     },
     "execution_count": 105,
     "metadata": {},
     "output_type": "execute_result"
    }
   ],
   "source": [
    "# Entenendo a relação entre Pclass x Fare\n",
    "treino_4.groupby(['Pclass','Survived'])['Fare'].agg(['min','mean','max'])"
   ]
  },
  {
   "cell_type": "markdown",
   "id": "b767c9e8",
   "metadata": {
    "hidden": true
   },
   "source": [
    "**Podemos ver que diferentes pessoas pagaram diferentes preços pelos mesmos ingreços das mesmas classes e por exemplo na primeira classe as pessoas com os ingressos mais caros tiveram uma taxa de sobrevivência maior. Vamos tentar entender como esses ingressos de diferentes preços e se isso faz sentido.**"
   ]
  },
  {
   "cell_type": "markdown",
   "id": "03d3509d",
   "metadata": {
    "hidden": true
   },
   "source": [
    "### Entendo as colunas de embarque"
   ]
  },
  {
   "cell_type": "markdown",
   "id": "b2d08099",
   "metadata": {
    "hidden": true
   },
   "source": [
    "**Inicialmente pensamos não ter uma relação de ordem entre as colunas de embarque porém se você fazer uma breve pesquisa você vai descobrir que o Titanic deixou o porto de Southampton onde parou em seguida em um porto na França em que a maioria dos embarques nesses portos foram de primeira classe e por último ele parou em um porto na Irlanda em que a maioria era imigrantes de terceira classe.**\n",
    "\n",
    "**Assim sendo podemos juntar as três colunas de embarque em apenas uma com uma hierarquia mudando assim o encoder inicialmente usado**"
   ]
  },
  {
   "cell_type": "code",
   "execution_count": 106,
   "id": "2122942a",
   "metadata": {
    "ExecuteTime": {
     "end_time": "2024-05-15T10:34:00.311088Z",
     "start_time": "2024-05-15T10:34:00.288518Z"
    },
    "hidden": true
   },
   "outputs": [
    {
     "data": {
      "text/html": [
       "<div>\n",
       "<style scoped>\n",
       "    .dataframe tbody tr th:only-of-type {\n",
       "        vertical-align: middle;\n",
       "    }\n",
       "\n",
       "    .dataframe tbody tr th {\n",
       "        vertical-align: top;\n",
       "    }\n",
       "\n",
       "    .dataframe thead th {\n",
       "        text-align: right;\n",
       "    }\n",
       "</style>\n",
       "<table border=\"1\" class=\"dataframe\">\n",
       "  <thead>\n",
       "    <tr style=\"text-align: right;\">\n",
       "      <th></th>\n",
       "      <th>PassengerId</th>\n",
       "      <th>Survived</th>\n",
       "      <th>Pclass</th>\n",
       "      <th>Sex</th>\n",
       "      <th>Age</th>\n",
       "      <th>SibSp</th>\n",
       "      <th>Parch</th>\n",
       "      <th>Fare</th>\n",
       "      <th>Embarked</th>\n",
       "    </tr>\n",
       "  </thead>\n",
       "  <tbody>\n",
       "    <tr>\n",
       "      <th>0</th>\n",
       "      <td>1</td>\n",
       "      <td>0</td>\n",
       "      <td>3</td>\n",
       "      <td>male</td>\n",
       "      <td>22.0</td>\n",
       "      <td>1</td>\n",
       "      <td>0</td>\n",
       "      <td>7.2500</td>\n",
       "      <td>S</td>\n",
       "    </tr>\n",
       "    <tr>\n",
       "      <th>1</th>\n",
       "      <td>2</td>\n",
       "      <td>1</td>\n",
       "      <td>1</td>\n",
       "      <td>female</td>\n",
       "      <td>38.0</td>\n",
       "      <td>1</td>\n",
       "      <td>0</td>\n",
       "      <td>71.2833</td>\n",
       "      <td>C</td>\n",
       "    </tr>\n",
       "    <tr>\n",
       "      <th>2</th>\n",
       "      <td>3</td>\n",
       "      <td>1</td>\n",
       "      <td>3</td>\n",
       "      <td>female</td>\n",
       "      <td>26.0</td>\n",
       "      <td>0</td>\n",
       "      <td>0</td>\n",
       "      <td>7.9250</td>\n",
       "      <td>S</td>\n",
       "    </tr>\n",
       "    <tr>\n",
       "      <th>3</th>\n",
       "      <td>4</td>\n",
       "      <td>1</td>\n",
       "      <td>1</td>\n",
       "      <td>female</td>\n",
       "      <td>35.0</td>\n",
       "      <td>1</td>\n",
       "      <td>0</td>\n",
       "      <td>53.1000</td>\n",
       "      <td>S</td>\n",
       "    </tr>\n",
       "    <tr>\n",
       "      <th>4</th>\n",
       "      <td>5</td>\n",
       "      <td>0</td>\n",
       "      <td>3</td>\n",
       "      <td>male</td>\n",
       "      <td>35.0</td>\n",
       "      <td>0</td>\n",
       "      <td>0</td>\n",
       "      <td>8.0500</td>\n",
       "      <td>S</td>\n",
       "    </tr>\n",
       "  </tbody>\n",
       "</table>\n",
       "</div>"
      ],
      "text/plain": [
       "   PassengerId  Survived  Pclass     Sex   Age  SibSp  Parch     Fare Embarked\n",
       "0            1         0       3    male  22.0      1      0   7.2500        S\n",
       "1            2         1       1  female  38.0      1      0  71.2833        C\n",
       "2            3         1       3  female  26.0      0      0   7.9250        S\n",
       "3            4         1       1  female  35.0      1      0  53.1000        S\n",
       "4            5         0       3    male  35.0      0      0   8.0500        S"
      ]
     },
     "execution_count": 106,
     "metadata": {},
     "output_type": "execute_result"
    }
   ],
   "source": [
    "# Podemos importar novamente as bases para \"recuperar\" a coluna embarque. Vamos utilizar a base 2 que salvamos anteriormente\n",
    "treino_2.head()"
   ]
  },
  {
   "cell_type": "markdown",
   "id": "d9575732",
   "metadata": {
    "hidden": true
   },
   "source": [
    "**Agora vamos utilizar o OrdinalEncoder para tratar a coluna de embarque**"
   ]
  },
  {
   "cell_type": "code",
   "execution_count": 107,
   "id": "dd243629",
   "metadata": {
    "ExecuteTime": {
     "end_time": "2024-05-15T10:34:00.556058Z",
     "start_time": "2024-05-15T10:34:00.314039Z"
    },
    "hidden": true
   },
   "outputs": [],
   "source": [
    "# Craindo o encoder\n",
    "categorias = [\"S\", 'C', 'Q']\n",
    "\n",
    "enc = OrdinalEncoder(categories=[categorias],dtype='int32')"
   ]
  },
  {
   "cell_type": "code",
   "execution_count": 108,
   "id": "849a2334",
   "metadata": {
    "ExecuteTime": {
     "end_time": "2024-05-15T10:34:00.866809Z",
     "start_time": "2024-05-15T10:34:00.560150Z"
    },
    "hidden": true
   },
   "outputs": [],
   "source": [
    "# Fazendo o fit com os dados\n",
    "enc = enc.fit(treino_2[['Embarked']])"
   ]
  },
  {
   "cell_type": "code",
   "execution_count": 109,
   "id": "b2aae78f",
   "metadata": {
    "ExecuteTime": {
     "end_time": "2024-05-15T10:34:01.086098Z",
     "start_time": "2024-05-15T10:34:00.869796Z"
    },
    "hidden": true
   },
   "outputs": [],
   "source": [
    "# Podemos então adicionar essa coluna na base de treino original\n",
    "treino_5 = treino_4.copy()\n",
    "treino_5['Embarked'] = enc.transform(treino_2[['Embarked']])"
   ]
  },
  {
   "cell_type": "code",
   "execution_count": 110,
   "id": "d16fadfb",
   "metadata": {
    "ExecuteTime": {
     "end_time": "2024-05-15T10:34:01.298707Z",
     "start_time": "2024-05-15T10:34:01.088089Z"
    },
    "hidden": true
   },
   "outputs": [],
   "source": [
    "# Fazendo o mesmo para a base de teste\n",
    "teste_5 = teste_4.copy()\n",
    "\n",
    "enc = enc.fit(teste_2[['Embarked']])\n",
    "teste_5['Embarked'] = enc.transform(teste_2[['Embarked']])"
   ]
  },
  {
   "cell_type": "code",
   "execution_count": 111,
   "id": "8d311f2e",
   "metadata": {
    "ExecuteTime": {
     "end_time": "2024-05-15T10:34:01.627911Z",
     "start_time": "2024-05-15T10:34:01.302772Z"
    },
    "hidden": true
   },
   "outputs": [
    {
     "data": {
      "text/html": [
       "<div>\n",
       "<style scoped>\n",
       "    .dataframe tbody tr th:only-of-type {\n",
       "        vertical-align: middle;\n",
       "    }\n",
       "\n",
       "    .dataframe tbody tr th {\n",
       "        vertical-align: top;\n",
       "    }\n",
       "\n",
       "    .dataframe thead th {\n",
       "        text-align: right;\n",
       "    }\n",
       "</style>\n",
       "<table border=\"1\" class=\"dataframe\">\n",
       "  <thead>\n",
       "    <tr style=\"text-align: right;\">\n",
       "      <th></th>\n",
       "      <th>PassengerId</th>\n",
       "      <th>Survived</th>\n",
       "      <th>Pclass</th>\n",
       "      <th>Age</th>\n",
       "      <th>SibSp</th>\n",
       "      <th>Parch</th>\n",
       "      <th>Fare</th>\n",
       "      <th>MaleCheck</th>\n",
       "      <th>Embarked_C</th>\n",
       "      <th>Embarked_Q</th>\n",
       "      <th>Embarked_S</th>\n",
       "      <th>Sozinho</th>\n",
       "      <th>Familiares</th>\n",
       "      <th>Embarked</th>\n",
       "    </tr>\n",
       "  </thead>\n",
       "  <tbody>\n",
       "    <tr>\n",
       "      <th>0</th>\n",
       "      <td>1</td>\n",
       "      <td>0</td>\n",
       "      <td>3</td>\n",
       "      <td>-0.592240</td>\n",
       "      <td>1</td>\n",
       "      <td>0</td>\n",
       "      <td>-0.312011</td>\n",
       "      <td>1</td>\n",
       "      <td>0.0</td>\n",
       "      <td>0.0</td>\n",
       "      <td>1.0</td>\n",
       "      <td>0</td>\n",
       "      <td>1</td>\n",
       "      <td>0</td>\n",
       "    </tr>\n",
       "    <tr>\n",
       "      <th>1</th>\n",
       "      <td>2</td>\n",
       "      <td>1</td>\n",
       "      <td>1</td>\n",
       "      <td>0.638529</td>\n",
       "      <td>1</td>\n",
       "      <td>0</td>\n",
       "      <td>2.461242</td>\n",
       "      <td>0</td>\n",
       "      <td>1.0</td>\n",
       "      <td>0.0</td>\n",
       "      <td>0.0</td>\n",
       "      <td>0</td>\n",
       "      <td>1</td>\n",
       "      <td>1</td>\n",
       "    </tr>\n",
       "    <tr>\n",
       "      <th>2</th>\n",
       "      <td>3</td>\n",
       "      <td>1</td>\n",
       "      <td>3</td>\n",
       "      <td>-0.284548</td>\n",
       "      <td>0</td>\n",
       "      <td>0</td>\n",
       "      <td>-0.282777</td>\n",
       "      <td>0</td>\n",
       "      <td>0.0</td>\n",
       "      <td>0.0</td>\n",
       "      <td>1.0</td>\n",
       "      <td>1</td>\n",
       "      <td>0</td>\n",
       "      <td>0</td>\n",
       "    </tr>\n",
       "    <tr>\n",
       "      <th>3</th>\n",
       "      <td>4</td>\n",
       "      <td>1</td>\n",
       "      <td>1</td>\n",
       "      <td>0.407760</td>\n",
       "      <td>1</td>\n",
       "      <td>0</td>\n",
       "      <td>1.673732</td>\n",
       "      <td>0</td>\n",
       "      <td>0.0</td>\n",
       "      <td>0.0</td>\n",
       "      <td>1.0</td>\n",
       "      <td>0</td>\n",
       "      <td>1</td>\n",
       "      <td>0</td>\n",
       "    </tr>\n",
       "    <tr>\n",
       "      <th>4</th>\n",
       "      <td>5</td>\n",
       "      <td>0</td>\n",
       "      <td>3</td>\n",
       "      <td>0.407760</td>\n",
       "      <td>0</td>\n",
       "      <td>0</td>\n",
       "      <td>-0.277363</td>\n",
       "      <td>1</td>\n",
       "      <td>0.0</td>\n",
       "      <td>0.0</td>\n",
       "      <td>1.0</td>\n",
       "      <td>1</td>\n",
       "      <td>0</td>\n",
       "      <td>0</td>\n",
       "    </tr>\n",
       "  </tbody>\n",
       "</table>\n",
       "</div>"
      ],
      "text/plain": [
       "   PassengerId  Survived  Pclass       Age  SibSp  Parch      Fare  MaleCheck  \\\n",
       "0            1         0       3 -0.592240      1      0 -0.312011          1   \n",
       "1            2         1       1  0.638529      1      0  2.461242          0   \n",
       "2            3         1       3 -0.284548      0      0 -0.282777          0   \n",
       "3            4         1       1  0.407760      1      0  1.673732          0   \n",
       "4            5         0       3  0.407760      0      0 -0.277363          1   \n",
       "\n",
       "   Embarked_C  Embarked_Q  Embarked_S  Sozinho  Familiares  Embarked  \n",
       "0         0.0         0.0         1.0        0           1         0  \n",
       "1         1.0         0.0         0.0        0           1         1  \n",
       "2         0.0         0.0         1.0        1           0         0  \n",
       "3         0.0         0.0         1.0        0           1         0  \n",
       "4         0.0         0.0         1.0        1           0         0  "
      ]
     },
     "execution_count": 111,
     "metadata": {},
     "output_type": "execute_result"
    }
   ],
   "source": [
    "# Visualizando a nova base\n",
    "treino_5.head()"
   ]
  },
  {
   "cell_type": "code",
   "execution_count": 112,
   "id": "d55198f5",
   "metadata": {
    "ExecuteTime": {
     "end_time": "2024-05-15T10:34:01.800740Z",
     "start_time": "2024-05-15T10:34:01.631899Z"
    },
    "hidden": true
   },
   "outputs": [
    {
     "data": {
      "text/html": [
       "<div>\n",
       "<style scoped>\n",
       "    .dataframe tbody tr th:only-of-type {\n",
       "        vertical-align: middle;\n",
       "    }\n",
       "\n",
       "    .dataframe tbody tr th {\n",
       "        vertical-align: top;\n",
       "    }\n",
       "\n",
       "    .dataframe thead th {\n",
       "        text-align: right;\n",
       "    }\n",
       "</style>\n",
       "<table border=\"1\" class=\"dataframe\">\n",
       "  <thead>\n",
       "    <tr style=\"text-align: right;\">\n",
       "      <th></th>\n",
       "      <th>PassengerId</th>\n",
       "      <th>Survived</th>\n",
       "      <th>Pclass</th>\n",
       "      <th>Age</th>\n",
       "      <th>SibSp</th>\n",
       "      <th>Parch</th>\n",
       "      <th>Fare</th>\n",
       "      <th>MaleCheck</th>\n",
       "      <th>Sozinho</th>\n",
       "      <th>Familiares</th>\n",
       "      <th>Embarked</th>\n",
       "    </tr>\n",
       "  </thead>\n",
       "  <tbody>\n",
       "    <tr>\n",
       "      <th>0</th>\n",
       "      <td>1</td>\n",
       "      <td>0</td>\n",
       "      <td>3</td>\n",
       "      <td>-0.592240</td>\n",
       "      <td>1</td>\n",
       "      <td>0</td>\n",
       "      <td>-0.312011</td>\n",
       "      <td>1</td>\n",
       "      <td>0</td>\n",
       "      <td>1</td>\n",
       "      <td>0</td>\n",
       "    </tr>\n",
       "    <tr>\n",
       "      <th>1</th>\n",
       "      <td>2</td>\n",
       "      <td>1</td>\n",
       "      <td>1</td>\n",
       "      <td>0.638529</td>\n",
       "      <td>1</td>\n",
       "      <td>0</td>\n",
       "      <td>2.461242</td>\n",
       "      <td>0</td>\n",
       "      <td>0</td>\n",
       "      <td>1</td>\n",
       "      <td>1</td>\n",
       "    </tr>\n",
       "    <tr>\n",
       "      <th>2</th>\n",
       "      <td>3</td>\n",
       "      <td>1</td>\n",
       "      <td>3</td>\n",
       "      <td>-0.284548</td>\n",
       "      <td>0</td>\n",
       "      <td>0</td>\n",
       "      <td>-0.282777</td>\n",
       "      <td>0</td>\n",
       "      <td>1</td>\n",
       "      <td>0</td>\n",
       "      <td>0</td>\n",
       "    </tr>\n",
       "    <tr>\n",
       "      <th>3</th>\n",
       "      <td>4</td>\n",
       "      <td>1</td>\n",
       "      <td>1</td>\n",
       "      <td>0.407760</td>\n",
       "      <td>1</td>\n",
       "      <td>0</td>\n",
       "      <td>1.673732</td>\n",
       "      <td>0</td>\n",
       "      <td>0</td>\n",
       "      <td>1</td>\n",
       "      <td>0</td>\n",
       "    </tr>\n",
       "    <tr>\n",
       "      <th>4</th>\n",
       "      <td>5</td>\n",
       "      <td>0</td>\n",
       "      <td>3</td>\n",
       "      <td>0.407760</td>\n",
       "      <td>0</td>\n",
       "      <td>0</td>\n",
       "      <td>-0.277363</td>\n",
       "      <td>1</td>\n",
       "      <td>1</td>\n",
       "      <td>0</td>\n",
       "      <td>0</td>\n",
       "    </tr>\n",
       "  </tbody>\n",
       "</table>\n",
       "</div>"
      ],
      "text/plain": [
       "   PassengerId  Survived  Pclass       Age  SibSp  Parch      Fare  MaleCheck  \\\n",
       "0            1         0       3 -0.592240      1      0 -0.312011          1   \n",
       "1            2         1       1  0.638529      1      0  2.461242          0   \n",
       "2            3         1       3 -0.284548      0      0 -0.282777          0   \n",
       "3            4         1       1  0.407760      1      0  1.673732          0   \n",
       "4            5         0       3  0.407760      0      0 -0.277363          1   \n",
       "\n",
       "   Sozinho  Familiares  Embarked  \n",
       "0        0           1         0  \n",
       "1        0           1         1  \n",
       "2        1           0         0  \n",
       "3        0           1         0  \n",
       "4        1           0         0  "
      ]
     },
     "execution_count": 112,
     "metadata": {},
     "output_type": "execute_result"
    }
   ],
   "source": [
    "# exculuindo as colunas antigas de embarques e copiando o nova base\n",
    "treino_5 = treino_5.drop(['Embarked_C','Embarked_Q','Embarked_S'],axis=1)\n",
    "treino = treino_5.copy()\n",
    "\n",
    "# exculuindo as colunas antigas de embarques e copiando o nova base\n",
    "teste_5 = teste_5.drop(['Embarked_C','Embarked_Q','Embarked_S'],axis=1)\n",
    "teste = teste_5.copy()\n",
    "\n",
    "treino.head()"
   ]
  },
  {
   "cell_type": "code",
   "execution_count": 113,
   "id": "42f73e77",
   "metadata": {
    "ExecuteTime": {
     "end_time": "2024-05-15T10:34:02.607308Z",
     "start_time": "2024-05-15T10:34:01.803731Z"
    },
    "hidden": true
   },
   "outputs": [
    {
     "data": {
      "text/plain": [
       "<Axes: >"
      ]
     },
     "execution_count": 113,
     "metadata": {},
     "output_type": "execute_result"
    },
    {
     "data": {
      "image/png": "[encoded data removed]",
      "text/plain": [
       "<Figure size 1000x500 with 2 Axes>"
      ]
     },
     "metadata": {},
     "output_type": "display_data"
    }
   ],
   "source": [
    "# Visualizando novamente a correlação\n",
    "fig, ax =plt.subplots(figsize=(10,5))\n",
    "\n",
    "sns.heatmap(treino_5.corr(),annot=True, fmt='.2f')"
   ]
  },
  {
   "cell_type": "markdown",
   "id": "d680dd46",
   "metadata": {
    "hidden": true
   },
   "source": [
    "### Entendo as colunas de familia"
   ]
  },
  {
   "cell_type": "markdown",
   "id": "2c6916b8",
   "metadata": {
    "hidden": true
   },
   "source": [
    "**Vamos utilizar a regressão logística e a árvore de classificação para verificar a importância de cada coluna**"
   ]
  },
  {
   "cell_type": "code",
   "execution_count": 114,
   "id": "0efb10e7",
   "metadata": {
    "ExecuteTime": {
     "end_time": "2024-05-15T10:34:02.618869Z",
     "start_time": "2024-05-15T10:34:02.610913Z"
    },
    "hidden": true
   },
   "outputs": [],
   "source": [
    "# Separando x e y\n",
    "x = treino_5.drop(['PassengerId','Survived'],axis=1)\n",
    "y = treino_5.Survived"
   ]
  },
  {
   "cell_type": "code",
   "execution_count": 115,
   "id": "4b44468f",
   "metadata": {
    "ExecuteTime": {
     "end_time": "2024-05-15T10:34:02.792624Z",
     "start_time": "2024-05-15T10:34:02.621861Z"
    },
    "hidden": true
   },
   "outputs": [],
   "source": [
    "# Usando a regressão logística nos dados\n",
    "clf_rl = LogisticRegression(random_state=42, max_iter=1000).fit(x,y)"
   ]
  },
  {
   "cell_type": "code",
   "execution_count": 116,
   "id": "3b741abe",
   "metadata": {
    "ExecuteTime": {
     "end_time": "2024-05-15T10:34:03.119843Z",
     "start_time": "2024-05-15T10:34:02.795615Z"
    },
    "hidden": true
   },
   "outputs": [
    {
     "data": {
      "text/plain": [
       "array([-1.03314773, -0.49645712, -0.26819737,  0.01690958,  0.04398615,\n",
       "       -2.5345877 , -0.73233826, -0.25128778,  0.23866778])"
      ]
     },
     "execution_count": 116,
     "metadata": {},
     "output_type": "execute_result"
    }
   ],
   "source": [
    "# Verificando a importância\n",
    "clf_rl.coef_[0]"
   ]
  },
  {
   "cell_type": "code",
   "execution_count": 117,
   "id": "7b57646c",
   "metadata": {
    "ExecuteTime": {
     "end_time": "2024-05-15T10:34:03.436176Z",
     "start_time": "2024-05-15T10:34:03.128814Z"
    },
    "hidden": true
   },
   "outputs": [],
   "source": [
    "# Agora usando a árvore de classificação\n",
    "clf_ac = tree.DecisionTreeClassifier(random_state=42).fit(x,y)"
   ]
  },
  {
   "cell_type": "code",
   "execution_count": 118,
   "id": "3f3f373c",
   "metadata": {
    "ExecuteTime": {
     "end_time": "2024-05-15T10:34:03.900107Z",
     "start_time": "2024-05-15T10:34:03.438166Z"
    },
    "hidden": true
   },
   "outputs": [
    {
     "data": {
      "text/plain": [
       "array([0.10901775, 0.22826711, 0.01907221, 0.0272942 , 0.23870173,\n",
       "       0.30933519, 0.00397775, 0.04365035, 0.02068372])"
      ]
     },
     "execution_count": 118,
     "metadata": {},
     "output_type": "execute_result"
    }
   ],
   "source": [
    "# Verificando a importância\n",
    "clf_ac.feature_importances_"
   ]
  },
  {
   "cell_type": "code",
   "execution_count": 119,
   "id": "dc796d84",
   "metadata": {
    "ExecuteTime": {
     "end_time": "2024-05-15T10:34:04.335837Z",
     "start_time": "2024-05-15T10:34:03.904098Z"
    },
    "hidden": true
   },
   "outputs": [
    {
     "data": {
      "text/html": [
       "<div>\n",
       "<style scoped>\n",
       "    .dataframe tbody tr th:only-of-type {\n",
       "        vertical-align: middle;\n",
       "    }\n",
       "\n",
       "    .dataframe tbody tr th {\n",
       "        vertical-align: top;\n",
       "    }\n",
       "\n",
       "    .dataframe thead th {\n",
       "        text-align: right;\n",
       "    }\n",
       "</style>\n",
       "<table border=\"1\" class=\"dataframe\">\n",
       "  <thead>\n",
       "    <tr style=\"text-align: right;\">\n",
       "      <th></th>\n",
       "      <th>colunas</th>\n",
       "      <th>reg_log</th>\n",
       "      <th>arvore</th>\n",
       "    </tr>\n",
       "  </thead>\n",
       "  <tbody>\n",
       "    <tr>\n",
       "      <th>0</th>\n",
       "      <td>Pclass</td>\n",
       "      <td>-1.033148</td>\n",
       "      <td>0.109018</td>\n",
       "    </tr>\n",
       "    <tr>\n",
       "      <th>1</th>\n",
       "      <td>Age</td>\n",
       "      <td>-0.496457</td>\n",
       "      <td>0.228267</td>\n",
       "    </tr>\n",
       "    <tr>\n",
       "      <th>2</th>\n",
       "      <td>SibSp</td>\n",
       "      <td>-0.268197</td>\n",
       "      <td>0.019072</td>\n",
       "    </tr>\n",
       "    <tr>\n",
       "      <th>3</th>\n",
       "      <td>Parch</td>\n",
       "      <td>0.016910</td>\n",
       "      <td>0.027294</td>\n",
       "    </tr>\n",
       "    <tr>\n",
       "      <th>4</th>\n",
       "      <td>Fare</td>\n",
       "      <td>0.043986</td>\n",
       "      <td>0.238702</td>\n",
       "    </tr>\n",
       "    <tr>\n",
       "      <th>5</th>\n",
       "      <td>MaleCheck</td>\n",
       "      <td>-2.534588</td>\n",
       "      <td>0.309335</td>\n",
       "    </tr>\n",
       "    <tr>\n",
       "      <th>6</th>\n",
       "      <td>Sozinho</td>\n",
       "      <td>-0.732338</td>\n",
       "      <td>0.003978</td>\n",
       "    </tr>\n",
       "    <tr>\n",
       "      <th>7</th>\n",
       "      <td>Familiares</td>\n",
       "      <td>-0.251288</td>\n",
       "      <td>0.043650</td>\n",
       "    </tr>\n",
       "    <tr>\n",
       "      <th>8</th>\n",
       "      <td>Embarked</td>\n",
       "      <td>0.238668</td>\n",
       "      <td>0.020684</td>\n",
       "    </tr>\n",
       "  </tbody>\n",
       "</table>\n",
       "</div>"
      ],
      "text/plain": [
       "      colunas   reg_log    arvore\n",
       "0      Pclass -1.033148  0.109018\n",
       "1         Age -0.496457  0.228267\n",
       "2       SibSp -0.268197  0.019072\n",
       "3       Parch  0.016910  0.027294\n",
       "4        Fare  0.043986  0.238702\n",
       "5   MaleCheck -2.534588  0.309335\n",
       "6     Sozinho -0.732338  0.003978\n",
       "7  Familiares -0.251288  0.043650\n",
       "8    Embarked  0.238668  0.020684"
      ]
     },
     "execution_count": 119,
     "metadata": {},
     "output_type": "execute_result"
    }
   ],
   "source": [
    "# Criando um Dataframe\n",
    "importancia = pd.DataFrame({\n",
    "    'colunas': x.columns,\n",
    "    'reg_log': clf_rl.coef_[0],\n",
    "    'arvore': clf_ac.feature_importances_\n",
    "    \n",
    "})\n",
    "\n",
    "importancia"
   ]
  },
  {
   "cell_type": "markdown",
   "id": "e6666bf7",
   "metadata": {
    "hidden": true
   },
   "source": [
    "**Podemos observar que a coluna Sozinho tem um alto valor para a regressão logística e apesar da coluna Familiares ter um valor baixo e um pouco menor que a SibSp ela engloba tanto essa coluna como a Parch e ela é bem mais importante (tem um valor maior) para a árvore de decisão. Logo vamos manter somente as colunas Sozinho e Familiares excluindo assim as colunas SibSp e Parch das nossas bases de Treino e de Teste.**"
   ]
  },
  {
   "cell_type": "code",
   "execution_count": 120,
   "id": "ff2da074",
   "metadata": {
    "ExecuteTime": {
     "end_time": "2024-05-15T10:34:04.872375Z",
     "start_time": "2024-05-15T10:34:04.338830Z"
    },
    "hidden": true
   },
   "outputs": [],
   "source": [
    "# Podemos apenas manter as colunas mais relevantes\n",
    "treino_6 = treino_5.drop(['SibSp','Parch'],axis=1)\n",
    "teste_6 = teste_5.drop(['SibSp','Parch'],axis=1)"
   ]
  },
  {
   "cell_type": "markdown",
   "id": "2ca52ef2",
   "metadata": {
    "hidden": true
   },
   "source": [
    "### Usando essa nova base no modelo"
   ]
  },
  {
   "cell_type": "code",
   "execution_count": 121,
   "id": "dc731c5f",
   "metadata": {
    "ExecuteTime": {
     "end_time": "2024-05-15T10:34:05.435539Z",
     "start_time": "2024-05-15T10:34:04.875343Z"
    },
    "hidden": true
   },
   "outputs": [
    {
     "data": {
      "text/html": [
       "<div>\n",
       "<style scoped>\n",
       "    .dataframe tbody tr th:only-of-type {\n",
       "        vertical-align: middle;\n",
       "    }\n",
       "\n",
       "    .dataframe tbody tr th {\n",
       "        vertical-align: top;\n",
       "    }\n",
       "\n",
       "    .dataframe thead th {\n",
       "        text-align: right;\n",
       "    }\n",
       "</style>\n",
       "<table border=\"1\" class=\"dataframe\">\n",
       "  <thead>\n",
       "    <tr style=\"text-align: right;\">\n",
       "      <th></th>\n",
       "      <th>PassengerId</th>\n",
       "      <th>Survived</th>\n",
       "      <th>Pclass</th>\n",
       "      <th>Age</th>\n",
       "      <th>Fare</th>\n",
       "      <th>MaleCheck</th>\n",
       "      <th>Sozinho</th>\n",
       "      <th>Familiares</th>\n",
       "      <th>Embarked</th>\n",
       "    </tr>\n",
       "  </thead>\n",
       "  <tbody>\n",
       "    <tr>\n",
       "      <th>0</th>\n",
       "      <td>1</td>\n",
       "      <td>0</td>\n",
       "      <td>3</td>\n",
       "      <td>-0.592240</td>\n",
       "      <td>-0.312011</td>\n",
       "      <td>1</td>\n",
       "      <td>0</td>\n",
       "      <td>1</td>\n",
       "      <td>0</td>\n",
       "    </tr>\n",
       "    <tr>\n",
       "      <th>1</th>\n",
       "      <td>2</td>\n",
       "      <td>1</td>\n",
       "      <td>1</td>\n",
       "      <td>0.638529</td>\n",
       "      <td>2.461242</td>\n",
       "      <td>0</td>\n",
       "      <td>0</td>\n",
       "      <td>1</td>\n",
       "      <td>1</td>\n",
       "    </tr>\n",
       "    <tr>\n",
       "      <th>2</th>\n",
       "      <td>3</td>\n",
       "      <td>1</td>\n",
       "      <td>3</td>\n",
       "      <td>-0.284548</td>\n",
       "      <td>-0.282777</td>\n",
       "      <td>0</td>\n",
       "      <td>1</td>\n",
       "      <td>0</td>\n",
       "      <td>0</td>\n",
       "    </tr>\n",
       "    <tr>\n",
       "      <th>3</th>\n",
       "      <td>4</td>\n",
       "      <td>1</td>\n",
       "      <td>1</td>\n",
       "      <td>0.407760</td>\n",
       "      <td>1.673732</td>\n",
       "      <td>0</td>\n",
       "      <td>0</td>\n",
       "      <td>1</td>\n",
       "      <td>0</td>\n",
       "    </tr>\n",
       "    <tr>\n",
       "      <th>4</th>\n",
       "      <td>5</td>\n",
       "      <td>0</td>\n",
       "      <td>3</td>\n",
       "      <td>0.407760</td>\n",
       "      <td>-0.277363</td>\n",
       "      <td>1</td>\n",
       "      <td>1</td>\n",
       "      <td>0</td>\n",
       "      <td>0</td>\n",
       "    </tr>\n",
       "  </tbody>\n",
       "</table>\n",
       "</div>"
      ],
      "text/plain": [
       "   PassengerId  Survived  Pclass       Age      Fare  MaleCheck  Sozinho  \\\n",
       "0            1         0       3 -0.592240 -0.312011          1        0   \n",
       "1            2         1       1  0.638529  2.461242          0        0   \n",
       "2            3         1       3 -0.284548 -0.282777          0        1   \n",
       "3            4         1       1  0.407760  1.673732          0        0   \n",
       "4            5         0       3  0.407760 -0.277363          1        1   \n",
       "\n",
       "   Familiares  Embarked  \n",
       "0           1         0  \n",
       "1           1         1  \n",
       "2           0         0  \n",
       "3           1         0  \n",
       "4           0         0  "
      ]
     },
     "execution_count": 121,
     "metadata": {},
     "output_type": "execute_result"
    }
   ],
   "source": [
    "treino_6.head()"
   ]
  },
  {
   "cell_type": "code",
   "execution_count": 122,
   "id": "e4e282ad",
   "metadata": {
    "ExecuteTime": {
     "end_time": "2024-05-15T10:34:06.039881Z",
     "start_time": "2024-05-15T10:34:05.439489Z"
    },
    "hidden": true
   },
   "outputs": [],
   "source": [
    "6#Separando em x e y para o treino\n",
    "x = treino_6.drop(['PassengerId', 'Survived'], axis=1)\n",
    "y = treino_6.Survived\n",
    "\n",
    "# Separando em treino e validação\n",
    "x_train, x_val, y_train, y_val = train_test_split(x,\n",
    "                                                  y,\n",
    "                                                  test_size=0.33,\n",
    "                                                  random_state=42)\n",
    "\n",
    "# árvore\n",
    "clf_ac = tree.DecisionTreeClassifier(random_state=42)\n",
    "clf_ac = clf_ac.fit(x_train, y_train)\n",
    "y_pred_ac = clf_ac.predict(x_val)\n",
    "\n",
    "# Knn\n",
    "\n",
    "clf_knn = KNeighborsClassifier(n_neighbors=3)\n",
    "clf_knn = clf_knn.fit(x_train, y_train)\n",
    "y_pred_knn = clf_knn.predict(x_val)\n",
    "\n",
    "# regressão logística\n",
    "clf_rl = LogisticRegression(random_state=42, max_iter=1000)\n",
    "clf_rl = clf_rl.fit(x_train, y_train)\n",
    "y_pred_rl = clf_rl.predict(x_val)"
   ]
  },
  {
   "cell_type": "code",
   "execution_count": 123,
   "id": "f8b8132f",
   "metadata": {
    "ExecuteTime": {
     "end_time": "2024-05-15T10:34:06.443250Z",
     "start_time": "2024-05-15T10:34:06.042072Z"
    },
    "hidden": true
   },
   "outputs": [],
   "source": [
    "# Para árvore\n",
    "as_ac_colunas = accuracy_score(y_val, y_pred_ac)\n",
    "\n",
    "# knn\n",
    "as_knn_colunas = accuracy_score(y_val, y_pred_knn)\n",
    "\n",
    "# regressão\n",
    "as_rl_colunas = accuracy_score(y_val, y_pred_rl)"
   ]
  },
  {
   "cell_type": "code",
   "execution_count": 124,
   "id": "df5bbeff",
   "metadata": {
    "ExecuteTime": {
     "end_time": "2024-05-15T10:34:06.873346Z",
     "start_time": "2024-05-15T10:34:06.448237Z"
    },
    "hidden": true
   },
   "outputs": [
    {
     "data": {
      "text/html": [
       "<div>\n",
       "<style scoped>\n",
       "    .dataframe tbody tr th:only-of-type {\n",
       "        vertical-align: middle;\n",
       "    }\n",
       "\n",
       "    .dataframe tbody tr th {\n",
       "        vertical-align: top;\n",
       "    }\n",
       "\n",
       "    .dataframe thead th {\n",
       "        text-align: right;\n",
       "    }\n",
       "</style>\n",
       "<table border=\"1\" class=\"dataframe\">\n",
       "  <thead>\n",
       "    <tr style=\"text-align: right;\">\n",
       "      <th></th>\n",
       "      <th>modelos</th>\n",
       "      <th>colunas</th>\n",
       "    </tr>\n",
       "  </thead>\n",
       "  <tbody>\n",
       "    <tr>\n",
       "      <th>0</th>\n",
       "      <td>arvore</td>\n",
       "      <td>0.762712</td>\n",
       "    </tr>\n",
       "    <tr>\n",
       "      <th>1</th>\n",
       "      <td>knn</td>\n",
       "      <td>0.786441</td>\n",
       "    </tr>\n",
       "    <tr>\n",
       "      <th>2</th>\n",
       "      <td>reg_log</td>\n",
       "      <td>0.810169</td>\n",
       "    </tr>\n",
       "  </tbody>\n",
       "</table>\n",
       "</div>"
      ],
      "text/plain": [
       "   modelos   colunas\n",
       "0   arvore  0.762712\n",
       "1      knn  0.786441\n",
       "2  reg_log  0.810169"
      ]
     },
     "execution_count": 124,
     "metadata": {},
     "output_type": "execute_result"
    }
   ],
   "source": [
    "# Criando um dataframe para as novas acurácias\n",
    "as_df_colunas = pd.DataFrame({\n",
    "    'modelos':  ['arvore','knn','reg_log'],\n",
    "    'colunas': [as_ac_colunas,as_knn_colunas,as_rl_colunas]\n",
    "})\n",
    "\n",
    "as_df_colunas"
   ]
  },
  {
   "cell_type": "code",
   "execution_count": 125,
   "id": "346c700a",
   "metadata": {
    "ExecuteTime": {
     "end_time": "2024-05-15T10:34:07.372855Z",
     "start_time": "2024-05-15T10:34:06.877335Z"
    },
    "hidden": true
   },
   "outputs": [
    {
     "data": {
      "text/html": [
       "<div>\n",
       "<style scoped>\n",
       "    .dataframe tbody tr th:only-of-type {\n",
       "        vertical-align: middle;\n",
       "    }\n",
       "\n",
       "    .dataframe tbody tr th {\n",
       "        vertical-align: top;\n",
       "    }\n",
       "\n",
       "    .dataframe thead th {\n",
       "        text-align: right;\n",
       "    }\n",
       "</style>\n",
       "<table border=\"1\" class=\"dataframe\">\n",
       "  <thead>\n",
       "    <tr style=\"text-align: right;\">\n",
       "      <th></th>\n",
       "      <th>modelos</th>\n",
       "      <th>iniciais</th>\n",
       "      <th>escala</th>\n",
       "      <th>familiares</th>\n",
       "      <th>colunas</th>\n",
       "    </tr>\n",
       "  </thead>\n",
       "  <tbody>\n",
       "    <tr>\n",
       "      <th>0</th>\n",
       "      <td>arvore</td>\n",
       "      <td>0.749153</td>\n",
       "      <td>0.749153</td>\n",
       "      <td>0.735593</td>\n",
       "      <td>0.762712</td>\n",
       "    </tr>\n",
       "    <tr>\n",
       "      <th>1</th>\n",
       "      <td>knn</td>\n",
       "      <td>0.715254</td>\n",
       "      <td>0.800000</td>\n",
       "      <td>0.786441</td>\n",
       "      <td>0.786441</td>\n",
       "    </tr>\n",
       "    <tr>\n",
       "      <th>2</th>\n",
       "      <td>reg_log</td>\n",
       "      <td>0.816949</td>\n",
       "      <td>0.816949</td>\n",
       "      <td>0.806780</td>\n",
       "      <td>0.810169</td>\n",
       "    </tr>\n",
       "  </tbody>\n",
       "</table>\n",
       "</div>"
      ],
      "text/plain": [
       "   modelos  iniciais    escala  familiares   colunas\n",
       "0   arvore  0.749153  0.749153    0.735593  0.762712\n",
       "1      knn  0.715254  0.800000    0.786441  0.786441\n",
       "2  reg_log  0.816949  0.816949    0.806780  0.810169"
      ]
     },
     "execution_count": 125,
     "metadata": {},
     "output_type": "execute_result"
    }
   ],
   "source": [
    "# Juntando os datasets para comparação\n",
    "as_df_final = as_df_final.join(as_df_colunas.set_index('modelos'),on='modelos')\n",
    "as_df_final"
   ]
  },
  {
   "cell_type": "markdown",
   "id": "c3173ec1",
   "metadata": {
    "hidden": true
   },
   "source": [
    "## Fazendo a previsão para os dados de teste"
   ]
  },
  {
   "cell_type": "code",
   "execution_count": 126,
   "id": "9e94bb07",
   "metadata": {
    "ExecuteTime": {
     "end_time": "2024-05-15T10:34:08.006179Z",
     "start_time": "2024-05-15T10:34:07.375846Z"
    },
    "hidden": true
   },
   "outputs": [
    {
     "data": {
      "text/html": [
       "<div>\n",
       "<style scoped>\n",
       "    .dataframe tbody tr th:only-of-type {\n",
       "        vertical-align: middle;\n",
       "    }\n",
       "\n",
       "    .dataframe tbody tr th {\n",
       "        vertical-align: top;\n",
       "    }\n",
       "\n",
       "    .dataframe thead th {\n",
       "        text-align: right;\n",
       "    }\n",
       "</style>\n",
       "<table border=\"1\" class=\"dataframe\">\n",
       "  <thead>\n",
       "    <tr style=\"text-align: right;\">\n",
       "      <th></th>\n",
       "      <th>Pclass</th>\n",
       "      <th>Age</th>\n",
       "      <th>Fare</th>\n",
       "      <th>MaleCheck</th>\n",
       "      <th>Sozinho</th>\n",
       "      <th>Familiares</th>\n",
       "      <th>Embarked</th>\n",
       "    </tr>\n",
       "  </thead>\n",
       "  <tbody>\n",
       "    <tr>\n",
       "      <th>6</th>\n",
       "      <td>1</td>\n",
       "      <td>1.869299</td>\n",
       "      <td>1.620136</td>\n",
       "      <td>1</td>\n",
       "      <td>1</td>\n",
       "      <td>0</td>\n",
       "      <td>0</td>\n",
       "    </tr>\n",
       "    <tr>\n",
       "      <th>718</th>\n",
       "      <td>3</td>\n",
       "      <td>0.000000</td>\n",
       "      <td>0.045293</td>\n",
       "      <td>1</td>\n",
       "      <td>1</td>\n",
       "      <td>0</td>\n",
       "      <td>2</td>\n",
       "    </tr>\n",
       "    <tr>\n",
       "      <th>685</th>\n",
       "      <td>2</td>\n",
       "      <td>-0.361471</td>\n",
       "      <td>1.174771</td>\n",
       "      <td>1</td>\n",
       "      <td>0</td>\n",
       "      <td>3</td>\n",
       "      <td>1</td>\n",
       "    </tr>\n",
       "    <tr>\n",
       "      <th>73</th>\n",
       "      <td>3</td>\n",
       "      <td>-0.284548</td>\n",
       "      <td>0.000000</td>\n",
       "      <td>1</td>\n",
       "      <td>0</td>\n",
       "      <td>1</td>\n",
       "      <td>1</td>\n",
       "    </tr>\n",
       "    <tr>\n",
       "      <th>882</th>\n",
       "      <td>3</td>\n",
       "      <td>-0.592240</td>\n",
       "      <td>-0.170531</td>\n",
       "      <td>0</td>\n",
       "      <td>1</td>\n",
       "      <td>0</td>\n",
       "      <td>0</td>\n",
       "    </tr>\n",
       "  </tbody>\n",
       "</table>\n",
       "</div>"
      ],
      "text/plain": [
       "     Pclass       Age      Fare  MaleCheck  Sozinho  Familiares  Embarked\n",
       "6         1  1.869299  1.620136          1        1           0         0\n",
       "718       3  0.000000  0.045293          1        1           0         2\n",
       "685       2 -0.361471  1.174771          1        0           3         1\n",
       "73        3 -0.284548  0.000000          1        0           1         1\n",
       "882       3 -0.592240 -0.170531          0        1           0         0"
      ]
     },
     "execution_count": 126,
     "metadata": {},
     "output_type": "execute_result"
    }
   ],
   "source": [
    "# Visualizando o x_train\n",
    "x_train.head()"
   ]
  },
  {
   "cell_type": "code",
   "execution_count": 127,
   "id": "93527dcd",
   "metadata": {
    "ExecuteTime": {
     "end_time": "2024-05-15T10:34:08.378540Z",
     "start_time": "2024-05-15T10:34:08.011195Z"
    },
    "hidden": true
   },
   "outputs": [
    {
     "data": {
      "text/html": [
       "<div>\n",
       "<style scoped>\n",
       "    .dataframe tbody tr th:only-of-type {\n",
       "        vertical-align: middle;\n",
       "    }\n",
       "\n",
       "    .dataframe tbody tr th {\n",
       "        vertical-align: top;\n",
       "    }\n",
       "\n",
       "    .dataframe thead th {\n",
       "        text-align: right;\n",
       "    }\n",
       "</style>\n",
       "<table border=\"1\" class=\"dataframe\">\n",
       "  <thead>\n",
       "    <tr style=\"text-align: right;\">\n",
       "      <th></th>\n",
       "      <th>PassengerId</th>\n",
       "      <th>Pclass</th>\n",
       "      <th>Age</th>\n",
       "      <th>Fare</th>\n",
       "      <th>MaleCheck</th>\n",
       "      <th>Sozinho</th>\n",
       "      <th>Familiares</th>\n",
       "      <th>Embarked</th>\n",
       "    </tr>\n",
       "  </thead>\n",
       "  <tbody>\n",
       "    <tr>\n",
       "      <th>0</th>\n",
       "      <td>892</td>\n",
       "      <td>3</td>\n",
       "      <td>0.331562</td>\n",
       "      <td>-0.281005</td>\n",
       "      <td>1</td>\n",
       "      <td>1</td>\n",
       "      <td>0</td>\n",
       "      <td>2</td>\n",
       "    </tr>\n",
       "    <tr>\n",
       "      <th>1</th>\n",
       "      <td>893</td>\n",
       "      <td>3</td>\n",
       "      <td>1.311954</td>\n",
       "      <td>-0.316176</td>\n",
       "      <td>0</td>\n",
       "      <td>0</td>\n",
       "      <td>1</td>\n",
       "      <td>0</td>\n",
       "    </tr>\n",
       "    <tr>\n",
       "      <th>2</th>\n",
       "      <td>894</td>\n",
       "      <td>2</td>\n",
       "      <td>2.488424</td>\n",
       "      <td>-0.202184</td>\n",
       "      <td>1</td>\n",
       "      <td>1</td>\n",
       "      <td>0</td>\n",
       "      <td>2</td>\n",
       "    </tr>\n",
       "    <tr>\n",
       "      <th>3</th>\n",
       "      <td>895</td>\n",
       "      <td>3</td>\n",
       "      <td>-0.256674</td>\n",
       "      <td>-0.245660</td>\n",
       "      <td>1</td>\n",
       "      <td>1</td>\n",
       "      <td>0</td>\n",
       "      <td>0</td>\n",
       "    </tr>\n",
       "    <tr>\n",
       "      <th>4</th>\n",
       "      <td>896</td>\n",
       "      <td>3</td>\n",
       "      <td>-0.648831</td>\n",
       "      <td>-0.091902</td>\n",
       "      <td>0</td>\n",
       "      <td>0</td>\n",
       "      <td>2</td>\n",
       "      <td>0</td>\n",
       "    </tr>\n",
       "  </tbody>\n",
       "</table>\n",
       "</div>"
      ],
      "text/plain": [
       "   PassengerId  Pclass       Age      Fare  MaleCheck  Sozinho  Familiares  \\\n",
       "0          892       3  0.331562 -0.281005          1        1           0   \n",
       "1          893       3  1.311954 -0.316176          0        0           1   \n",
       "2          894       2  2.488424 -0.202184          1        1           0   \n",
       "3          895       3 -0.256674 -0.245660          1        1           0   \n",
       "4          896       3 -0.648831 -0.091902          0        0           2   \n",
       "\n",
       "   Embarked  \n",
       "0         2  \n",
       "1         0  \n",
       "2         2  \n",
       "3         0  \n",
       "4         0  "
      ]
     },
     "execution_count": 127,
     "metadata": {},
     "output_type": "execute_result"
    }
   ],
   "source": [
    "# Visualizando a base de teste\n",
    "teste_6.head()"
   ]
  },
  {
   "cell_type": "code",
   "execution_count": 128,
   "id": "64f9e222",
   "metadata": {
    "ExecuteTime": {
     "end_time": "2024-05-15T10:34:08.846097Z",
     "start_time": "2024-05-15T10:34:08.387512Z"
    },
    "hidden": true
   },
   "outputs": [],
   "source": [
    "# Para a base de teste ser igual a base de treino, precisamos eliminar a coluna id\n",
    "x_teste = teste_6.drop(['PassengerId'], axis= 1)"
   ]
  },
  {
   "cell_type": "code",
   "execution_count": 129,
   "id": "549d2510",
   "metadata": {
    "ExecuteTime": {
     "end_time": "2024-05-15T10:34:09.190142Z",
     "start_time": "2024-05-15T10:34:08.850083Z"
    },
    "hidden": true
   },
   "outputs": [],
   "source": [
    "# Utilizando a regressõ logística na base de teste\n",
    "y_pred = clf_rl.predict(x_teste)"
   ]
  },
  {
   "cell_type": "code",
   "execution_count": 130,
   "id": "87d33b9b",
   "metadata": {
    "ExecuteTime": {
     "end_time": "2024-05-15T10:34:09.720358Z",
     "start_time": "2024-05-15T10:34:09.193262Z"
    },
    "hidden": true
   },
   "outputs": [],
   "source": [
    "# Ciando uma nova coluna com a previsão na base de teste\n",
    "submit_3 = teste_6.copy()\n",
    "submit_3['Survived'] = y_pred\n",
    "submit_3 = submit_3[[\"PassengerId\",'Survived']]"
   ]
  },
  {
   "cell_type": "code",
   "execution_count": 131,
   "id": "7b65ef02",
   "metadata": {
    "ExecuteTime": {
     "end_time": "2024-05-15T10:34:10.272179Z",
     "start_time": "2024-05-15T10:34:09.723349Z"
    },
    "hidden": true
   },
   "outputs": [
    {
     "data": {
      "text/html": [
       "<div>\n",
       "<style scoped>\n",
       "    .dataframe tbody tr th:only-of-type {\n",
       "        vertical-align: middle;\n",
       "    }\n",
       "\n",
       "    .dataframe tbody tr th {\n",
       "        vertical-align: top;\n",
       "    }\n",
       "\n",
       "    .dataframe thead th {\n",
       "        text-align: right;\n",
       "    }\n",
       "</style>\n",
       "<table border=\"1\" class=\"dataframe\">\n",
       "  <thead>\n",
       "    <tr style=\"text-align: right;\">\n",
       "      <th></th>\n",
       "      <th>PassengerId</th>\n",
       "      <th>Survived</th>\n",
       "    </tr>\n",
       "  </thead>\n",
       "  <tbody>\n",
       "    <tr>\n",
       "      <th>0</th>\n",
       "      <td>892</td>\n",
       "      <td>0</td>\n",
       "    </tr>\n",
       "    <tr>\n",
       "      <th>1</th>\n",
       "      <td>893</td>\n",
       "      <td>1</td>\n",
       "    </tr>\n",
       "    <tr>\n",
       "      <th>2</th>\n",
       "      <td>894</td>\n",
       "      <td>0</td>\n",
       "    </tr>\n",
       "    <tr>\n",
       "      <th>3</th>\n",
       "      <td>895</td>\n",
       "      <td>0</td>\n",
       "    </tr>\n",
       "    <tr>\n",
       "      <th>4</th>\n",
       "      <td>896</td>\n",
       "      <td>1</td>\n",
       "    </tr>\n",
       "    <tr>\n",
       "      <th>...</th>\n",
       "      <td>...</td>\n",
       "      <td>...</td>\n",
       "    </tr>\n",
       "    <tr>\n",
       "      <th>413</th>\n",
       "      <td>1305</td>\n",
       "      <td>0</td>\n",
       "    </tr>\n",
       "    <tr>\n",
       "      <th>414</th>\n",
       "      <td>1306</td>\n",
       "      <td>1</td>\n",
       "    </tr>\n",
       "    <tr>\n",
       "      <th>415</th>\n",
       "      <td>1307</td>\n",
       "      <td>0</td>\n",
       "    </tr>\n",
       "    <tr>\n",
       "      <th>416</th>\n",
       "      <td>1308</td>\n",
       "      <td>0</td>\n",
       "    </tr>\n",
       "    <tr>\n",
       "      <th>417</th>\n",
       "      <td>1309</td>\n",
       "      <td>0</td>\n",
       "    </tr>\n",
       "  </tbody>\n",
       "</table>\n",
       "<p>418 rows × 2 columns</p>\n",
       "</div>"
      ],
      "text/plain": [
       "     PassengerId  Survived\n",
       "0            892         0\n",
       "1            893         1\n",
       "2            894         0\n",
       "3            895         0\n",
       "4            896         1\n",
       "..           ...       ...\n",
       "413         1305         0\n",
       "414         1306         1\n",
       "415         1307         0\n",
       "416         1308         0\n",
       "417         1309         0\n",
       "\n",
       "[418 rows x 2 columns]"
      ]
     },
     "execution_count": 131,
     "metadata": {},
     "output_type": "execute_result"
    }
   ],
   "source": [
    "submit_3"
   ]
  },
  {
   "cell_type": "code",
   "execution_count": 174,
   "id": "2e145bef",
   "metadata": {
    "ExecuteTime": {
     "end_time": "2024-05-15T14:07:02.438694Z",
     "start_time": "2024-05-15T14:07:02.300575Z"
    },
    "hidden": true
   },
   "outputs": [],
   "source": [
    "# Salvando a base para a submissão\n",
    "submit_3.to_csv('submit_3.csv',index=False)"
   ]
  },
  {
   "cell_type": "markdown",
   "id": "85af878a",
   "metadata": {
    "heading_collapsed": true
   },
   "source": [
    "# ETAPA 4: Selecionando Novos Modelos Para Novas Previsões"
   ]
  },
  {
   "cell_type": "markdown",
   "id": "b6004c69",
   "metadata": {
    "hidden": true
   },
   "source": [
    "- **Iremos manter dos 3 modelos anteriores apenas o que teve a maior acurácia dentre os 3 que é o modelo de Regressão Logística**\n",
    "- **Os outros modelos que iremos utilizar a partir dessa estapa serão o Random Forest e o MLPClassifier (um modelo de redes neurais). Sendo ambos ainda do sklearn.**"
   ]
  },
  {
   "cell_type": "code",
   "execution_count": 132,
   "id": "7fa1492d",
   "metadata": {
    "ExecuteTime": {
     "end_time": "2024-05-15T10:34:10.668665Z",
     "start_time": "2024-05-15T10:34:10.280953Z"
    },
    "hidden": true
   },
   "outputs": [
    {
     "data": {
      "text/html": [
       "<div>\n",
       "<style scoped>\n",
       "    .dataframe tbody tr th:only-of-type {\n",
       "        vertical-align: middle;\n",
       "    }\n",
       "\n",
       "    .dataframe tbody tr th {\n",
       "        vertical-align: top;\n",
       "    }\n",
       "\n",
       "    .dataframe thead th {\n",
       "        text-align: right;\n",
       "    }\n",
       "</style>\n",
       "<table border=\"1\" class=\"dataframe\">\n",
       "  <thead>\n",
       "    <tr style=\"text-align: right;\">\n",
       "      <th></th>\n",
       "      <th>PassengerId</th>\n",
       "      <th>Survived</th>\n",
       "      <th>Pclass</th>\n",
       "      <th>Age</th>\n",
       "      <th>SibSp</th>\n",
       "      <th>Parch</th>\n",
       "      <th>Fare</th>\n",
       "      <th>Embarked</th>\n",
       "      <th>MaleCheck</th>\n",
       "      <th>Sozinho</th>\n",
       "      <th>Familiares</th>\n",
       "    </tr>\n",
       "  </thead>\n",
       "  <tbody>\n",
       "    <tr>\n",
       "      <th>0</th>\n",
       "      <td>1</td>\n",
       "      <td>0</td>\n",
       "      <td>3</td>\n",
       "      <td>-0.592240</td>\n",
       "      <td>1</td>\n",
       "      <td>0</td>\n",
       "      <td>-0.312011</td>\n",
       "      <td>0</td>\n",
       "      <td>1</td>\n",
       "      <td>0</td>\n",
       "      <td>1</td>\n",
       "    </tr>\n",
       "    <tr>\n",
       "      <th>1</th>\n",
       "      <td>2</td>\n",
       "      <td>1</td>\n",
       "      <td>1</td>\n",
       "      <td>0.638529</td>\n",
       "      <td>1</td>\n",
       "      <td>0</td>\n",
       "      <td>2.461242</td>\n",
       "      <td>1</td>\n",
       "      <td>0</td>\n",
       "      <td>0</td>\n",
       "      <td>1</td>\n",
       "    </tr>\n",
       "    <tr>\n",
       "      <th>2</th>\n",
       "      <td>3</td>\n",
       "      <td>1</td>\n",
       "      <td>3</td>\n",
       "      <td>-0.284548</td>\n",
       "      <td>0</td>\n",
       "      <td>0</td>\n",
       "      <td>-0.282777</td>\n",
       "      <td>0</td>\n",
       "      <td>0</td>\n",
       "      <td>1</td>\n",
       "      <td>0</td>\n",
       "    </tr>\n",
       "    <tr>\n",
       "      <th>3</th>\n",
       "      <td>4</td>\n",
       "      <td>1</td>\n",
       "      <td>1</td>\n",
       "      <td>0.407760</td>\n",
       "      <td>1</td>\n",
       "      <td>0</td>\n",
       "      <td>1.673732</td>\n",
       "      <td>0</td>\n",
       "      <td>0</td>\n",
       "      <td>0</td>\n",
       "      <td>1</td>\n",
       "    </tr>\n",
       "    <tr>\n",
       "      <th>4</th>\n",
       "      <td>5</td>\n",
       "      <td>0</td>\n",
       "      <td>3</td>\n",
       "      <td>0.407760</td>\n",
       "      <td>0</td>\n",
       "      <td>0</td>\n",
       "      <td>-0.277363</td>\n",
       "      <td>0</td>\n",
       "      <td>1</td>\n",
       "      <td>1</td>\n",
       "      <td>0</td>\n",
       "    </tr>\n",
       "  </tbody>\n",
       "</table>\n",
       "</div>"
      ],
      "text/plain": [
       "   PassengerId  Survived  Pclass       Age  SibSp  Parch      Fare  Embarked  \\\n",
       "0            1         0       3 -0.592240      1      0 -0.312011         0   \n",
       "1            2         1       1  0.638529      1      0  2.461242         1   \n",
       "2            3         1       3 -0.284548      0      0 -0.282777         0   \n",
       "3            4         1       1  0.407760      1      0  1.673732         0   \n",
       "4            5         0       3  0.407760      0      0 -0.277363         0   \n",
       "\n",
       "   MaleCheck  Sozinho  Familiares  \n",
       "0          1        0           1  \n",
       "1          0        0           1  \n",
       "2          0        1           0  \n",
       "3          0        0           1  \n",
       "4          1        1           0  "
      ]
     },
     "execution_count": 132,
     "metadata": {},
     "output_type": "execute_result"
    }
   ],
   "source": [
    "# Modificando a ordem das colunas para uma acuracia maior\n",
    "cols_new = ['PassengerId',\n",
    " 'Survived',\n",
    " 'Pclass',\n",
    " 'Age',\n",
    " 'SibSp',\n",
    " 'Parch',\n",
    " 'Fare',\n",
    " 'Embarked',\n",
    " 'MaleCheck',\n",
    " 'Sozinho',\n",
    " 'Familiares']\n",
    "treino_7 = treino_5[cols_new]\n",
    "treino_7.head()"
   ]
  },
  {
   "cell_type": "code",
   "execution_count": 133,
   "id": "75cb6c6c",
   "metadata": {
    "ExecuteTime": {
     "end_time": "2024-05-15T10:34:11.115248Z",
     "start_time": "2024-05-15T10:34:10.672653Z"
    },
    "hidden": true
   },
   "outputs": [
    {
     "data": {
      "text/html": [
       "<div>\n",
       "<style scoped>\n",
       "    .dataframe tbody tr th:only-of-type {\n",
       "        vertical-align: middle;\n",
       "    }\n",
       "\n",
       "    .dataframe tbody tr th {\n",
       "        vertical-align: top;\n",
       "    }\n",
       "\n",
       "    .dataframe thead th {\n",
       "        text-align: right;\n",
       "    }\n",
       "</style>\n",
       "<table border=\"1\" class=\"dataframe\">\n",
       "  <thead>\n",
       "    <tr style=\"text-align: right;\">\n",
       "      <th></th>\n",
       "      <th>PassengerId</th>\n",
       "      <th>Pclass</th>\n",
       "      <th>Age</th>\n",
       "      <th>SibSp</th>\n",
       "      <th>Parch</th>\n",
       "      <th>Fare</th>\n",
       "      <th>Embarked</th>\n",
       "      <th>MaleCheck</th>\n",
       "      <th>Sozinho</th>\n",
       "      <th>Familiares</th>\n",
       "    </tr>\n",
       "  </thead>\n",
       "  <tbody>\n",
       "    <tr>\n",
       "      <th>0</th>\n",
       "      <td>892</td>\n",
       "      <td>3</td>\n",
       "      <td>0.331562</td>\n",
       "      <td>0</td>\n",
       "      <td>0</td>\n",
       "      <td>-0.281005</td>\n",
       "      <td>2</td>\n",
       "      <td>1</td>\n",
       "      <td>1</td>\n",
       "      <td>0</td>\n",
       "    </tr>\n",
       "    <tr>\n",
       "      <th>1</th>\n",
       "      <td>893</td>\n",
       "      <td>3</td>\n",
       "      <td>1.311954</td>\n",
       "      <td>1</td>\n",
       "      <td>0</td>\n",
       "      <td>-0.316176</td>\n",
       "      <td>0</td>\n",
       "      <td>0</td>\n",
       "      <td>0</td>\n",
       "      <td>1</td>\n",
       "    </tr>\n",
       "    <tr>\n",
       "      <th>2</th>\n",
       "      <td>894</td>\n",
       "      <td>2</td>\n",
       "      <td>2.488424</td>\n",
       "      <td>0</td>\n",
       "      <td>0</td>\n",
       "      <td>-0.202184</td>\n",
       "      <td>2</td>\n",
       "      <td>1</td>\n",
       "      <td>1</td>\n",
       "      <td>0</td>\n",
       "    </tr>\n",
       "    <tr>\n",
       "      <th>3</th>\n",
       "      <td>895</td>\n",
       "      <td>3</td>\n",
       "      <td>-0.256674</td>\n",
       "      <td>0</td>\n",
       "      <td>0</td>\n",
       "      <td>-0.245660</td>\n",
       "      <td>0</td>\n",
       "      <td>1</td>\n",
       "      <td>1</td>\n",
       "      <td>0</td>\n",
       "    </tr>\n",
       "    <tr>\n",
       "      <th>4</th>\n",
       "      <td>896</td>\n",
       "      <td>3</td>\n",
       "      <td>-0.648831</td>\n",
       "      <td>1</td>\n",
       "      <td>1</td>\n",
       "      <td>-0.091902</td>\n",
       "      <td>0</td>\n",
       "      <td>0</td>\n",
       "      <td>0</td>\n",
       "      <td>2</td>\n",
       "    </tr>\n",
       "  </tbody>\n",
       "</table>\n",
       "</div>"
      ],
      "text/plain": [
       "   PassengerId  Pclass       Age  SibSp  Parch      Fare  Embarked  MaleCheck  \\\n",
       "0          892       3  0.331562      0      0 -0.281005         2          1   \n",
       "1          893       3  1.311954      1      0 -0.316176         0          0   \n",
       "2          894       2  2.488424      0      0 -0.202184         2          1   \n",
       "3          895       3 -0.256674      0      0 -0.245660         0          1   \n",
       "4          896       3 -0.648831      1      1 -0.091902         0          0   \n",
       "\n",
       "   Sozinho  Familiares  \n",
       "0        1           0  \n",
       "1        0           1  \n",
       "2        1           0  \n",
       "3        1           0  \n",
       "4        0           2  "
      ]
     },
     "execution_count": 133,
     "metadata": {},
     "output_type": "execute_result"
    }
   ],
   "source": [
    "# Fazendo o mesmo para a base de teste\n",
    "cols_new = ['PassengerId',\n",
    " 'Pclass',\n",
    " 'Age',\n",
    " 'SibSp',\n",
    " 'Parch',\n",
    " 'Fare',\n",
    " 'Embarked',\n",
    " 'MaleCheck',\n",
    " 'Sozinho',\n",
    " 'Familiares']\n",
    "teste_7 = teste_5[cols_new]\n",
    "teste_7.head()"
   ]
  },
  {
   "cell_type": "code",
   "execution_count": 134,
   "id": "5d1e8584",
   "metadata": {
    "ExecuteTime": {
     "end_time": "2024-05-15T10:34:16.825100Z",
     "start_time": "2024-05-15T10:34:11.120235Z"
    },
    "hidden": true
   },
   "outputs": [],
   "source": [
    "#Separando em x e y para o treino\n",
    "x = treino_7.drop(['PassengerId', 'Survived'], axis=1)\n",
    "y = treino_7.Survived\n",
    "\n",
    "# Separando em treino e validação\n",
    "x_train, x_val, y_train, y_val = train_test_split(x,\n",
    "                                                  y,\n",
    "                                                  test_size=0.33,\n",
    "                                                  random_state=42)\n",
    "\n",
    "\n",
    "\n",
    "# regressão logística\n",
    "clf_rl = LogisticRegression(random_state=42, max_iter=1000)\n",
    "clf_rl = clf_rl.fit(x_train, y_train)\n",
    "y_pred_rl = clf_rl.predict(x_val)\n",
    "\n",
    "# Random Forest\n",
    "clf_rf = RandomForestClassifier(random_state=42)\n",
    "clf_rf = clf_rf.fit(x_train, y_train)\n",
    "y_pred_rf = clf_rf.predict(x_val)\n",
    "\n",
    "# MLPClassifier (Rede Neurais)\n",
    "clf_mlp = MLPClassifier(random_state=42, max_iter=5000)\n",
    "clf_mlp = clf_mlp.fit(x_train, y_train)\n",
    "y_pred_mlp = clf_mlp.predict(x_val)"
   ]
  },
  {
   "cell_type": "code",
   "execution_count": 135,
   "id": "7b389ea0",
   "metadata": {
    "ExecuteTime": {
     "end_time": "2024-05-15T10:34:16.841568Z",
     "start_time": "2024-05-15T10:34:16.828089Z"
    },
    "hidden": true
   },
   "outputs": [
    {
     "name": "stdout",
     "output_type": "stream",
     "text": [
      " A acurácia para o modelo da Regressão Logística é:  0.8068\n",
      " A acurácia para o modelo do Random Forest é:  0.7898\n",
      " A acurácia para o modelo do MLPClassifier (Redes Neurais) é:  0.8305\n"
     ]
    }
   ],
   "source": [
    "# Para a Regressão Logística\n",
    "print(f' A acurácia para o modelo da Regressão Logística é: {accuracy_score(y_val,y_pred_rl): .4f}')\n",
    "\n",
    "# Para  o Random Forest\n",
    "print(f' A acurácia para o modelo do Random Forest é: {accuracy_score(y_val,y_pred_rf): .4f}')\n",
    "\n",
    "# Para a MLP (Redes Neurais)\n",
    "print(f' A acurácia para o modelo do MLPClassifier (Redes Neurais) é: {accuracy_score(y_val,y_pred_mlp): .4f}')"
   ]
  },
  {
   "cell_type": "markdown",
   "id": "c693ce00",
   "metadata": {
    "hidden": true
   },
   "source": [
    "**Verificando a matriz de confusão**"
   ]
  },
  {
   "cell_type": "code",
   "execution_count": 136,
   "id": "9289a948",
   "metadata": {
    "ExecuteTime": {
     "end_time": "2024-05-15T10:34:16.960786Z",
     "start_time": "2024-05-15T10:34:16.845550Z"
    },
    "hidden": true
   },
   "outputs": [
    {
     "data": {
      "text/plain": [
       "array([[152,  23],\n",
       "       [ 34,  86]], dtype=int64)"
      ]
     },
     "execution_count": 136,
     "metadata": {},
     "output_type": "execute_result"
    }
   ],
   "source": [
    "# Para a regressão\n",
    "confusion_matrix(y_val, y_pred_rl)"
   ]
  },
  {
   "cell_type": "code",
   "execution_count": 137,
   "id": "412e7925",
   "metadata": {
    "ExecuteTime": {
     "end_time": "2024-05-15T10:34:17.033157Z",
     "start_time": "2024-05-15T10:34:16.963777Z"
    },
    "hidden": true
   },
   "outputs": [
    {
     "data": {
      "text/plain": [
       "array([[148,  27],\n",
       "       [ 35,  85]], dtype=int64)"
      ]
     },
     "execution_count": 137,
     "metadata": {},
     "output_type": "execute_result"
    }
   ],
   "source": [
    "# Para a Random Forest\n",
    "confusion_matrix(y_val, y_pred_rf)"
   ]
  },
  {
   "cell_type": "code",
   "execution_count": 138,
   "id": "edf01055",
   "metadata": {
    "ExecuteTime": {
     "end_time": "2024-05-15T10:34:17.136965Z",
     "start_time": "2024-05-15T10:34:17.036147Z"
    },
    "hidden": true
   },
   "outputs": [
    {
     "data": {
      "text/plain": [
       "array([[160,  15],\n",
       "       [ 35,  85]], dtype=int64)"
      ]
     },
     "execution_count": 138,
     "metadata": {},
     "output_type": "execute_result"
    }
   ],
   "source": [
    "# Para MLPClassifier\n",
    "confusion_matrix(y_val, y_pred_mlp)"
   ]
  },
  {
   "cell_type": "markdown",
   "id": "fb7492f4",
   "metadata": {
    "hidden": true
   },
   "source": [
    "Chegamos ao Resultado que o modelo MLP (Redes Neurais) realmente é o melhor modelo para os nossos dados"
   ]
  },
  {
   "cell_type": "markdown",
   "id": "e05fcff0",
   "metadata": {
    "hidden": true
   },
   "source": [
    "### Fazendo a previsão para os dados de teste"
   ]
  },
  {
   "cell_type": "code",
   "execution_count": 139,
   "id": "6a39cf7c",
   "metadata": {
    "ExecuteTime": {
     "end_time": "2024-05-15T10:34:17.231927Z",
     "start_time": "2024-05-15T10:34:17.148923Z"
    },
    "hidden": true
   },
   "outputs": [
    {
     "data": {
      "text/html": [
       "<div>\n",
       "<style scoped>\n",
       "    .dataframe tbody tr th:only-of-type {\n",
       "        vertical-align: middle;\n",
       "    }\n",
       "\n",
       "    .dataframe tbody tr th {\n",
       "        vertical-align: top;\n",
       "    }\n",
       "\n",
       "    .dataframe thead th {\n",
       "        text-align: right;\n",
       "    }\n",
       "</style>\n",
       "<table border=\"1\" class=\"dataframe\">\n",
       "  <thead>\n",
       "    <tr style=\"text-align: right;\">\n",
       "      <th></th>\n",
       "      <th>PassengerId</th>\n",
       "      <th>Pclass</th>\n",
       "      <th>Age</th>\n",
       "      <th>SibSp</th>\n",
       "      <th>Parch</th>\n",
       "      <th>Fare</th>\n",
       "      <th>Embarked</th>\n",
       "      <th>MaleCheck</th>\n",
       "      <th>Sozinho</th>\n",
       "      <th>Familiares</th>\n",
       "    </tr>\n",
       "  </thead>\n",
       "  <tbody>\n",
       "    <tr>\n",
       "      <th>0</th>\n",
       "      <td>892</td>\n",
       "      <td>3</td>\n",
       "      <td>0.331562</td>\n",
       "      <td>0</td>\n",
       "      <td>0</td>\n",
       "      <td>-0.281005</td>\n",
       "      <td>2</td>\n",
       "      <td>1</td>\n",
       "      <td>1</td>\n",
       "      <td>0</td>\n",
       "    </tr>\n",
       "    <tr>\n",
       "      <th>1</th>\n",
       "      <td>893</td>\n",
       "      <td>3</td>\n",
       "      <td>1.311954</td>\n",
       "      <td>1</td>\n",
       "      <td>0</td>\n",
       "      <td>-0.316176</td>\n",
       "      <td>0</td>\n",
       "      <td>0</td>\n",
       "      <td>0</td>\n",
       "      <td>1</td>\n",
       "    </tr>\n",
       "    <tr>\n",
       "      <th>2</th>\n",
       "      <td>894</td>\n",
       "      <td>2</td>\n",
       "      <td>2.488424</td>\n",
       "      <td>0</td>\n",
       "      <td>0</td>\n",
       "      <td>-0.202184</td>\n",
       "      <td>2</td>\n",
       "      <td>1</td>\n",
       "      <td>1</td>\n",
       "      <td>0</td>\n",
       "    </tr>\n",
       "    <tr>\n",
       "      <th>3</th>\n",
       "      <td>895</td>\n",
       "      <td>3</td>\n",
       "      <td>-0.256674</td>\n",
       "      <td>0</td>\n",
       "      <td>0</td>\n",
       "      <td>-0.245660</td>\n",
       "      <td>0</td>\n",
       "      <td>1</td>\n",
       "      <td>1</td>\n",
       "      <td>0</td>\n",
       "    </tr>\n",
       "    <tr>\n",
       "      <th>4</th>\n",
       "      <td>896</td>\n",
       "      <td>3</td>\n",
       "      <td>-0.648831</td>\n",
       "      <td>1</td>\n",
       "      <td>1</td>\n",
       "      <td>-0.091902</td>\n",
       "      <td>0</td>\n",
       "      <td>0</td>\n",
       "      <td>0</td>\n",
       "      <td>2</td>\n",
       "    </tr>\n",
       "  </tbody>\n",
       "</table>\n",
       "</div>"
      ],
      "text/plain": [
       "   PassengerId  Pclass       Age  SibSp  Parch      Fare  Embarked  MaleCheck  \\\n",
       "0          892       3  0.331562      0      0 -0.281005         2          1   \n",
       "1          893       3  1.311954      1      0 -0.316176         0          0   \n",
       "2          894       2  2.488424      0      0 -0.202184         2          1   \n",
       "3          895       3 -0.256674      0      0 -0.245660         0          1   \n",
       "4          896       3 -0.648831      1      1 -0.091902         0          0   \n",
       "\n",
       "   Sozinho  Familiares  \n",
       "0        1           0  \n",
       "1        0           1  \n",
       "2        1           0  \n",
       "3        1           0  \n",
       "4        0           2  "
      ]
     },
     "execution_count": 139,
     "metadata": {},
     "output_type": "execute_result"
    }
   ],
   "source": [
    "# Visualizando a base de teste\n",
    "teste_7.head()"
   ]
  },
  {
   "cell_type": "code",
   "execution_count": 140,
   "id": "5bb37871",
   "metadata": {
    "ExecuteTime": {
     "end_time": "2024-05-15T10:34:17.329798Z",
     "start_time": "2024-05-15T10:34:17.235914Z"
    },
    "hidden": true
   },
   "outputs": [],
   "source": [
    "# Para a base de teste ser igual a base de treino, precisamos eliminar a coluna de id\n",
    "x_teste = teste_7.drop('PassengerId',axis=1)"
   ]
  },
  {
   "cell_type": "code",
   "execution_count": 141,
   "id": "58c310f6",
   "metadata": {
    "ExecuteTime": {
     "end_time": "2024-05-15T10:34:17.449726Z",
     "start_time": "2024-05-15T10:34:17.336775Z"
    },
    "hidden": true
   },
   "outputs": [],
   "source": [
    "# Utilizando o melhor modelo na base de teste\n",
    "y_pred = clf_mlp.predict(x_teste)"
   ]
  },
  {
   "cell_type": "code",
   "execution_count": 142,
   "id": "26b320a6",
   "metadata": {
    "ExecuteTime": {
     "end_time": "2024-05-15T10:34:17.567088Z",
     "start_time": "2024-05-15T10:34:17.462688Z"
    },
    "hidden": true
   },
   "outputs": [],
   "source": [
    "# Ciando uma nova coluna com a previsão na base de teste\n",
    "submit_4 = teste_7.copy()\n",
    "submit_4['Survived'] = y_pred\n",
    "submit_4 = submit_4[[\"PassengerId\",'Survived']]"
   ]
  },
  {
   "cell_type": "code",
   "execution_count": 143,
   "id": "05c0ca68",
   "metadata": {
    "ExecuteTime": {
     "end_time": "2024-05-15T10:34:17.696457Z",
     "start_time": "2024-05-15T10:34:17.569081Z"
    },
    "hidden": true
   },
   "outputs": [
    {
     "data": {
      "text/html": [
       "<div>\n",
       "<style scoped>\n",
       "    .dataframe tbody tr th:only-of-type {\n",
       "        vertical-align: middle;\n",
       "    }\n",
       "\n",
       "    .dataframe tbody tr th {\n",
       "        vertical-align: top;\n",
       "    }\n",
       "\n",
       "    .dataframe thead th {\n",
       "        text-align: right;\n",
       "    }\n",
       "</style>\n",
       "<table border=\"1\" class=\"dataframe\">\n",
       "  <thead>\n",
       "    <tr style=\"text-align: right;\">\n",
       "      <th></th>\n",
       "      <th>PassengerId</th>\n",
       "      <th>Survived</th>\n",
       "    </tr>\n",
       "  </thead>\n",
       "  <tbody>\n",
       "    <tr>\n",
       "      <th>0</th>\n",
       "      <td>892</td>\n",
       "      <td>0</td>\n",
       "    </tr>\n",
       "    <tr>\n",
       "      <th>1</th>\n",
       "      <td>893</td>\n",
       "      <td>0</td>\n",
       "    </tr>\n",
       "    <tr>\n",
       "      <th>2</th>\n",
       "      <td>894</td>\n",
       "      <td>0</td>\n",
       "    </tr>\n",
       "    <tr>\n",
       "      <th>3</th>\n",
       "      <td>895</td>\n",
       "      <td>0</td>\n",
       "    </tr>\n",
       "    <tr>\n",
       "      <th>4</th>\n",
       "      <td>896</td>\n",
       "      <td>0</td>\n",
       "    </tr>\n",
       "    <tr>\n",
       "      <th>...</th>\n",
       "      <td>...</td>\n",
       "      <td>...</td>\n",
       "    </tr>\n",
       "    <tr>\n",
       "      <th>413</th>\n",
       "      <td>1305</td>\n",
       "      <td>0</td>\n",
       "    </tr>\n",
       "    <tr>\n",
       "      <th>414</th>\n",
       "      <td>1306</td>\n",
       "      <td>1</td>\n",
       "    </tr>\n",
       "    <tr>\n",
       "      <th>415</th>\n",
       "      <td>1307</td>\n",
       "      <td>0</td>\n",
       "    </tr>\n",
       "    <tr>\n",
       "      <th>416</th>\n",
       "      <td>1308</td>\n",
       "      <td>0</td>\n",
       "    </tr>\n",
       "    <tr>\n",
       "      <th>417</th>\n",
       "      <td>1309</td>\n",
       "      <td>0</td>\n",
       "    </tr>\n",
       "  </tbody>\n",
       "</table>\n",
       "<p>418 rows × 2 columns</p>\n",
       "</div>"
      ],
      "text/plain": [
       "     PassengerId  Survived\n",
       "0            892         0\n",
       "1            893         0\n",
       "2            894         0\n",
       "3            895         0\n",
       "4            896         0\n",
       "..           ...       ...\n",
       "413         1305         0\n",
       "414         1306         1\n",
       "415         1307         0\n",
       "416         1308         0\n",
       "417         1309         0\n",
       "\n",
       "[418 rows x 2 columns]"
      ]
     },
     "execution_count": 143,
     "metadata": {},
     "output_type": "execute_result"
    }
   ],
   "source": [
    "submit_4"
   ]
  },
  {
   "cell_type": "code",
   "execution_count": 144,
   "id": "d34d905f",
   "metadata": {
    "ExecuteTime": {
     "end_time": "2024-05-15T10:34:17.939323Z",
     "start_time": "2024-05-15T10:34:17.700444Z"
    },
    "hidden": true
   },
   "outputs": [],
   "source": [
    "# Salvando a base para a submissão\n",
    "submit_4.to_csv('submit_4.csv',index=False)"
   ]
  },
  {
   "cell_type": "markdown",
   "id": "90a15799",
   "metadata": {
    "hidden": true
   },
   "source": [
    "Chegamos que o Resultado Final para esse envio foi de 0.74880. Ou seja nosso modelo piorou desde o ultimo envio e provavelmente nosso modelo está sofrendo um overfitting, logo nosso modelo está funcionando melhor nos dados de treino porém nos dados de teste ele é pior. Vamos tentar nos livrar desse problema abaixo."
   ]
  },
  {
   "cell_type": "markdown",
   "id": "3433857a",
   "metadata": {
    "heading_collapsed": true
   },
   "source": [
    "#  ETAPA 5: Utilizando o GridSearchCV para Melhorar os Parâmetros e Previsão Final"
   ]
  },
  {
   "cell_type": "markdown",
   "id": "b188a3b3",
   "metadata": {
    "hidden": true
   },
   "source": [
    "Nessa parte final vamos utilizar tanto o Grid Search tanto o Kfold para procurar de forma automática quais são os melhores parametros de cada modelo que estamos utilizando."
   ]
  },
  {
   "cell_type": "code",
   "execution_count": 145,
   "id": "d2d9d5f6",
   "metadata": {
    "ExecuteTime": {
     "end_time": "2024-05-15T10:34:17.967262Z",
     "start_time": "2024-05-15T10:34:17.945872Z"
    },
    "hidden": true
   },
   "outputs": [],
   "source": [
    "# Garantindo nossas bases\n",
    "treino_8 = treino_7.copy()\n",
    "teste_8 = teste_7.copy()"
   ]
  },
  {
   "cell_type": "code",
   "execution_count": 146,
   "id": "419b9339",
   "metadata": {
    "ExecuteTime": {
     "end_time": "2024-05-15T10:34:18.059228Z",
     "start_time": "2024-05-15T10:34:17.972245Z"
    },
    "hidden": true
   },
   "outputs": [
    {
     "data": {
      "text/html": [
       "<div>\n",
       "<style scoped>\n",
       "    .dataframe tbody tr th:only-of-type {\n",
       "        vertical-align: middle;\n",
       "    }\n",
       "\n",
       "    .dataframe tbody tr th {\n",
       "        vertical-align: top;\n",
       "    }\n",
       "\n",
       "    .dataframe thead th {\n",
       "        text-align: right;\n",
       "    }\n",
       "</style>\n",
       "<table border=\"1\" class=\"dataframe\">\n",
       "  <thead>\n",
       "    <tr style=\"text-align: right;\">\n",
       "      <th></th>\n",
       "      <th>PassengerId</th>\n",
       "      <th>Survived</th>\n",
       "      <th>Pclass</th>\n",
       "      <th>Age</th>\n",
       "      <th>SibSp</th>\n",
       "      <th>Parch</th>\n",
       "      <th>Fare</th>\n",
       "      <th>Embarked</th>\n",
       "      <th>MaleCheck</th>\n",
       "      <th>Sozinho</th>\n",
       "      <th>Familiares</th>\n",
       "    </tr>\n",
       "  </thead>\n",
       "  <tbody>\n",
       "    <tr>\n",
       "      <th>0</th>\n",
       "      <td>1</td>\n",
       "      <td>0</td>\n",
       "      <td>3</td>\n",
       "      <td>-0.592240</td>\n",
       "      <td>1</td>\n",
       "      <td>0</td>\n",
       "      <td>-0.312011</td>\n",
       "      <td>0</td>\n",
       "      <td>1</td>\n",
       "      <td>0</td>\n",
       "      <td>1</td>\n",
       "    </tr>\n",
       "    <tr>\n",
       "      <th>1</th>\n",
       "      <td>2</td>\n",
       "      <td>1</td>\n",
       "      <td>1</td>\n",
       "      <td>0.638529</td>\n",
       "      <td>1</td>\n",
       "      <td>0</td>\n",
       "      <td>2.461242</td>\n",
       "      <td>1</td>\n",
       "      <td>0</td>\n",
       "      <td>0</td>\n",
       "      <td>1</td>\n",
       "    </tr>\n",
       "    <tr>\n",
       "      <th>2</th>\n",
       "      <td>3</td>\n",
       "      <td>1</td>\n",
       "      <td>3</td>\n",
       "      <td>-0.284548</td>\n",
       "      <td>0</td>\n",
       "      <td>0</td>\n",
       "      <td>-0.282777</td>\n",
       "      <td>0</td>\n",
       "      <td>0</td>\n",
       "      <td>1</td>\n",
       "      <td>0</td>\n",
       "    </tr>\n",
       "    <tr>\n",
       "      <th>3</th>\n",
       "      <td>4</td>\n",
       "      <td>1</td>\n",
       "      <td>1</td>\n",
       "      <td>0.407760</td>\n",
       "      <td>1</td>\n",
       "      <td>0</td>\n",
       "      <td>1.673732</td>\n",
       "      <td>0</td>\n",
       "      <td>0</td>\n",
       "      <td>0</td>\n",
       "      <td>1</td>\n",
       "    </tr>\n",
       "    <tr>\n",
       "      <th>4</th>\n",
       "      <td>5</td>\n",
       "      <td>0</td>\n",
       "      <td>3</td>\n",
       "      <td>0.407760</td>\n",
       "      <td>0</td>\n",
       "      <td>0</td>\n",
       "      <td>-0.277363</td>\n",
       "      <td>0</td>\n",
       "      <td>1</td>\n",
       "      <td>1</td>\n",
       "      <td>0</td>\n",
       "    </tr>\n",
       "  </tbody>\n",
       "</table>\n",
       "</div>"
      ],
      "text/plain": [
       "   PassengerId  Survived  Pclass       Age  SibSp  Parch      Fare  Embarked  \\\n",
       "0            1         0       3 -0.592240      1      0 -0.312011         0   \n",
       "1            2         1       1  0.638529      1      0  2.461242         1   \n",
       "2            3         1       3 -0.284548      0      0 -0.282777         0   \n",
       "3            4         1       1  0.407760      1      0  1.673732         0   \n",
       "4            5         0       3  0.407760      0      0 -0.277363         0   \n",
       "\n",
       "   MaleCheck  Sozinho  Familiares  \n",
       "0          1        0           1  \n",
       "1          0        0           1  \n",
       "2          0        1           0  \n",
       "3          0        0           1  \n",
       "4          1        1           0  "
      ]
     },
     "execution_count": 146,
     "metadata": {},
     "output_type": "execute_result"
    }
   ],
   "source": [
    "# Visualizando a base de treino\n",
    "treino_8.head()"
   ]
  },
  {
   "cell_type": "code",
   "execution_count": 147,
   "id": "45825f23",
   "metadata": {
    "ExecuteTime": {
     "end_time": "2024-05-15T10:34:18.370420Z",
     "start_time": "2024-05-15T10:34:18.062216Z"
    },
    "hidden": true
   },
   "outputs": [
    {
     "data": {
      "text/html": [
       "<div>\n",
       "<style scoped>\n",
       "    .dataframe tbody tr th:only-of-type {\n",
       "        vertical-align: middle;\n",
       "    }\n",
       "\n",
       "    .dataframe tbody tr th {\n",
       "        vertical-align: top;\n",
       "    }\n",
       "\n",
       "    .dataframe thead th {\n",
       "        text-align: right;\n",
       "    }\n",
       "</style>\n",
       "<table border=\"1\" class=\"dataframe\">\n",
       "  <thead>\n",
       "    <tr style=\"text-align: right;\">\n",
       "      <th></th>\n",
       "      <th>PassengerId</th>\n",
       "      <th>Pclass</th>\n",
       "      <th>Age</th>\n",
       "      <th>SibSp</th>\n",
       "      <th>Parch</th>\n",
       "      <th>Fare</th>\n",
       "      <th>Embarked</th>\n",
       "      <th>MaleCheck</th>\n",
       "      <th>Sozinho</th>\n",
       "      <th>Familiares</th>\n",
       "    </tr>\n",
       "  </thead>\n",
       "  <tbody>\n",
       "    <tr>\n",
       "      <th>0</th>\n",
       "      <td>892</td>\n",
       "      <td>3</td>\n",
       "      <td>0.331562</td>\n",
       "      <td>0</td>\n",
       "      <td>0</td>\n",
       "      <td>-0.281005</td>\n",
       "      <td>2</td>\n",
       "      <td>1</td>\n",
       "      <td>1</td>\n",
       "      <td>0</td>\n",
       "    </tr>\n",
       "    <tr>\n",
       "      <th>1</th>\n",
       "      <td>893</td>\n",
       "      <td>3</td>\n",
       "      <td>1.311954</td>\n",
       "      <td>1</td>\n",
       "      <td>0</td>\n",
       "      <td>-0.316176</td>\n",
       "      <td>0</td>\n",
       "      <td>0</td>\n",
       "      <td>0</td>\n",
       "      <td>1</td>\n",
       "    </tr>\n",
       "    <tr>\n",
       "      <th>2</th>\n",
       "      <td>894</td>\n",
       "      <td>2</td>\n",
       "      <td>2.488424</td>\n",
       "      <td>0</td>\n",
       "      <td>0</td>\n",
       "      <td>-0.202184</td>\n",
       "      <td>2</td>\n",
       "      <td>1</td>\n",
       "      <td>1</td>\n",
       "      <td>0</td>\n",
       "    </tr>\n",
       "    <tr>\n",
       "      <th>3</th>\n",
       "      <td>895</td>\n",
       "      <td>3</td>\n",
       "      <td>-0.256674</td>\n",
       "      <td>0</td>\n",
       "      <td>0</td>\n",
       "      <td>-0.245660</td>\n",
       "      <td>0</td>\n",
       "      <td>1</td>\n",
       "      <td>1</td>\n",
       "      <td>0</td>\n",
       "    </tr>\n",
       "    <tr>\n",
       "      <th>4</th>\n",
       "      <td>896</td>\n",
       "      <td>3</td>\n",
       "      <td>-0.648831</td>\n",
       "      <td>1</td>\n",
       "      <td>1</td>\n",
       "      <td>-0.091902</td>\n",
       "      <td>0</td>\n",
       "      <td>0</td>\n",
       "      <td>0</td>\n",
       "      <td>2</td>\n",
       "    </tr>\n",
       "  </tbody>\n",
       "</table>\n",
       "</div>"
      ],
      "text/plain": [
       "   PassengerId  Pclass       Age  SibSp  Parch      Fare  Embarked  MaleCheck  \\\n",
       "0          892       3  0.331562      0      0 -0.281005         2          1   \n",
       "1          893       3  1.311954      1      0 -0.316176         0          0   \n",
       "2          894       2  2.488424      0      0 -0.202184         2          1   \n",
       "3          895       3 -0.256674      0      0 -0.245660         0          1   \n",
       "4          896       3 -0.648831      1      1 -0.091902         0          0   \n",
       "\n",
       "   Sozinho  Familiares  \n",
       "0        1           0  \n",
       "1        0           1  \n",
       "2        1           0  \n",
       "3        1           0  \n",
       "4        0           2  "
      ]
     },
     "execution_count": 147,
     "metadata": {},
     "output_type": "execute_result"
    }
   ],
   "source": [
    "# E a base de teste\n",
    "teste_8.head()"
   ]
  },
  {
   "cell_type": "markdown",
   "id": "af4d8d02",
   "metadata": {
    "hidden": true
   },
   "source": [
    "Vamos fazer exatamente a mesma medida anterior, porém vamos diminuir o tamanho da nossa base de teste para 20% do total.\n",
    "Também vamos definir parametros especificos que vão melhorar a acurácia do nosso modelo."
   ]
  },
  {
   "cell_type": "code",
   "execution_count": 148,
   "id": "1e66ba89",
   "metadata": {
    "ExecuteTime": {
     "end_time": "2024-05-15T10:34:18.459327Z",
     "start_time": "2024-05-15T10:34:18.373341Z"
    },
    "hidden": true
   },
   "outputs": [],
   "source": [
    "#Separando em x e y para o treino\n",
    "x = treino_7.drop(['PassengerId', 'Survived'], axis=1)\n",
    "y = treino_7.Survived\n",
    "\n",
    "# Separando em treino e validação\n",
    "x_train, x_val, y_train, y_val = train_test_split(x,\n",
    "                                                  y,\n",
    "                                                  test_size=0.2,\n",
    "                                                  random_state=42)\n",
    "\n",
    "\n",
    "\n",
    "# regressão logística\n",
    "clf_rl = LogisticRegression(random_state=42)\n",
    "\n",
    "\n",
    "# Random Forest\n",
    "clf_rf = RandomForestClassifier(random_state=42)\n",
    "\n",
    "# MLPClassifier (Rede Neurais)\n",
    "clf_mlp = MLPClassifier(random_state=42)\n"
   ]
  },
  {
   "cell_type": "code",
   "execution_count": 149,
   "id": "05bdb4f0",
   "metadata": {
    "ExecuteTime": {
     "end_time": "2024-05-15T10:34:18.541252Z",
     "start_time": "2024-05-15T10:34:18.462366Z"
    },
    "code_folding": [],
    "hidden": true
   },
   "outputs": [],
   "source": [
    "# Parametros para a regressão logistica\n",
    "parametros_rl = {\n",
    "    'penalty' : ['l1','l2'],\n",
    "    'C'       : [0.01,0.1,1,10],\n",
    "    'solver'  : ['lbfgs','liblinear','saga'],\n",
    "    'max_iter': [100,1000,5000,10000]\n",
    "}"
   ]
  },
  {
   "cell_type": "code",
   "execution_count": 150,
   "id": "c98778d2",
   "metadata": {
    "ExecuteTime": {
     "end_time": "2024-05-15T10:34:18.614228Z",
     "start_time": "2024-05-15T10:34:18.546235Z"
    },
    "hidden": true
   },
   "outputs": [],
   "source": [
    "# Parametros para a random forest\n",
    "parametros_rf = {\n",
    "    'n_estimators': [100,200,500,1000],\n",
    "    'criterion'   : ['gini','entropy','log_loss'],\n",
    "    'max_depth'   : [2,4,6,8,None],\n",
    "    'max_features': ['sqrt','log2',None]\n",
    "}"
   ]
  },
  {
   "cell_type": "code",
   "execution_count": 151,
   "id": "44baef29",
   "metadata": {
    "ExecuteTime": {
     "end_time": "2024-05-15T10:34:18.744049Z",
     "start_time": "2024-05-15T10:34:18.616219Z"
    },
    "hidden": true
   },
   "outputs": [],
   "source": [
    "# Parametros para o MLP\n",
    "parametros_mlp = {\n",
    "    'solver'  : ['lbfgs','sgd','adam'],\n",
    "    'alpha'   : [10.0**(-1),10.0**(-5),10.0**(-7),10.0**(-10)],\n",
    "    'max_iter': [200,500,1000,5000]\n",
    "}"
   ]
  },
  {
   "cell_type": "markdown",
   "id": "41e6bce2",
   "metadata": {
    "hidden": true
   },
   "source": [
    "## Calculando os melhores parametros para cada modelo (DEMORA)"
   ]
  },
  {
   "cell_type": "code",
   "execution_count": 152,
   "id": "9a4af78f",
   "metadata": {
    "ExecuteTime": {
     "end_time": "2024-05-15T10:34:31.682931Z",
     "start_time": "2024-05-15T10:34:18.747039Z"
    },
    "hidden": true
   },
   "outputs": [],
   "source": [
    "# Para a regressão logística\n",
    "kfold_rl = KFold(shuffle=True,random_state=42,n_splits=8)\n",
    "grid_search_rl = GridSearchCV(clf_rl,parametros_rl,scoring='accuracy',cv=kfold_rl)\n",
    "grid_search_rl = grid_search_rl.fit(x_train,y_train)"
   ]
  },
  {
   "cell_type": "code",
   "execution_count": 153,
   "id": "c8e0db72",
   "metadata": {
    "ExecuteTime": {
     "end_time": "2024-05-15T10:59:46.999209Z",
     "start_time": "2024-05-15T10:34:31.684925Z"
    },
    "hidden": true
   },
   "outputs": [],
   "source": [
    "# Para a random forest\n",
    "kfold_rf = KFold(shuffle=True,random_state=42,n_splits=8)\n",
    "grid_search_rf = GridSearchCV(clf_rf,parametros_rf,scoring='accuracy',cv=kfold_rf)\n",
    "grid_search_rf = grid_search_rf.fit(x_train,y_train)"
   ]
  },
  {
   "cell_type": "code",
   "execution_count": 154,
   "id": "a5dcbfdb",
   "metadata": {
    "ExecuteTime": {
     "end_time": "2024-05-15T11:09:03.669984Z",
     "start_time": "2024-05-15T10:59:47.001254Z"
    },
    "hidden": true
   },
   "outputs": [],
   "source": [
    "# Para o MLP\n",
    "kfold_mlp = KFold(shuffle=True,random_state=42,n_splits=8)\n",
    "grid_search_mlp = GridSearchCV(clf_mlp,parametros_mlp,scoring='accuracy',cv=kfold_mlp)\n",
    "grid_search_mlp = grid_search_mlp.fit(x_train,y_train)"
   ]
  },
  {
   "cell_type": "markdown",
   "id": "9a4d7d60",
   "metadata": {
    "hidden": true
   },
   "source": [
    "## Verificando os melhores parametros"
   ]
  },
  {
   "cell_type": "code",
   "execution_count": 155,
   "id": "1638f87a",
   "metadata": {
    "ExecuteTime": {
     "end_time": "2024-05-15T11:09:03.679794Z",
     "start_time": "2024-05-15T11:09:03.672980Z"
    },
    "hidden": true
   },
   "outputs": [
    {
     "data": {
      "text/plain": [
       "{'C': 0.1, 'max_iter': 100, 'penalty': 'l2', 'solver': 'lbfgs'}"
      ]
     },
     "execution_count": 155,
     "metadata": {},
     "output_type": "execute_result"
    }
   ],
   "source": [
    "# Verificando os melhores parametros da regressão logística\n",
    "grid_search_rl.best_params_"
   ]
  },
  {
   "cell_type": "code",
   "execution_count": 156,
   "id": "9c18e11d",
   "metadata": {
    "ExecuteTime": {
     "end_time": "2024-05-15T11:09:03.839398Z",
     "start_time": "2024-05-15T11:09:03.682790Z"
    },
    "hidden": true
   },
   "outputs": [
    {
     "data": {
      "text/plain": [
       "{'criterion': 'entropy',\n",
       " 'max_depth': 6,\n",
       " 'max_features': 'sqrt',\n",
       " 'n_estimators': 100}"
      ]
     },
     "execution_count": 156,
     "metadata": {},
     "output_type": "execute_result"
    }
   ],
   "source": [
    "# Para o random forest\n",
    "grid_search_rf.best_params_"
   ]
  },
  {
   "cell_type": "code",
   "execution_count": 157,
   "id": "d30a916c",
   "metadata": {
    "ExecuteTime": {
     "end_time": "2024-05-15T11:09:03.968865Z",
     "start_time": "2024-05-15T11:09:03.842395Z"
    },
    "hidden": true
   },
   "outputs": [
    {
     "data": {
      "text/plain": [
       "{'alpha': 0.1, 'max_iter': 200, 'solver': 'adam'}"
      ]
     },
     "execution_count": 157,
     "metadata": {},
     "output_type": "execute_result"
    }
   ],
   "source": [
    "# Para o MLP\n",
    "grid_search_mlp.best_params_"
   ]
  },
  {
   "cell_type": "markdown",
   "id": "f9fd7475",
   "metadata": {
    "hidden": true
   },
   "source": [
    "## Melhores Scores"
   ]
  },
  {
   "cell_type": "code",
   "execution_count": 158,
   "id": "f8809a9c",
   "metadata": {
    "ExecuteTime": {
     "end_time": "2024-05-15T11:09:04.109632Z",
     "start_time": "2024-05-15T11:09:03.971862Z"
    },
    "hidden": true
   },
   "outputs": [
    {
     "data": {
      "text/plain": [
       "0.8089887640449438"
      ]
     },
     "execution_count": 158,
     "metadata": {},
     "output_type": "execute_result"
    }
   ],
   "source": [
    "# Verificando o melhor score da regressão logística\n",
    "grid_search_rl.best_score_"
   ]
  },
  {
   "cell_type": "code",
   "execution_count": 159,
   "id": "daa4ae1a",
   "metadata": {
    "ExecuteTime": {
     "end_time": "2024-05-15T11:09:04.250175Z",
     "start_time": "2024-05-15T11:09:04.112629Z"
    },
    "hidden": true
   },
   "outputs": [
    {
     "data": {
      "text/plain": [
       "0.8314606741573034"
      ]
     },
     "execution_count": 159,
     "metadata": {},
     "output_type": "execute_result"
    }
   ],
   "source": [
    "# Para a random forest\n",
    "grid_search_rf.best_score_"
   ]
  },
  {
   "cell_type": "code",
   "execution_count": 160,
   "id": "bd80a979",
   "metadata": {
    "ExecuteTime": {
     "end_time": "2024-05-15T11:09:04.489071Z",
     "start_time": "2024-05-15T11:09:04.254169Z"
    },
    "hidden": true
   },
   "outputs": [
    {
     "data": {
      "text/plain": [
       "0.8174157303370786"
      ]
     },
     "execution_count": 160,
     "metadata": {},
     "output_type": "execute_result"
    }
   ],
   "source": [
    "# Para o MLP\n",
    "grid_search_mlp.best_score_"
   ]
  },
  {
   "cell_type": "markdown",
   "id": "496b14a0",
   "metadata": {
    "hidden": true
   },
   "source": [
    "## Previssão com os melhores classificadores"
   ]
  },
  {
   "cell_type": "code",
   "execution_count": 161,
   "id": "a4c768dd",
   "metadata": {
    "ExecuteTime": {
     "end_time": "2024-05-15T11:09:04.619410Z",
     "start_time": "2024-05-15T11:09:04.493065Z"
    },
    "hidden": true
   },
   "outputs": [],
   "source": [
    "# Para a regressão Logística\n",
    "clf_best_rl = grid_search_rl.best_estimator_\n",
    "y_pred_rl = clf_best_rl.predict(x_val)"
   ]
  },
  {
   "cell_type": "code",
   "execution_count": 162,
   "id": "529c729b",
   "metadata": {
    "ExecuteTime": {
     "end_time": "2024-05-15T11:09:04.829591Z",
     "start_time": "2024-05-15T11:09:04.622407Z"
    },
    "hidden": true
   },
   "outputs": [],
   "source": [
    "# Para o Random Forest\n",
    "clf_best_rf = grid_search_rf.best_estimator_\n",
    "y_pred_rf = clf_best_rf.predict(x_val)"
   ]
  },
  {
   "cell_type": "code",
   "execution_count": 163,
   "id": "7dbcb68c",
   "metadata": {
    "ExecuteTime": {
     "end_time": "2024-05-15T11:09:04.990840Z",
     "start_time": "2024-05-15T11:09:04.832587Z"
    },
    "hidden": true
   },
   "outputs": [],
   "source": [
    "# Para o MLP\n",
    "clf_best_mlp = grid_search_mlp.best_estimator_\n",
    "y_pred_mlp = clf_best_mlp.predict(x_val)"
   ]
  },
  {
   "cell_type": "code",
   "execution_count": 164,
   "id": "6de53426",
   "metadata": {
    "ExecuteTime": {
     "end_time": "2024-05-15T11:09:05.157189Z",
     "start_time": "2024-05-15T11:09:04.994834Z"
    },
    "hidden": true
   },
   "outputs": [
    {
     "name": "stdout",
     "output_type": "stream",
     "text": [
      " A acurácia para o modelo da Regressão Logística é:  0.8045\n",
      " A acurácia para o modelo do Random Forest é:  0.8101\n",
      " A acurácia para o modelo do MLPClassifier (Redes Neurais) é:  0.8101\n"
     ]
    }
   ],
   "source": [
    "# Para a Regressão Logística\n",
    "print(f' A acurácia para o modelo da Regressão Logística é: {accuracy_score(y_val,y_pred_rl): .4f}')\n",
    "\n",
    "# Para  o Random Forest\n",
    "print(f' A acurácia para o modelo do Random Forest é: {accuracy_score(y_val,y_pred_rf): .4f}')\n",
    "\n",
    "# Para a MLP (Redes Neurais)\n",
    "print(f' A acurácia para o modelo do MLPClassifier (Redes Neurais) é: {accuracy_score(y_val,y_pred_mlp): .4f}')"
   ]
  },
  {
   "cell_type": "markdown",
   "id": "331fe452",
   "metadata": {
    "hidden": true
   },
   "source": [
    "Verificamos que tanto o Random Forest quanto o MLPClassifier deram o mesmo resultado para a acurácia nos dados de validação, porém como o modelo do Random Forest teve foi um pouco melhor nos dados de treino vamos utiliza-lo nessa última verificação com os dados de teste."
   ]
  },
  {
   "cell_type": "markdown",
   "id": "140b2e3d",
   "metadata": {
    "hidden": true
   },
   "source": [
    "## Fazendo a previsão para os dados de teste"
   ]
  },
  {
   "cell_type": "code",
   "execution_count": 165,
   "id": "a5feccec",
   "metadata": {
    "ExecuteTime": {
     "end_time": "2024-05-15T11:09:05.312657Z",
     "start_time": "2024-05-15T11:09:05.161184Z"
    },
    "hidden": true
   },
   "outputs": [
    {
     "data": {
      "text/html": [
       "<div>\n",
       "<style scoped>\n",
       "    .dataframe tbody tr th:only-of-type {\n",
       "        vertical-align: middle;\n",
       "    }\n",
       "\n",
       "    .dataframe tbody tr th {\n",
       "        vertical-align: top;\n",
       "    }\n",
       "\n",
       "    .dataframe thead th {\n",
       "        text-align: right;\n",
       "    }\n",
       "</style>\n",
       "<table border=\"1\" class=\"dataframe\">\n",
       "  <thead>\n",
       "    <tr style=\"text-align: right;\">\n",
       "      <th></th>\n",
       "      <th>Pclass</th>\n",
       "      <th>Age</th>\n",
       "      <th>SibSp</th>\n",
       "      <th>Parch</th>\n",
       "      <th>Fare</th>\n",
       "      <th>Embarked</th>\n",
       "      <th>MaleCheck</th>\n",
       "      <th>Sozinho</th>\n",
       "      <th>Familiares</th>\n",
       "    </tr>\n",
       "  </thead>\n",
       "  <tbody>\n",
       "    <tr>\n",
       "      <th>331</th>\n",
       "      <td>1</td>\n",
       "      <td>1.215452</td>\n",
       "      <td>0</td>\n",
       "      <td>0</td>\n",
       "      <td>0.608317</td>\n",
       "      <td>0</td>\n",
       "      <td>1</td>\n",
       "      <td>1</td>\n",
       "      <td>0</td>\n",
       "    </tr>\n",
       "    <tr>\n",
       "      <th>733</th>\n",
       "      <td>2</td>\n",
       "      <td>-0.515317</td>\n",
       "      <td>0</td>\n",
       "      <td>0</td>\n",
       "      <td>-0.062981</td>\n",
       "      <td>0</td>\n",
       "      <td>1</td>\n",
       "      <td>1</td>\n",
       "      <td>0</td>\n",
       "    </tr>\n",
       "    <tr>\n",
       "      <th>382</th>\n",
       "      <td>3</td>\n",
       "      <td>0.176991</td>\n",
       "      <td>0</td>\n",
       "      <td>0</td>\n",
       "      <td>-0.282777</td>\n",
       "      <td>0</td>\n",
       "      <td>1</td>\n",
       "      <td>1</td>\n",
       "      <td>0</td>\n",
       "    </tr>\n",
       "    <tr>\n",
       "      <th>704</th>\n",
       "      <td>3</td>\n",
       "      <td>-0.284548</td>\n",
       "      <td>1</td>\n",
       "      <td>0</td>\n",
       "      <td>-0.285843</td>\n",
       "      <td>0</td>\n",
       "      <td>1</td>\n",
       "      <td>0</td>\n",
       "      <td>1</td>\n",
       "    </tr>\n",
       "    <tr>\n",
       "      <th>813</th>\n",
       "      <td>3</td>\n",
       "      <td>-1.823009</td>\n",
       "      <td>4</td>\n",
       "      <td>2</td>\n",
       "      <td>0.728501</td>\n",
       "      <td>0</td>\n",
       "      <td>0</td>\n",
       "      <td>0</td>\n",
       "      <td>6</td>\n",
       "    </tr>\n",
       "  </tbody>\n",
       "</table>\n",
       "</div>"
      ],
      "text/plain": [
       "     Pclass       Age  SibSp  Parch      Fare  Embarked  MaleCheck  Sozinho  \\\n",
       "331       1  1.215452      0      0  0.608317         0          1        1   \n",
       "733       2 -0.515317      0      0 -0.062981         0          1        1   \n",
       "382       3  0.176991      0      0 -0.282777         0          1        1   \n",
       "704       3 -0.284548      1      0 -0.285843         0          1        0   \n",
       "813       3 -1.823009      4      2  0.728501         0          0        0   \n",
       "\n",
       "     Familiares  \n",
       "331           0  \n",
       "733           0  \n",
       "382           0  \n",
       "704           1  \n",
       "813           6  "
      ]
     },
     "execution_count": 165,
     "metadata": {},
     "output_type": "execute_result"
    }
   ],
   "source": [
    "# Visualizando o x_train\n",
    "x_train.head()"
   ]
  },
  {
   "cell_type": "code",
   "execution_count": 166,
   "id": "7af05e94",
   "metadata": {
    "ExecuteTime": {
     "end_time": "2024-05-15T11:09:05.499527Z",
     "start_time": "2024-05-15T11:09:05.315654Z"
    },
    "hidden": true
   },
   "outputs": [
    {
     "data": {
      "text/html": [
       "<div>\n",
       "<style scoped>\n",
       "    .dataframe tbody tr th:only-of-type {\n",
       "        vertical-align: middle;\n",
       "    }\n",
       "\n",
       "    .dataframe tbody tr th {\n",
       "        vertical-align: top;\n",
       "    }\n",
       "\n",
       "    .dataframe thead th {\n",
       "        text-align: right;\n",
       "    }\n",
       "</style>\n",
       "<table border=\"1\" class=\"dataframe\">\n",
       "  <thead>\n",
       "    <tr style=\"text-align: right;\">\n",
       "      <th></th>\n",
       "      <th>PassengerId</th>\n",
       "      <th>Survived</th>\n",
       "      <th>Pclass</th>\n",
       "      <th>Age</th>\n",
       "      <th>SibSp</th>\n",
       "      <th>Parch</th>\n",
       "      <th>Fare</th>\n",
       "      <th>Embarked</th>\n",
       "      <th>MaleCheck</th>\n",
       "      <th>Sozinho</th>\n",
       "      <th>Familiares</th>\n",
       "    </tr>\n",
       "  </thead>\n",
       "  <tbody>\n",
       "    <tr>\n",
       "      <th>0</th>\n",
       "      <td>1</td>\n",
       "      <td>0</td>\n",
       "      <td>3</td>\n",
       "      <td>-0.592240</td>\n",
       "      <td>1</td>\n",
       "      <td>0</td>\n",
       "      <td>-0.312011</td>\n",
       "      <td>0</td>\n",
       "      <td>1</td>\n",
       "      <td>0</td>\n",
       "      <td>1</td>\n",
       "    </tr>\n",
       "    <tr>\n",
       "      <th>1</th>\n",
       "      <td>2</td>\n",
       "      <td>1</td>\n",
       "      <td>1</td>\n",
       "      <td>0.638529</td>\n",
       "      <td>1</td>\n",
       "      <td>0</td>\n",
       "      <td>2.461242</td>\n",
       "      <td>1</td>\n",
       "      <td>0</td>\n",
       "      <td>0</td>\n",
       "      <td>1</td>\n",
       "    </tr>\n",
       "    <tr>\n",
       "      <th>2</th>\n",
       "      <td>3</td>\n",
       "      <td>1</td>\n",
       "      <td>3</td>\n",
       "      <td>-0.284548</td>\n",
       "      <td>0</td>\n",
       "      <td>0</td>\n",
       "      <td>-0.282777</td>\n",
       "      <td>0</td>\n",
       "      <td>0</td>\n",
       "      <td>1</td>\n",
       "      <td>0</td>\n",
       "    </tr>\n",
       "    <tr>\n",
       "      <th>3</th>\n",
       "      <td>4</td>\n",
       "      <td>1</td>\n",
       "      <td>1</td>\n",
       "      <td>0.407760</td>\n",
       "      <td>1</td>\n",
       "      <td>0</td>\n",
       "      <td>1.673732</td>\n",
       "      <td>0</td>\n",
       "      <td>0</td>\n",
       "      <td>0</td>\n",
       "      <td>1</td>\n",
       "    </tr>\n",
       "    <tr>\n",
       "      <th>4</th>\n",
       "      <td>5</td>\n",
       "      <td>0</td>\n",
       "      <td>3</td>\n",
       "      <td>0.407760</td>\n",
       "      <td>0</td>\n",
       "      <td>0</td>\n",
       "      <td>-0.277363</td>\n",
       "      <td>0</td>\n",
       "      <td>1</td>\n",
       "      <td>1</td>\n",
       "      <td>0</td>\n",
       "    </tr>\n",
       "  </tbody>\n",
       "</table>\n",
       "</div>"
      ],
      "text/plain": [
       "   PassengerId  Survived  Pclass       Age  SibSp  Parch      Fare  Embarked  \\\n",
       "0            1         0       3 -0.592240      1      0 -0.312011         0   \n",
       "1            2         1       1  0.638529      1      0  2.461242         1   \n",
       "2            3         1       3 -0.284548      0      0 -0.282777         0   \n",
       "3            4         1       1  0.407760      1      0  1.673732         0   \n",
       "4            5         0       3  0.407760      0      0 -0.277363         0   \n",
       "\n",
       "   MaleCheck  Sozinho  Familiares  \n",
       "0          1        0           1  \n",
       "1          0        0           1  \n",
       "2          0        1           0  \n",
       "3          0        0           1  \n",
       "4          1        1           0  "
      ]
     },
     "execution_count": 166,
     "metadata": {},
     "output_type": "execute_result"
    }
   ],
   "source": [
    "# Visualizando os dados de treinos\n",
    "treino_8.head()"
   ]
  },
  {
   "cell_type": "code",
   "execution_count": 167,
   "id": "431fe407",
   "metadata": {
    "ExecuteTime": {
     "end_time": "2024-05-15T11:09:05.635176Z",
     "start_time": "2024-05-15T11:09:05.503523Z"
    },
    "hidden": true
   },
   "outputs": [],
   "source": [
    "# Para a base de teste ser igual a base de treino, precisamos eliminar a coluna de id\n",
    "x_teste = teste_8.drop('PassengerId',axis=1)"
   ]
  },
  {
   "cell_type": "code",
   "execution_count": 168,
   "id": "458303bd",
   "metadata": {
    "ExecuteTime": {
     "end_time": "2024-05-15T11:09:05.797701Z",
     "start_time": "2024-05-15T11:09:05.637175Z"
    },
    "hidden": true
   },
   "outputs": [],
   "source": [
    "# Utilizando o melhor modelo na base de teste\n",
    "y_pred = clf_best_rf.predict(x_teste)"
   ]
  },
  {
   "cell_type": "code",
   "execution_count": 169,
   "id": "e9e6bfc4",
   "metadata": {
    "ExecuteTime": {
     "end_time": "2024-05-15T11:09:05.956899Z",
     "start_time": "2024-05-15T11:09:05.800698Z"
    },
    "hidden": true
   },
   "outputs": [],
   "source": [
    "# Ciando uma nova coluna com a previsão na base de teste\n",
    "submit_5 = teste_8.copy()\n",
    "submit_5['Survived'] = y_pred\n",
    "submit_5 = submit_5[[\"PassengerId\",'Survived']]"
   ]
  },
  {
   "cell_type": "code",
   "execution_count": 170,
   "id": "82c0baca",
   "metadata": {
    "ExecuteTime": {
     "end_time": "2024-05-15T11:09:06.250035Z",
     "start_time": "2024-05-15T11:09:05.960891Z"
    },
    "hidden": true
   },
   "outputs": [
    {
     "data": {
      "text/html": [
       "<div>\n",
       "<style scoped>\n",
       "    .dataframe tbody tr th:only-of-type {\n",
       "        vertical-align: middle;\n",
       "    }\n",
       "\n",
       "    .dataframe tbody tr th {\n",
       "        vertical-align: top;\n",
       "    }\n",
       "\n",
       "    .dataframe thead th {\n",
       "        text-align: right;\n",
       "    }\n",
       "</style>\n",
       "<table border=\"1\" class=\"dataframe\">\n",
       "  <thead>\n",
       "    <tr style=\"text-align: right;\">\n",
       "      <th></th>\n",
       "      <th>PassengerId</th>\n",
       "      <th>Survived</th>\n",
       "    </tr>\n",
       "  </thead>\n",
       "  <tbody>\n",
       "    <tr>\n",
       "      <th>0</th>\n",
       "      <td>892</td>\n",
       "      <td>0</td>\n",
       "    </tr>\n",
       "    <tr>\n",
       "      <th>1</th>\n",
       "      <td>893</td>\n",
       "      <td>0</td>\n",
       "    </tr>\n",
       "    <tr>\n",
       "      <th>2</th>\n",
       "      <td>894</td>\n",
       "      <td>0</td>\n",
       "    </tr>\n",
       "    <tr>\n",
       "      <th>3</th>\n",
       "      <td>895</td>\n",
       "      <td>0</td>\n",
       "    </tr>\n",
       "    <tr>\n",
       "      <th>4</th>\n",
       "      <td>896</td>\n",
       "      <td>1</td>\n",
       "    </tr>\n",
       "    <tr>\n",
       "      <th>...</th>\n",
       "      <td>...</td>\n",
       "      <td>...</td>\n",
       "    </tr>\n",
       "    <tr>\n",
       "      <th>413</th>\n",
       "      <td>1305</td>\n",
       "      <td>0</td>\n",
       "    </tr>\n",
       "    <tr>\n",
       "      <th>414</th>\n",
       "      <td>1306</td>\n",
       "      <td>1</td>\n",
       "    </tr>\n",
       "    <tr>\n",
       "      <th>415</th>\n",
       "      <td>1307</td>\n",
       "      <td>0</td>\n",
       "    </tr>\n",
       "    <tr>\n",
       "      <th>416</th>\n",
       "      <td>1308</td>\n",
       "      <td>0</td>\n",
       "    </tr>\n",
       "    <tr>\n",
       "      <th>417</th>\n",
       "      <td>1309</td>\n",
       "      <td>0</td>\n",
       "    </tr>\n",
       "  </tbody>\n",
       "</table>\n",
       "<p>418 rows × 2 columns</p>\n",
       "</div>"
      ],
      "text/plain": [
       "     PassengerId  Survived\n",
       "0            892         0\n",
       "1            893         0\n",
       "2            894         0\n",
       "3            895         0\n",
       "4            896         1\n",
       "..           ...       ...\n",
       "413         1305         0\n",
       "414         1306         1\n",
       "415         1307         0\n",
       "416         1308         0\n",
       "417         1309         0\n",
       "\n",
       "[418 rows x 2 columns]"
      ]
     },
     "execution_count": 170,
     "metadata": {},
     "output_type": "execute_result"
    }
   ],
   "source": [
    "submit_5"
   ]
  },
  {
   "cell_type": "code",
   "execution_count": 171,
   "id": "7db7b7bd",
   "metadata": {
    "ExecuteTime": {
     "end_time": "2024-05-15T11:09:06.418041Z",
     "start_time": "2024-05-15T11:09:06.253032Z"
    },
    "hidden": true
   },
   "outputs": [],
   "source": [
    "# Salvando a base para a submissão\n",
    "submit_5.to_csv('submit_5.csv',index=False)"
   ]
  },
  {
   "cell_type": "markdown",
   "id": "83c28c4b",
   "metadata": {
    "hidden": true
   },
   "source": [
    "Para Essa última parte obtivemos uma acurácia de 0,77990 no envio do kaggle sendo nossa melhor acurácia até o momento."
   ]
  },
  {
   "cell_type": "markdown",
   "id": "5264b3f6",
   "metadata": {},
   "source": [
    "# Gráfico com o Resumo dos Resultados da Acurácia"
   ]
  },
  {
   "cell_type": "code",
   "execution_count": 49,
   "id": "6b39d7ce",
   "metadata": {
    "ExecuteTime": {
     "end_time": "2024-05-20T20:34:50.412360Z",
     "start_time": "2024-05-20T20:34:50.152676Z"
    }
   },
   "outputs": [
    {
     "data": {
      "image/png": "[encoded data removed]",
      "text/plain": [
       "<Figure size 1000x500 with 1 Axes>"
      ]
     },
     "metadata": {},
     "output_type": "display_data"
    }
   ],
   "source": [
    "x = [1,2,3,4,5]\n",
    "y = [0.6675,0.7656,0.7703,0.6986,0.7823]\n",
    "\n",
    "fig, ax = plt.subplots(figsize= (10,5))\n",
    "\n",
    "ax.set_xticks([1,2,3,4,5])\n",
    "ax.set_yticks([0.5,0.70,0.9])\n",
    "ax.set_title('Acurácia de Cada Etapa do Projeto', fontsize=20)\n",
    "\n",
    "plt.plot(x,y,'-bo',markersize=10)\n",
    "plt.ylim(0.5,0.9)\n",
    "\n",
    "\n",
    "for l in range(0,5):\n",
    "    \n",
    "    plt.annotate(y[l],(x[l],y[l]), xytext=(x[l],y[l]+0.04),ha='center',fontsize=14)"
   ]
  }
 ],
 "metadata": {
  "kernelspec": {
   "display_name": "Python 3 (ipykernel)",
   "language": "python",
   "name": "python3"
  },
  "language_info": {
   "codemirror_mode": {
    "name": "ipython",
    "version": 3
   },
   "file_extension": ".py",
   "mimetype": "text/x-python",
   "name": "python",
   "nbconvert_exporter": "python",
   "pygments_lexer": "ipython3",
   "version": "3.11.5"
  }
 },
 "nbformat": 4,
 "nbformat_minor": 5
}
